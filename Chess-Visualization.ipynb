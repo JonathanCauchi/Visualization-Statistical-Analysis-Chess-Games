{
 "cells": [
  {
   "cell_type": "code",
   "execution_count": 179,
   "metadata": {},
   "outputs": [],
   "source": [
    "import pandas as pd\n",
    "import chess.pgn\n",
    "import matplotlib.pyplot as plt\n",
    "import seaborn as sns\n",
    "import plotly.graph_objects as go\n",
    "from scipy import stats\n",
    "import statsmodels.api as sm\n",
    "import pylab as pl"
   ]
  },
  {
   "cell_type": "markdown",
   "metadata": {},
   "source": [
    "All the documentation needed to use this library is here: https://readthedocs.org/projects/python-chess/downloads/pdf/latest/"
   ]
  },
  {
   "cell_type": "markdown",
   "metadata": {},
   "source": [
    "### Only a batch of the 2.2 million games were visualized, 7000 games were taken from the file specified in the cell below"
   ]
  },
  {
   "cell_type": "code",
   "execution_count": 27,
   "metadata": {},
   "outputs": [],
   "source": [
    "pgn = open(\"KingBase2019-A80-A99.pgn\")\n",
    "games = [] \n",
    "i = 0\n",
    "while i < 7000:\n",
    "    game = chess.pgn.read_game(pgn)\n",
    "    games.append(game)\n",
    "    i += 1"
   ]
  },
  {
   "cell_type": "code",
   "execution_count": 78,
   "metadata": {},
   "outputs": [
    {
     "data": {
      "text/plain": [
       "[<Game at 0x7f0af6ed1e80 ('Srihari, L R' vs. 'Sandipan, Chanda', '2018.12.31')>,\n",
       " <Game at 0x7f0b1e53a630 ('Ravi, Teja S' vs. 'Thipsay, Bagyashree Sathe', '2018.12.31')>,\n",
       " <Game at 0x7f0aff27c390 ('Rohith, Krishna S' vs. 'Yeoh, Li Tian', '2018.12.31')>,\n",
       " <Game at 0x7f0aff2fcb00 ('Liu, Yi' vs. 'Ikeda, Junta', '2018.12.31')>,\n",
       " <Game at 0x7f0af6fafdd8 ('Deshpande, Ani' vs. 'Kulkarni, Vikramaditya', '2018.12.31')>,\n",
       " <Game at 0x7f0b1088e630 ('Leenhouts, Koen' vs. 'Stefansson, Vignir Vatnar', '2018.12.31')>,\n",
       " <Game at 0x7f0afe8beac8 ('Sokolov, Andrei2' vs. 'Gareev, Timur', '2018.12.30')>,\n",
       " <Game at 0x7f0afe8b1278 ('Vo, Thi Kim Phung' vs. 'Nomin-Erdene, Davaademberel', '2018.12.30')>,\n",
       " <Game at 0x7f0afe888860 ('Chkhaidze, Nikoloz' vs. 'Antal, Gergely', '2018.12.30')>,\n",
       " <Game at 0x7f0afe8ae710 ('Sjugirov, Sanan' vs. 'Amin, Bassem', '2018.12.30')>,\n",
       " <Game at 0x7f0afe89d588 ('Naumkin, Igor' vs. 'Henderson de La Fuente, Lance', '2018.12.30')>,\n",
       " <Game at 0x7f0afe8ae518 ('Sanikidze, Tornike' vs. 'Piorun, Kacper', '2018.12.30')>,\n",
       " <Game at 0x7f0aff5f7f60 ('Koneru, Humpy' vs. 'Vega Gutierrez, Sabrina', '2018.12.30')>,\n",
       " <Game at 0x7f0aff5faba8 ('Vestby-Ellingsen, Mads' vs. 'Hauge, Lars Oskar', '2018.12.30')>,\n",
       " <Game at 0x7f0b0c21d208 ('Sakaev, Konstantin' vs. 'Paravyan, David', '2018.12.30')>,\n",
       " <Game at 0x7f0aff5d4358 ('Protopopova, Anastasiya' vs. 'Arutyunova, Diana', '2018.12.30')>,\n",
       " <Game at 0x7f0b0c219518 ('Koneru, Humpy' vs. 'Nomin-Erdene, Davaademberel', '2018.12.30')>,\n",
       " <Game at 0x7f0b0c221c18 ('Gasanov, Eldar' vs. 'Tsoi, Dmitry', '2018.12.30')>,\n",
       " <Game at 0x7f0b0bd93668 ('Maletina, Tatiana' vs. 'Muzychuk, Anna', '2018.12.30')>,\n",
       " <Game at 0x7f0b0bd97c88 ('Solozhenkin, Evgeniy' vs. 'Gines Esteo, Pedro Antonio', '2018.12.30')>,\n",
       " <Game at 0x7f0b0b361ba8 ('Anisimov, P2' vs. 'Gordievsky, Dmitry', '2018.12.30')>,\n",
       " <Game at 0x7f0b0bdb39e8 ('Khotenashvili, Bela' vs. 'Muzychuk, Anna', '2018.12.30')>,\n",
       " <Game at 0x7f0b0b36eb00 ('Najer, Evgeniy' vs. 'Tsoi, Dmitry', '2018.12.30')>,\n",
       " <Game at 0x7f0b0c123ba8 ('Kjartansson, Gudmundur' vs. 'Lyell, M', '2018.12.30')>,\n",
       " <Game at 0x7f0b0c132438 ('Yilmaz, Mustafa' vs. 'Amin, Bassem', '2018.12.30')>,\n",
       " <Game at 0x7f0b0eaf8518 ('Anikonov, Dmitry' vs. 'Tsoi, Dmitry', '2018.12.30')>,\n",
       " <Game at 0x7f0b0c102780 ('Anisimov, P2' vs. 'Gasanov, Eldar', '2018.12.30')>,\n",
       " <Game at 0x7f0b0eae6748 ('Salgado Lopez, Ivan' vs. 'Gordievsky, Dmitry', '2018.12.30')>,\n",
       " <Game at 0x7f0b0eade588 ('Galliamova, Alisa' vs. 'Mammadova, Gulnar', '2018.12.30')>,\n",
       " <Game at 0x7f0b0eaf8390 ('Gromova, Iulia' vs. 'Arutyunova, Diana', '2018.12.30')>,\n",
       " <Game at 0x7f0b0eaf1438 ('Javakhishvili, Lela' vs. 'Nomin-Erdene, Davaademberel', '2018.12.29')>,\n",
       " <Game at 0x7f0b0fb8f6a0 ('Eliseev, Alexey' vs. 'Potapov, Pavel', '2018.12.29')>,\n",
       " <Game at 0x7f0b0fbae048 ('Goltseva, Ekaterina' vs. 'Vasilevich, Irina', '2018.12.29')>,\n",
       " <Game at 0x7f0b0fba4048 ('Cramling, Pia' vs. 'Mammadova, Gulnar', '2018.12.29')>,\n",
       " <Game at 0x7f0b0af2ee10 ('Afonasieva, Anna' vs. 'Arutyunova, Diana', '2018.12.29')>,\n",
       " <Game at 0x7f0b097292b0 ('Koneru, Humpy' vs. 'Mammadova, Gulnar', '2018.12.29')>,\n",
       " <Game at 0x7f0b097016d8 ('Duda, Jan-Krzysztof' vs. 'Potapov, Pavel', '2018.12.29')>,\n",
       " <Game at 0x7f0b0970b630 ('Ushenina, Anna' vs. 'Arutyunova, Diana', '2018.12.29')>,\n",
       " <Game at 0x7f0b0af01f28 ('Sokolov, Andrei2' vs. 'Vlassov, Nikolai', '2018.12.29')>,\n",
       " <Game at 0x7f0b0ba126a0 ('Goldenberg, Igor' vs. 'Lakner, Jay', '2018.12.29')>,\n",
       " <Game at 0x7f0b0ba40ef0 ('Miton, Kamil' vs. 'Yakubboev, Nodirbek', '2018.12.29')>,\n",
       " <Game at 0x7f0b0ba16588 ('Feldmann, Johannes' vs. 'Derichs, Roger', '2018.12.29')>,\n",
       " <Game at 0x7f0b09720ba8 ('Adly, Ahmed' vs. 'Potapov, Pavel', '2018.12.29')>,\n",
       " <Game at 0x7f0b0ceff390 ('Tonina, Filippo' vs. 'Caruso, Augusto', '2018.12.29')>,\n",
       " <Game at 0x7f0b0ba39710 ('Anikonov, Dmitry' vs. 'Amin, Bassem', '2018.12.29')>,\n",
       " <Game at 0x7f0b0cec6550 ('Lysenko, Margarita' vs. 'Ovod, Evgenija', '2018.12.29')>,\n",
       " <Game at 0x7f0b0cef5438 ('Borisova, Ekaterina' vs. 'Maletina, Tatiana', '2018.12.29')>,\n",
       " <Game at 0x7f0b0db82e48 ('Gordievsky, Dmitry' vs. 'Tsoi, Dmitry', '2018.12.29')>,\n",
       " <Game at 0x7f0b0ba1d160 ('Kryakvin, Dmitry' vs. 'Tsoi, Dmitry', '2018.12.29')>,\n",
       " <Game at 0x7f0b0db87908 ('Oparin, Grigoriy' vs. 'Tsoi, Dmitry', '2018.12.29')>,\n",
       " <Game at 0x7f0b0f7bc198 ('Drygalov, Sergey' vs. 'Amin, Bassem', '2018.12.29')>,\n",
       " <Game at 0x7f0b0f788470 ('Alekseev, Evgeny' vs. 'Vlassov, Nikolai', '2018.12.29')>,\n",
       " <Game at 0x7f0b0cec8c50 ('Anton Guijarro, David' vs. 'Tsoi, Dmitry', '2018.12.29')>,\n",
       " <Game at 0x7f0b0f7af320 ('Guichard, Pauline' vs. 'Muzychuk, Anna', '2018.12.29')>,\n",
       " <Game at 0x7f0b0dbb99b0 ('Seliverstov, Vladimir' vs. 'Amin, Bassem', '2018.12.29')>,\n",
       " <Game at 0x7f0b0f7b0a20 ('Usmanov, Vasily' vs. 'Anton Guijarro, David', '2018.12.29')>,\n",
       " <Game at 0x7f0b0e98b780 ('Luch, Michal' vs. 'Gines Esteo, Pedro Antonio', '2018.12.29')>,\n",
       " <Game at 0x7f0b0a9b8208 ('Nakhbayeva, Guliskhan' vs. 'Shaydullina, Sandugach', '2018.12.29')>,\n",
       " <Game at 0x7f0b0a9b1ef0 ('Goltseva, Ekaterina' vs. 'Nomin-Erdene, Davaademberel', '2018.12.28')>,\n",
       " <Game at 0x7f0b0a999978 ('Iljushina, Olga' vs. 'Charochkina, Daria', '2018.12.28')>,\n",
       " <Game at 0x7f0b0bbf5630 ('Jobava, Baadur' vs. 'Potapov, Pavel', '2018.12.28')>,\n",
       " <Game at 0x7f0b0bbe4470 ('Tsatsalashvili, Keti' vs. 'Shaydullina, Sandugach', '2018.12.28')>,\n",
       " <Game at 0x7f0b0a9a55f8 ('Riazantsev, Alexander' vs. 'Nakamura, Hikaru', '2018.12.28')>,\n",
       " <Game at 0x7f0b0a9a8518 ('Mamedyarov, Shakhriyar' vs. 'Anton Guijarro, David', '2018.12.28')>,\n",
       " <Game at 0x7f0b0a996c88 ('Oganian, Miran' vs. 'Sychev, Klementy', '2018.12.28')>,\n",
       " <Game at 0x7f0b105c75c0 ('Zakhartsov, Vladimir' vs. 'Vaisser, Anatoly', '2018.12.28')>,\n",
       " <Game at 0x7f0b105e7ba8 ('Shafigullina, Zarina' vs. 'Maletina, Tatiana', '2018.12.28')>,\n",
       " <Game at 0x7f0b105e1828 ('Ipatov, Alexander' vs. 'Arribas Lopez, Angel', '2018.12.28')>,\n",
       " <Game at 0x7f0b0d0a76d8 ('Kololli, Martin' vs. 'Boehning, Kilian', '2018.12.28')>,\n",
       " <Game at 0x7f0b0d09f0b8 ('Willson, Ollie' vs. 'Stefansson, Vignir Vatnar', '2018.12.28')>,\n",
       " <Game at 0x7f0b105fc6a0 ('Kucuksari, Kaan' vs. 'Hauge, Lars Oskar', '2018.12.28')>,\n",
       " <Game at 0x7f0b0d0a63c8 ('Pogosyan, Stefan' vs. 'Gordievsky, Dmitry', '2018.12.28')>,\n",
       " <Game at 0x7f0b0f7629e8 ('Kryakvin, Dmitry' vs. 'Najer, Evgeniy', '2018.12.28')>,\n",
       " <Game at 0x7f0b0f772d68 ('Rahul, Srivatshav P' vs. 'Ter-Sahakyan, Samvel', '2018.12.28')>,\n",
       " <Game at 0x7f0b0f767f60 ('Cori, Jorge' vs. 'Adve, Anshul', '2018.12.28')>,\n",
       " <Game at 0x7f0afe978240 ('Vrolijk, Liam' vs. 'Ulibin, Mikhail', '2018.12.28')>,\n",
       " <Game at 0x7f0afe97b978 ('Shaydullina, Sandugach' vs. 'Charochkina, Daria', '2018.12.28')>,\n",
       " <Game at 0x7f0afe968390 ('Bezgodova, Svetlana' vs. 'Nomin-Erdene, Davaademberel', '2018.12.28')>,\n",
       " <Game at 0x7f0afe95de10 ('Grooten, Herman' vs. 'Hovsepyan, Vardan', '2018.12.27')>,\n",
       " <Game at 0x7f0b09e2cd30 ('Tsatsalashvili, Keti' vs. 'Strutinskaia, Galina', '2018.12.27')>,\n",
       " <Game at 0x7f0b09e17f98 ('Chernyak, Viktoria' vs. 'Charochkina, Daria', '2018.12.27')>,\n",
       " <Game at 0x7f0b09e2cfd0 ('Sviridova, Vlada' vs. 'Charochkina, Daria', '2018.12.27')>,\n",
       " <Game at 0x7f0b0e4cddd8 ('Ju, Wenjun' vs. 'Muzychuk, Anna', '2018.12.27')>,\n",
       " <Game at 0x7f0b09e23710 ('Smirnova, Ekaterina' vs. 'Nomin-Erdene, Davaademberel', '2018.12.27')>,\n",
       " <Game at 0x7f0b0e4e2a20 ('Lysenko, Margarita' vs. 'Arutyunova, Diana', '2018.12.27')>,\n",
       " <Game at 0x7f0b0cb47da0 ('Dreev, Aleksey' vs. 'Potapov, Pavel', '2018.12.27')>,\n",
       " <Game at 0x7f0b0cb62898 ('Sukhareva, Evgeniya' vs. 'Mamedjarova, Zeinab', '2018.12.27')>,\n",
       " <Game at 0x7f0afeba71d0 ('Ashwath, R' vs. 'Gleizerov, Evgeny', '2018.12.27')>,\n",
       " <Game at 0x7f0afeb89668 ('Vorotnikov, V1' vs. 'Hakobyan, Aram', '2018.12.27')>,\n",
       " <Game at 0x7f0afe7befd0 ('Chernyak, Viktoria' vs. 'Mammadova, Gulnar', '2018.12.26')>,\n",
       " <Game at 0x7f0afe79d518 ('Mamedjarova, Turkan' vs. 'Arutyunova, Diana', '2018.12.26')>,\n",
       " <Game at 0x7f0afebae240 ('Dumancic, Pero' vs. 'Sedlak, Nikola', '2018.12.26')>,\n",
       " <Game at 0x7f0afe796748 ('Zhao, Xue' vs. 'Ovod, Evgenija', '2018.12.26')>,\n",
       " <Game at 0x7f0afe7bc908 ('Csonka, Balazs' vs. 'Praxmarer, Christian', '2018.12.26')>,\n",
       " <Game at 0x7f0afe796358 ('Bindrich, Falko' vs. 'Tsoi, Dmitry', '2018.12.26')>,\n",
       " <Game at 0x7f0b0f2a45f8 ('Jakovenko, Dmitry' vs. 'Potapov, Pavel', '2018.12.26')>,\n",
       " <Game at 0x7f0b0f2b2b70 ('Mamedyarov, Shakhriyar' vs. 'Gasanov, Eldar', '2018.12.26')>,\n",
       " <Game at 0x7f0afe7a3208 ('Demidov, Mikhail' vs. 'Anton Guijarro, David', '2018.12.26')>,\n",
       " <Game at 0x7f0b0f288a20 ('Lysenko, Margarita' vs. 'Nomin-Erdene, Davaademberel', '2018.12.26')>,\n",
       " <Game at 0x7f0b0f284f98 ('Meskovs, Nikita' vs. 'Krustkalns, Kristaps', '2018.12.24')>,\n",
       " <Game at 0x7f0b0fb1fa58 ('Maatman, Nick' vs. 'Pruijssers, Roeland', '2018.12.23')>,\n",
       " <Game at 0x7f0b0fb180b8 ('Kokje, Joris' vs. 'Gleizerov, Evgeny', '2018.12.23')>,\n",
       " <Game at 0x7f0b0fb0dac8 ('Neuman, Petr' vs. 'Laznicka, Viktor', '2018.12.22')>,\n",
       " <Game at 0x7f0b09ffbd30 ('Zpevakova, J' vs. 'Korenova, Martina', '2018.12.22')>,\n",
       " <Game at 0x7f0b09ff9f98 ('Garriga Cazorla, Pere' vs. 'Gordievsky, Dmitry', '2018.12.22')>,\n",
       " <Game at 0x7f0b09fdc6d8 ('Seeman, Tarvo' vs. 'Krustkalns, Kristaps', '2018.12.22')>,\n",
       " <Game at 0x7f0b09fe8b70 ('Bukal, Vladimir Jr' vs. 'Nester, Ihor', '2018.12.22')>,\n",
       " <Game at 0x7f0b09ff14a8 ('Michalik, Peter' vs. 'Laznicka, Viktor', '2018.12.22')>,\n",
       " <Game at 0x7f0b102e7550 ('Livaic, Leon' vs. 'Nester, Ihor', '2018.12.21')>,\n",
       " <Game at 0x7f0b0a0002b0 ('Kantorik, Marian' vs. 'Zelic, Mladen', '2018.12.21')>,\n",
       " <Game at 0x7f0b102d1c50 ('Rosen, Eric S' vs. 'Levi, Eddy', '2018.12.20')>,\n",
       " <Game at 0x7f0b102d9940 ('Hornell, Colin' vs. 'Vaingorten, Yaaqov', '2018.12.19')>,\n",
       " <Game at 0x7f0afee2c518 ('Wallis, Christopher' vs. 'Cheng, Bobby', '2018.12.18')>,\n",
       " <Game at 0x7f0afee1cba8 ('Pogorelov, Ruslan' vs. 'Gordievsky, Dmitry', '2018.12.18')>,\n",
       " <Game at 0x7f0b102e3198 ('Obolentseva, Alexandra' vs. 'Safin, Robert', '2018.12.18')>,\n",
       " <Game at 0x7f0afee20978 ('Benkovic, Petar' vs. 'Lundin, Jan', '2018.12.17')>,\n",
       " <Game at 0x7f0b0b2cd080 ('Goltseva, Ekaterina' vs. 'Safin, Robert', '2018.12.17')>,\n",
       " <Game at 0x7f0b0b2d4e80 ('Tomic, Aleksandar' vs. 'Nikac, Predrag', '2018.12.17')>,\n",
       " <Game at 0x7f0afee201d0 ('Esplugas Esteve, V1' vs. 'Henderson de La Fuente, Lance', '2018.12.17')>,\n",
       " <Game at 0x7f0b0b2cd400 ('Kumsiashvili, Nikoloz' vs. 'Nilsson, P1', '2018.12.16')>,\n",
       " <Game at 0x7f0b0b2c2dd8 ('Rahul, Srivatshav P' vs. 'Vignesh, NR', '2018.12.15')>,\n",
       " <Game at 0x7f0b0b2f0048 ('Van der Lende, Ilias' vs. 'Pruijssers, Roeland', '2018.12.15')>,\n",
       " <Game at 0x7f0b0d5cf908 ('Mastrovasilis, Athanasios' vs. 'Grivas, Efstratios', '2018.12.15')>,\n",
       " <Game at 0x7f0b0d5c4cf8 ('Bezuidenhout, Roland' vs. 'Lyell, M', '2018.12.15')>,\n",
       " <Game at 0x7f0b0e6cd3c8 ('Kucuksari, Kaan' vs. 'Nilsson, P1', '2018.12.15')>,\n",
       " <Game at 0x7f0b0d5ce518 ('Laxman, R R' vs. 'Sandipan, Chanda', '2018.12.15')>,\n",
       " <Game at 0x7f0b0e6d38d0 ('Razin, Vadim' vs. 'Petkovic, Peter', '2018.12.15')>,\n",
       " <Game at 0x7f0b0d5f3710 ('Kastelic, Marian' vs. 'Borisek, Jure', '2018.12.15')>,\n",
       " <Game at 0x7f0b0e6d9dd8 ('Razin, Vadim' vs. 'Petersson, Kjell', '2018.12.15')>,\n",
       " <Game at 0x7f0b109af4e0 ('Li, Bo' vs. 'Gunawan, Ronny', '2018.12.14')>,\n",
       " <Game at 0x7f0b0e6cb7b8 ('Quinn, John M' vs. 'Lane, Gary W', '2018.12.14')>,\n",
       " <Game at 0x7f0b1098f4e0 ('Peralta, Fernando' vs. 'Kholopov, Alexander A', '2018.12.14')>,\n",
       " <Game at 0x7f0b0e6c9668 ('Kunte, Abhijit' vs. 'Tabatabaei, M Amin', '2018.12.13')>,\n",
       " <Game at 0x7f0b0c266668 ('Nikolaidis, Ioannis' vs. 'Grivas, Efstratios', '2018.12.13')>,\n",
       " <Game at 0x7f0b109ade80 ('Navin, Kanna T U' vs. 'Sandipan, Chanda', '2018.12.13')>,\n",
       " <Game at 0x7f0b0c27e2e8 ('Lalith, Babu M R' vs. 'Yakubboev, Nodirbek', '2018.12.12')>,\n",
       " <Game at 0x7f0b1099b588 ('Nguyen, Anh Khoi' vs. 'Maghsoodloo, Parham', '2018.12.12')>,\n",
       " <Game at 0x7f0b09872710 ('Kavinda, Akila' vs. 'Gunawan, Ronny', '2018.12.12')>,\n",
       " <Game at 0x7f0b0c27b240 ('Willmoth, Robert F' vs. 'Lane, Gary W', '2018.12.12')>,\n",
       " <Game at 0x7f0b09854ac8 ('Eidelson, Rakhil' vs. 'Prudnikova, Svetlana', '2018.12.12')>,\n",
       " <Game at 0x7f0b0986fe80 ('Bielicki, Carlos' vs. 'Silva, Lucas Henrique Da', '2018.12.12')>,\n",
       " <Game at 0x7f0afeff8e80 ('Li, Xueyi' vs. 'Zhu, Jiner', '2018.12.10')>,\n",
       " <Game at 0x7f0b098613c8 ('Ang, Alphaeus Wei Ern' vs. 'Arvola, Benjamin', '2018.12.10')>,\n",
       " <Game at 0x7f0afefd2908 ('Cheng, Bobby' vs. 'Ikeda, Junta', '2018.12.10')>,\n",
       " <Game at 0x7f0b09861f28 ('Akash Pc, Iyer' vs. 'Marentini, Marcel', '2018.12.10')>,\n",
       " <Game at 0x7f0afeff5da0 ('Gong, Patrick' vs. 'Ikeda, Junta', '2018.12.09')>,\n",
       " <Game at 0x7f0afefc8240 ('Miesbauer, Jan' vs. 'Svoboda, Svatopluk', '2018.12.09')>,\n",
       " <Game at 0x7f0b0e8b9860 ('Splichal, Stanislav' vs. 'Kacirek, Petr', '2018.12.09')>,\n",
       " <Game at 0x7f0b0e8a2278 ('Rubes, Jan' vs. 'Pokorny, Zdenek', '2018.12.09')>,\n",
       " <Game at 0x7f0b0e88f1d0 ('Tempone, Marcelo' vs. 'Santiago, Yago de Moura', '2018.12.09')>,\n",
       " <Game at 0x7f0b0e899c50 ('Kromhout, Ewan' vs. 'Pert, Richard G', '2018.12.09')>,\n",
       " <Game at 0x7f0b0eba1ef0 ('Gurvich, Vitaly' vs. 'Sychev, Klementy', '2018.12.09')>,\n",
       " <Game at 0x7f0b0e8b5c88 ('Garcia, Raimundo' vs. 'Silva, Lucas Henrique Da', '2018.12.09')>,\n",
       " <Game at 0x7f0b0eb824e0 ('Federic, Jozef' vs. 'Briestensky, Rastislav', '2018.12.09')>,\n",
       " <Game at 0x7f0b0eba20b8 ('Salo, Heikki' vs. 'Tuononen, Janne', '2018.12.09')>,\n",
       " <Game at 0x7f0b0e608978 ('Pisk, Petr' vs. 'Karlik, Ondrej', '2018.12.09')>,\n",
       " <Game at 0x7f0b0eba8cc0 ('Demidov, Mikhail' vs. 'Lagarde, Maxime', '2018.12.09')>,\n",
       " <Game at 0x7f0b0e62ca90 ('Vass, Frant2' vs. 'Holtman, Teodor', '2018.12.09')>,\n",
       " <Game at 0x7f0b0e603a90 ('Bartel, Mateusz' vs. 'Walther, Cliff', '2018.12.08')>,\n",
       " <Game at 0x7f0b0fc9bbe0 ('Stukan, Martin' vs. 'Gareev, Timur', '2018.12.08')>,\n",
       " <Game at 0x7f0b0fcb3d30 ('Kytoniemi, Jyrki' vs. 'Pessi, Juha', '2018.12.08')>,\n",
       " <Game at 0x7f0b0fca0128 ('Stefanova, Antoaneta' vs. 'Lagarde, Maxime', '2018.12.08')>,\n",
       " <Game at 0x7f0afdb910b8 ('Unuk, Laura' vs. 'Cheparinov, Ivan', '2018.12.08')>,\n",
       " <Game at 0x7f0afdd61860 ('Kantor, Gergely' vs. 'Akshat, Khamparia', '2018.12.08')>,\n",
       " <Game at 0x7f0afdd58ba8 ('Guseva, Marina' vs. 'Girya, Olga', '2018.12.08')>,\n",
       " <Game at 0x7f0afdd7ada0 ('Guseva, Marina' vs. 'Girya, Olga', '2018.12.08')>,\n",
       " <Game at 0x7f0afdd6ae10 ('Pogan, Nikolas' vs. 'Potapov, Pavel', '2018.12.08')>,\n",
       " <Game at 0x7f0afe159390 ('Papin, Vasily' vs. 'Ikeda, Junta', '2018.12.08')>,\n",
       " <Game at 0x7f0afdb93a58 ('Biljanic, Ljubomir' vs. 'Anton Guijarro, David', '2018.12.08')>,\n",
       " <Game at 0x7f0afe17de48 ('Djuric, Stefan' vs. 'Potapov, Pavel', '2018.12.07')>,\n",
       " <Game at 0x7f0afe18a5f8 ('Churba, Daniel Albert' vs. 'Toniutti, Ezio', '2018.12.07')>,\n",
       " <Game at 0x7f0afe17ef28 ('Kozul, Zdenko' vs. 'Bukal, Vladimir Jr', '2018.12.07')>,\n",
       " <Game at 0x7f0afe1b7748 ('Barrionuevo, Pablo' vs. 'Dolezal, Cristian', '2018.12.07')>,\n",
       " <Game at 0x7f0afe1a4d68 ('Popov, Valerij' vs. 'Lagarde, Maxime', '2018.12.07')>,\n",
       " <Game at 0x7f0afe34f470 ('Leon, Ju' vs. 'Aguinaga, Maximiliano', '2018.12.07')>,\n",
       " <Game at 0x7f0afe373fd0 ('Cuevas, A' vs. 'Real de Azua, Ernesto', '2018.12.07')>,\n",
       " <Game at 0x7f0afe360c88 ('Saraci, Nderim' vs. 'Anton Guijarro, David', '2018.12.07')>,\n",
       " <Game at 0x7f0afe34c6d8 ('Paravyan, David' vs. 'Tsydypov, Zhamsaran', '2018.12.06')>,\n",
       " <Game at 0x7f0afe5244e0 ('Kunin, Vitaly' vs. 'Kovacevic, Blazimir', '2018.12.06')>,\n",
       " <Game at 0x7f0afe3525f8 ('Markoja, Boris' vs. 'Lagarde, Maxime', '2018.12.06')>,\n",
       " <Game at 0x7f0afee69c18 ('Valsecchi, Alessio' vs. 'Cheparinov, Ivan', '2018.12.06')>,\n",
       " <Game at 0x7f0afee59cc0 ('Nikcevic, Nebojsa' vs. 'Potapov, Pavel', '2018.12.06')>,\n",
       " <Game at 0x7f0afee4c978 ('Popov, Valerij' vs. 'Arutyunova, Diana', '2018.12.06')>,\n",
       " <Game at 0x7f0afee76da0 ('Hernandez Guerrero, Gilberto' vs. 'Sica, Mauro', '2018.12.06')>,\n",
       " <Game at 0x7f0afee79eb8 ('Delchev, Aleksander' vs. 'Todorovic, Goran N', '2018.12.06')>,\n",
       " <Game at 0x7f0afee59160 ('Popov, Valerij' vs. 'Polivanov, Anatoliy', '2018.12.06')>,\n",
       " <Game at 0x7f0afed4c9e8 ('Aaryan, Varshney' vs. 'Rakesh, Kumar Jena', '2018.12.05')>,\n",
       " <Game at 0x7f0afe535fd0 ('Aranha Filho, Alvaro Z' vs. 'Aguinaga, Maximiliano', '2018.12.05')>,\n",
       " <Game at 0x7f0afed65cf8 ('Khlebovich, Alexander' vs. 'Varitski, Igor', '2018.12.04')>,\n",
       " <Game at 0x7f0afed6e160 ('Santiago, Yago de Moura' vs. 'Salvatti, Diego', '2018.12.04')>,\n",
       " <Game at 0x7f0afed5e278 ('Farago, Ivan' vs. 'Akshat, Khamparia', '2018.12.03')>,\n",
       " <Game at 0x7f0afed434a8 ('Kozak, Adam' vs. 'Hoang, Thanh Trang', '2018.12.02')>,\n",
       " <Game at 0x7f0aff18a8d0 ('Matviishen, Viktor' vs. 'Vlachos, Anatole', '2018.12.02')>,\n",
       " <Game at 0x7f0aff18cac8 ('Ionescu, Constantin' vs. 'Berkes, Ferenc', '2018.12.02')>,\n",
       " <Game at 0x7f0b09a12748 ('Tregubov, Pavel V' vs. 'Pruijssers, Roeland', '2018.12.02')>,\n",
       " <Game at 0x7f0aff188f98 ('Lai, Hing Ting' vs. 'Draftian, Ashote', '2018.12.02')>,\n",
       " <Game at 0x7f0aff187fd0 ('Skare, Goran' vs. 'Gajic, Sladjan', '2018.12.02')>,\n",
       " <Game at 0x7f0b09a19e10 ('Carmaciu, Lucian-Catalin' vs. 'Popescu, Daniel-Vasilica', '2018.12.01')>,\n",
       " <Game at 0x7f0b09ac7208 ('Damjanovic, Vuk' vs. 'Lundin, Jan', '2018.12.01')>,\n",
       " <Game at 0x7f0b09ae8c18 ('Maltsevskaya, Aleksandra' vs. 'Maletina, Tatiana', '2018.12.01')>,\n",
       " <Game at 0x7f0b09ace630 ('Kropik, Martin' vs. 'Ruckschloss, Karol', '2018.12.01')>,\n",
       " <Game at 0x7f0b09ad7da0 ('Briem, Stephan' vs. 'Liu, Zhanhe', '2018.11.30')>,\n",
       " <Game at 0x7f0b09d453c8 ('Iniyan, P' vs. 'Tsoi, Dmitry', '2018.11.30')>,\n",
       " <Game at 0x7f0b09d5d390 ('Li, William' vs. 'Stefansson, Vignir Vatnar', '2018.11.30')>,\n",
       " <Game at 0x7f0b09d7da58 ('Muradli, Mahammad' vs. 'Barseghyan, Armen Ar.', '2018.11.30')>,\n",
       " <Game at 0x7f0b09d44d30 ('Grabuzova, Tatiana' vs. 'Birkholz, Olga', '2018.11.29')>,\n",
       " <Game at 0x7f0b0a1aee10 ('Costachi, Mihnea' vs. 'Balla, Tamas-Kristof', '2018.11.28')>,\n",
       " <Game at 0x7f0b09d562b0 ('Skare, Goran' vs. 'Bukvic, Mihailo', '2018.11.28')>,\n",
       " <Game at 0x7f0b0a18a7f0 ('Nagybiro, Laszlo' vs. 'Rigo, Janos', '2018.11.28')>,\n",
       " <Game at 0x7f0b0a1a5908 ('Sibashvili, Giorgi' vs. 'Bayramov, E', '2018.11.28')>,\n",
       " <Game at 0x7f0b0a3ad048 ('Paehtz, Elisabeth' vs. 'Marin, Irina-Luiza', '2018.11.27')>,\n",
       " <Game at 0x7f0b0a38c860 ('Burcu, Cagatay' vs. 'Pacher, Milan', '2018.11.27')>,\n",
       " <Game at 0x7f0b0a3aaf60 ('Baenziger, Fabian' vs. 'Vlachos, Anatole', '2018.11.27')>,\n",
       " <Game at 0x7f0b0a8c76d8 ('Sirotkina, Nina' vs. 'Birkholz, Olga', '2018.11.27')>,\n",
       " <Game at 0x7f0b0a3aa080 ('Antic, Dejan' vs. 'Kostic, VV', '2018.11.27')>,\n",
       " <Game at 0x7f0b0a8edcc0 ('Divya, Deshmukh' vs. 'Tsaruk, Maksim', '2018.11.27')>,\n",
       " <Game at 0x7f0b0a8d3438 ('Dimic, Pavle' vs. 'Graovac, Vidak Balsa', '2018.11.27')>,\n",
       " <Game at 0x7f0b0a8c2c18 ('Balashov, Yuri S' vs. 'Vaisser, Anatoly', '2018.11.26')>,\n",
       " <Game at 0x7f0b0ac06358 ('Sergienko, Sergey' vs. 'Lukovnikov, Alexander', '2018.11.26')>,\n",
       " <Game at 0x7f0b0ac254e0 ('Lodici, Lorenzo' vs. 'David, Alberto', '2018.11.26')>,\n",
       " <Game at 0x7f0b0ac37828 ('Bekasovs, Rihards' vs. 'Tsoi, Dmitry', '2018.11.26')>,\n",
       " <Game at 0x7f0b0acef208 ('Janiashvili, Mariami' vs. 'Gareev, Timur', '2018.11.25')>,\n",
       " <Game at 0x7f0b0acd7b00 ('Budisavljevic, Luka' vs. 'Briem, Stephan', '2018.11.25')>,\n",
       " <Game at 0x7f0b0acfc6a0 ('Krejci, Jan' vs. 'Kozusek, Daniel', '2018.11.25')>,\n",
       " <Game at 0x7f0b0acef5c0 ('Urh, Zala' vs. 'Divya, Deshmukh', '2018.11.25')>,\n",
       " <Game at 0x7f0b0aeb1550 ('Kulpruethanon, Thanadon' vs. 'Kananub, Warot', '2018.11.25')>,\n",
       " <Game at 0x7f0b0ae96c88 ('Splichal, Stanislav' vs. 'Haba, Zdenek', '2018.11.25')>,\n",
       " <Game at 0x7f0b0aea02e8 ('Gormally, Daniel W' vs. 'Barry, Colm', '2018.11.25')>,\n",
       " <Game at 0x7f0b0ae98a90 ('Predke, Alexandr' vs. 'Potapov, Pavel', '2018.11.25')>,\n",
       " <Game at 0x7f0b0b48e5c0 ('Noe, Christopher' vs. 'Pap, Misa', '2018.11.25')>,\n",
       " <Game at 0x7f0b0ae98e10 ('Carlstedt, Jonathan' vs. 'Dirr, Ulrich', '2018.11.25')>,\n",
       " <Game at 0x7f0b0b48ebe0 ('Toma, Radu-Cristian' vs. 'Baratosi, Daniel', '2018.11.25')>,\n",
       " <Game at 0x7f0b0b4bf4a8 ('Bosiocic, Marin' vs. 'Birkholz, Olga', '2018.11.24')>,\n",
       " <Game at 0x7f0b0d2b9048 ('Lisenko, Alexander V' vs. 'Rozic, Adrijan', '2018.11.24')>,\n",
       " <Game at 0x7f0b0d2c0630 ('Toma, Radu-Cristian' vs. 'Vasiesiu, Victor', '2018.11.24')>,\n",
       " <Game at 0x7f0b0d29cd30 ('Demeter, Dorina' vs. 'Marjanovic, Annamaria', '2018.11.24')>,\n",
       " <Game at 0x7f0b0d36c940 ('Gritsak, Orest' vs. 'Jansen, Dirk Norbert', '2018.11.24')>,\n",
       " <Game at 0x7f0b0b496ba8 ('Haessel, Dale R' vs. 'Brettschneider, Karl', '2018.11.24')>,\n",
       " <Game at 0x7f0b0d34a3c8 ('Sabuk, Piotr' vs. 'Holtman, Teodor', '2018.11.24')>,\n",
       " <Game at 0x7f0b0d362b00 ('Hirneise, Tobias' vs. 'Gleizerov, Evgeny', '2018.11.24')>,\n",
       " <Game at 0x7f0b0d6f7a58 ('Handler, Lukas' vs. 'Renner, Christoph', '2018.11.24')>,\n",
       " <Game at 0x7f0b0d6cf320 ('Cvitan, Ognjen' vs. 'Pazlar, Marko', '2018.11.24')>,\n",
       " <Game at 0x7f0b0d371cc0 ('De Schampheleire, Glen' vs. 'Beukema, Stefan', '2018.11.24')>,\n",
       " <Game at 0x7f0b0d7f9940 ('Kozul, Zdenko' vs. 'Lauber, Arnd', '2018.11.24')>,\n",
       " <Game at 0x7f0b0d7e08d0 ('Mundorf, Johannes' vs. 'Ootes, Lars', '2018.11.24')>,\n",
       " <Game at 0x7f0b0d7cbac8 ('Chua, Alexander J' vs. 'Vijay, Keerthi K', '2018.11.24')>,\n",
       " <Game at 0x7f0b0d7c2fd0 ('Kananub, Warot' vs. 'Kongsee, Uaychai', '2018.11.24')>,\n",
       " <Game at 0x7f0b0de457b8 ('Brinovec, Dusan' vs. 'Spalir, Jernej', '2018.11.24')>,\n",
       " <Game at 0x7f0b0d7c2e80 ('Kastelic, Marian' vs. 'Pazlar, Marko', '2018.11.24')>,\n",
       " <Game at 0x7f0b0de4e080 ('Lewtak, Damian' vs. 'Gleizerov, Evgeny', '2018.11.23')>,\n",
       " <Game at 0x7f0b0d7fac88 ('Siddharth, Jagadeesh' vs. 'Pap, Misa', '2018.11.23')>,\n",
       " <Game at 0x7f0b0df7eb70 ('Franco Valencia, Beatriz Irene' vs. 'Munoz Monroy, C', '2018.11.23')>,\n",
       " <Game at 0x7f0b0df60550 ('Cebalo, Miso' vs. 'Yakimenko, Alexander A', '2018.11.23')>,\n",
       " <Game at 0x7f0b0de4e4a8 ('Wheeler, Cameron' vs. 'Suresh, Mahadevan', '2018.11.22')>,\n",
       " <Game at 0x7f0b0df6f978 ('Valenzuela Gomez, Fernando' vs. 'Cruz, Filemon', '2018.11.22')>,\n",
       " <Game at 0x7f0b0de4f240 ('Porper, Edward' vs. 'Petran, Peter', '2018.11.21')>,\n",
       " <Game at 0x7f0b0e0c4390 ('Raja, Rithvik R' vs. 'Nomin-Erdene, Davaademberel', '2018.11.21')>,\n",
       " <Game at 0x7f0b0e100c50 ('Renman, Nils-Gustaf' vs. 'Gundersen, Helge', '2018.11.21')>,\n",
       " <Game at 0x7f0b0e57b3c8 ('Oglaza, Oskar' vs. 'Holtman, Teodor', '2018.11.21')>,\n",
       " <Game at 0x7f0b0e56a6d8 ('Dougherty, Michael' vs. 'Mencinger, Vojko', '2018.11.21')>,\n",
       " <Game at 0x7f0b0e0e3438 ('Manush, Shah' vs. 'Drazic, Sinisa', '2018.11.21')>,\n",
       " <Game at 0x7f0b0e55e668 ('Svetlov, Dmitry' vs. 'Ovod, Evgenija', '2018.11.20')>,\n",
       " <Game at 0x7f0b0e578860 ('Fernandez, Maria Florencia' vs. 'Cori T, Deysi', '2018.11.20')>,\n",
       " <Game at 0x7f0b0e554eb8 ('Vareille, Francois' vs. 'Lopez Pereyra, Antonio', '2018.11.20')>,\n",
       " <Game at 0x7f0b0e543390 ('Niemann, Hans' vs. 'Ali Marandi, Cemil Can', '2018.11.19')>,\n",
       " <Game at 0x7f0b0ec54588 ('Souza Neves, Andrey M' vs. 'Teixeira, Ricardo da Silva', '2018.11.19')>,\n",
       " <Game at 0x7f0b0f1e44e0 ('Danielsen, Henrik' vs. 'Lopez Pereyra, Antonio', '2018.11.18')>,\n",
       " <Game at 0x7f0b0f1d5630 ('Neumeier, Klaus' vs. 'Moser, Guenter', '2018.11.18')>,\n",
       " <Game at 0x7f0b0ec75208 ('Tsay, Vincent' vs. 'Dordzhieva, Dinara', '2018.11.18')>,\n",
       " <Game at 0x7f0b0f1da908 ('Yilmaz, Mustafa' vs. 'Annaberdiev, Meilis', '2018.11.18')>,\n",
       " <Game at 0x7f0b0f1fd048 ('Timman, Jan H' vs. 'Reinderman, Dimitri', '2018.11.18')>,\n",
       " <Game at 0x7f0b0f516b00 ('Jakubowski, Krzysztof' vs. 'Nguyen, P', '2018.11.17')>,\n",
       " <Game at 0x7f0b0f50e5c0 ('Nester, Ihor' vs. 'Marin, Mihail', '2018.11.17')>,\n",
       " <Game at 0x7f0b0f1ef940 ('Pshmahov, Osman' vs. 'Potapov, Pavel', '2018.11.17')>,\n",
       " <Game at 0x7f0b0f50a6a0 ('Nguyen, Emily' vs. 'Shamatava, Ana', '2018.11.17')>,\n",
       " <Game at 0x7f0b0fac3198 ('Shamatava, Ana' vs. 'Stremavicius, Titas', '2018.11.16')>,\n",
       " <Game at 0x7f0b0faeefd0 ('Shengelia, David' vs. 'Moser, Guenter', '2018.11.16')>,\n",
       " <Game at 0x7f0b0f1d1c50 ('Ubiparip, Zivko' vs. 'Sljukic, Miodrag', '2018.11.15')>,\n",
       " <Game at 0x7f0b0fcd8198 ('Rikalovic, Dimitrije' vs. 'Sljukic, Miodrag', '2018.11.14')>,\n",
       " <Game at 0x7f0b0fcf37b8 ('Golikov, Daniil' vs. 'Siagodnik, Anton', '2018.11.13')>,\n",
       " <Game at 0x7f0b0fce4710 ('Popov, Sinisa S' vs. 'Sljukic, Miodrag', '2018.11.13')>,\n",
       " <Game at 0x7f0b0fde9ac8 ('Nagy, At1 SRB' vs. 'Skoko, Milan', '2018.11.13')>,\n",
       " <Game at 0x7f0b0fe005c0 ('Czebe, Attila' vs. 'Nikolovski, Nikola', '2018.11.13')>,\n",
       " <Game at 0x7f0b0fdf0b70 ('Kojima, Shinya' vs. 'Balint, Vilmos', '2018.11.12')>,\n",
       " <Game at 0x7f0b0fdd04e0 ('Lorinc, Sandor' vs. 'Nikolovski, Nikola', '2018.11.12')>,\n",
       " <Game at 0x7f0b0fde5e48 ('Krstulovic, Alex' vs. 'Ghannoum, Marc', '2018.11.12')>,\n",
       " <Game at 0x7f0b0fdc77f0 ('Cesal, Jaroslav' vs. 'Forman, Stepan', '2018.11.11')>,\n",
       " <Game at 0x7f0b0fea0b70 ('Sepp, Olav' vs. 'Ebeling, Daniel', '2018.11.11')>,\n",
       " <Game at 0x7f0b0feb3828 ('Wagner, Dennis' vs. 'Kukov, Velislav', '2018.11.11')>,\n",
       " <Game at 0x7f0b0febe9e8 ('Torkkola, Henri' vs. 'Jarvenpaa, Jari', '2018.11.11')>,\n",
       " <Game at 0x7f0b0fe9bcf8 ('Arnason, Arni A' vs. 'Movsziszian, Karen', '2018.11.11')>,\n",
       " <Game at 0x7f0b0fdca390 ('Hertneck, Gerald' vs. 'Anton Guijarro, David', '2018.11.11')>,\n",
       " <Game at 0x7f0b0fe9b278 ('White, Stuart A' vs. 'Zeidler, Sven P', '2018.11.11')>,\n",
       " <Game at 0x7f0b10482400 ('Veljkovic, Vojislav' vs. 'Skoko, Milan', '2018.11.11')>,\n",
       " <Game at 0x7f0b10701f28 ('Budisavljevic, Luka' vs. 'Nikolovski, Nikola', '2018.11.11')>,\n",
       " <Game at 0x7f0b1070cfd0 ('Korobov, Anton' vs. 'Kindermann, Stefan', '2018.11.11')>,\n",
       " <Game at 0x7f0b104afa58 ('Zirkelbach, Maj' vs. 'Krivec, Jana', '2018.11.11')>,\n",
       " <Game at 0x7f0b108f4240 ('Babiy, Igor' vs. 'Makarov, Pavlo', '2018.11.10')>,\n",
       " <Game at 0x7f0b10709ef0 ('Palliser, Richard J D' vs. 'Oyama, Akito', '2018.11.10')>,\n",
       " <Game at 0x7f0b108c1908 ('Lehtivaara, Petri' vs. 'Galchenko, Vadim', '2018.11.10')>,\n",
       " <Game at 0x7f0b108e44e0 ('Mendonca, Leon Luke' vs. 'Colovic, Dusan', '2018.11.10')>,\n",
       " <Game at 0x7f0b108e1ef0 ('Michna, Marta' vs. 'Sandipan, Chanda', '2018.11.10')>,\n",
       " <Game at 0x7f0b281192b0 ('Kostelny, Jozef' vs. 'Fiacan, Robert', '2018.11.10')>,\n",
       " <Game at 0x7f0b281125c0 ('Jogstad, Martin' vs. 'Vaarala, Eric', '2018.11.10')>,\n",
       " <Game at 0x7f0b10900320 ('Dunn, An1' vs. 'Gayson, Peter M', '2018.11.10')>,\n",
       " <Game at 0x7f0b33824198 ('Raja, Rithvik R' vs. 'Popchev, Milko', '2018.11.09')>,\n",
       " <Game at 0x7f0b338125c0 ('Nagy, Gabor' vs. 'Hansen, Soren Bech', '2018.11.09')>,\n",
       " <Game at 0x7f0b33824978 ('Usmanov, Vasily' vs. 'Siagodnik, Anton', '2018.11.09')>,\n",
       " <Game at 0x7f0b337f4a20 ('Heimisson, Hilmir Freyr' vs. 'Jakubiec, Artur', '2018.11.08')>,\n",
       " <Game at 0x7f0b127656a0 ('Gajewski, Grzegorz' vs. 'Thorfinnsson, Bragi', '2018.11.08')>,\n",
       " <Game at 0x7f0b12751320 ('Parezanin, Darko' vs. 'Cica, Dragan', '2018.11.07')>,\n",
       " <Game at 0x7f0b33810320 ('Pogonina, Natalija' vs. 'Zhu, Jiner', '2018.11.07')>,\n",
       " <Game at 0x7f0b1274d6a0 ('Valerga, Diego' vs. 'Siccardi, Pablo Daniel', '2018.11.07')>,\n",
       " <Game at 0x7f0b12777ef0 ('Drazic, Sinisa' vs. 'Pap, Misa', '2018.11.06')>,\n",
       " <Game at 0x7f0b11f947b8 ('Matic, Novica' vs. 'Maksimovic, Branimir', '2018.11.06')>,\n",
       " <Game at 0x7f0b11f8b128 ('Ivanovic, L' vs. 'Labus, Vladislav', '2018.11.06')>,\n",
       " <Game at 0x7f0b11fb7dd8 ('Dudin, Gleb' vs. 'Savanovic, A', '2018.11.04')>,\n",
       " <Game at 0x7f0b12413ac8 ('Javakhishvili, Lela' vs. 'Zhu, Jiner', '2018.11.04')>,\n",
       " <Game at 0x7f0b12431fd0 ('Lodici, Lorenzo' vs. 'David, Alberto', '2018.11.04')>,\n",
       " <Game at 0x7f0b124130f0 ('Podkriznik, Gregor' vs. 'Borisek, Jure', '2018.11.04')>,\n",
       " <Game at 0x7f0b124240f0 ('Aliakbarov, Anar' vs. 'Bulanov, Dmitri', '2018.11.04')>,\n",
       " <Game at 0x7f0b11c710f0 ('Turner, Matthew J' vs. 'Williams, Simon K', '2018.11.04')>,\n",
       " <Game at 0x7f0b11c76860 ('Abdullayev, A' vs. 'Khulapov, Vyacheslav', '2018.11.04')>,\n",
       " <Game at 0x7f0b11c6ba90 ('Zirkelbach, Maj' vs. 'Slibar, Matjaz', '2018.11.04')>,\n",
       " <Game at 0x7f0b12415518 ('Mikhalchishin, Adrian' vs. 'Krivec, Jana', '2018.11.03')>,\n",
       " <Game at 0x7f0b2d47afd0 ('Volkov, Sergey' vs. 'Maghsoodloo, Parham', '2018.11.03')>,\n",
       " <Game at 0x7f0b2d488ac8 ('Lampl, Gerald' vs. 'Vrana, Frantisek', '2018.11.03')>,\n",
       " <Game at 0x7f0b2d47dc88 ('Schmuecker, Marcus' vs. 'Rettore, Ludwig', '2018.11.03')>,\n",
       " <Game at 0x7f0b11a4ab38 ('Crevatin, Leo' vs. 'Galinsky, Timofey', '2018.11.03')>,\n",
       " <Game at 0x7f0b11c54e48 ('Burg, Twan' vs. 'Pruijssers, Roeland', '2018.11.03')>,\n",
       " <Game at 0x7f0b11a724a8 ('Nguyen, Van Thanh' vs. 'Ghannoum, Marc', '2018.11.03')>,\n",
       " <Game at 0x7f0b11a5be10 ('Devine, Christopher' vs. 'Todor, Razvan', '2018.11.03')>,\n",
       " <Game at 0x7f0b11a45eb8 ('Shishkin, Vadim UKR' vs. 'Brustkern, Juergen', '2018.11.02')>,\n",
       " <Game at 0x7f0b11a6f278 ('Khismatullin, Denis' vs. 'Vlasenko, Miroslav', '2018.11.02')>,\n",
       " <Game at 0x7f0b1163cdd8 ('Kazakovskiy, Valeriy' vs. 'Melnikov, Dmitry', '2018.11.02')>,\n",
       " <Game at 0x7f0b11627320 ('Ingbrandt, Johan' vs. 'Ivarsson, Torbjorn', '2018.11.02')>,\n",
       " <Game at 0x7f0b116146a0 ('Gasanov, Eldar' vs. 'Polivanov, Anatoliy', '2018.11.01')>,\n",
       " <Game at 0x7f0b119b49e8 ('Schekachikhin, Maksim' vs. 'Tsydypov, Zhamsaran', '2018.11.01')>,\n",
       " <Game at 0x7f0b11614cf8 ('Slugin, Yaroslav' vs. 'Danielyan, Vahe', '2018.11.01')>,\n",
       " <Game at 0x7f0b119a7cf8 ('Schuster, Karsten' vs. 'Bohnhoff, Peter', '2018.11.01')>,\n",
       " <Game at 0x7f0b11993438 ('Ravi, Teja S' vs. 'Williams, Simon K', '2018.11.01')>,\n",
       " <Game at 0x7f0b119a0a20 ('Repka, Christopher' vs. 'Wintzer, Joachim Dr', '2018.10.31')>,\n",
       " <Game at 0x7f0b1223f0f0 ('Pourramezanali, Amirreza' vs. 'Vaingorten, Yaaqov', '2018.10.30')>,\n",
       " <Game at 0x7f0b122217f0 ('Saptarshi, R' vs. 'Kongsee, Uaychai', '2018.10.30')>,\n",
       " <Game at 0x7f0b12218438 ('Pogosyan, Stefan' vs. 'Srihari, L R', '2018.10.30')>,\n",
       " <Game at 0x7f0b12229c50 ('Manin, Viktor' vs. 'Naboka, Sergey', '2018.10.30')>,\n",
       " <Game at 0x7f0b17defc50 ('Badelka, Olga' vs. 'Kamsky, Gata', '2018.10.30')>,\n",
       " <Game at 0x7f0b12221470 ('Nagel, Bernhard' vs. 'Pollmann, Sascha', '2018.10.30')>,\n",
       " <Game at 0x7f0b17dd2668 ('Nester, Ihor' vs. 'Czerw, D', '2018.10.29')>,\n",
       " <Game at 0x7f0b17ddf4e0 ('Palchun, Grigory' vs. 'Galchenko, Vadim', '2018.10.29')>,\n",
       " <Game at 0x7f0b17deb5f8 ('Paravyan, David' vs. 'Vlasenko, Miroslav', '2018.10.29')>,\n",
       " <Game at 0x7f0b10e449b0 ('Rohith, Krishna S' vs. 'Idani, Pouya', '2018.10.29')>,\n",
       " <Game at 0x7f0b10e6f550 ('Kyrychenko, Maryan' vs. 'Nester, Ihor', '2018.10.28')>,\n",
       " <Game at 0x7f0b10e5b940 ('Pedersen, NicK' vs. 'Firooznia, Farzam', '2018.10.28')>,\n",
       " <Game at 0x7f0b125c8908 ('Ozenir, Ekin Baris' vs. 'Tsoi, Dmitry', '2018.10.28')>,\n",
       " <Game at 0x7f0b17dd0b38 ('Sorensen, Hampus' vs. 'Nilsson, Joakim 2000', '2018.10.28')>,\n",
       " <Game at 0x7f0b125d95f8 ('Schatz, Christian' vs. 'Pirrot, Dieter', '2018.10.28')>,\n",
       " <Game at 0x7f0b11abab70 ('Rajkovic, Dusan' vs. 'Andersen, Alf R', '2018.10.27')>,\n",
       " <Game at 0x7f0b10e6cc88 ('Fedotov, Alexey' vs. 'Ter-Sahakyan, Samvel', '2018.10.27')>,\n",
       " <Game at 0x7f0b11a85f98 ('Laustsen, Lars' vs. 'Stefansson, Vignir Vatnar', '2018.10.27')>,\n",
       " <Game at 0x7f0b125df518 ('Ozenir, Ekin Baris' vs. 'Srihari, L R', '2018.10.27')>,\n",
       " <Game at 0x7f0b1b57da20 ('Sliwerski, Radoslaw' vs. 'Luch, Michal', '2018.10.27')>,\n",
       " <Game at 0x7f0b1b581ef0 ('Koksal, Ege' vs. 'Sevgi, Volkan', '2018.10.27')>,\n",
       " <Game at 0x7f0b1b57d320 ('Poznyak, Nazar' vs. 'Vlasenko, Miroslav', '2018.10.27')>,\n",
       " <Game at 0x7f0b11722208 ('Bianco, Valerio' vs. 'Stefansson, Vignir Vatnar', '2018.10.26')>,\n",
       " <Game at 0x7f0b117142b0 ('Rudolf, Michal' vs. 'Zgadzaj, Rafal', '2018.10.26')>,\n",
       " <Game at 0x7f0b11722588 ('Sedgwick, David R' vs. 'Rosen, Daniel B', '2018.10.26')>,\n",
       " <Game at 0x7f0b11decc18 ('Krzywda, Andrzej' vs. 'Zgadzaj, Rafal', '2018.10.25')>,\n",
       " <Game at 0x7f0b1171ef98 ('De Boer, Bas' vs. 'Kokje, Joris', '2018.10.25')>,\n",
       " <Game at 0x7f0b11dfc860 ('Zaika, Daniil' vs. 'Taalaibekov, Tagir', '2018.10.25')>,\n",
       " <Game at 0x7f0b11dd7f28 ('Korneev, Oleg' vs. 'Heppell, Ian N', '2018.10.25')>,\n",
       " <Game at 0x7f0b11dfd710 ('Cramling, Pia' vs. 'Stefansson, Vignir Vatnar', '2018.10.24')>,\n",
       " <Game at 0x7f0b11dd7128 ('Durarbayli, Vasif' vs. 'Gosdin, Kaleb', '2018.10.24')>,\n",
       " <Game at 0x7f0b11dfc7b8 ('Daeschler, Florian' vs. 'Harff, Marcel', '2018.10.24')>,\n",
       " <Game at 0x7f0b118b3748 ('Radovanovic, Mihajlo' vs. 'Gazik, Viktor', '2018.10.24')>,\n",
       " <Game at 0x7f0b11885ac8 ('Boyer, Mahel' vs. 'Tsoi, Dmitry', '2018.10.23')>,\n",
       " <Game at 0x7f0b118ba828 ('Golikov, Daniil' vs. 'Alivodic, Dario', '2018.10.23')>,\n",
       " <Game at 0x7f0b11885e48 ('Ioannidis, Evgenios' vs. 'Beukema, Jasper', '2018.10.23')>,\n",
       " <Game at 0x7f0b12d71908 ('Miedema, David' vs. 'Pruijssers, Roeland', '2018.10.22')>,\n",
       " <Game at 0x7f0b118b3630 ('Zubov, Alexander' vs. 'Lagarde, Maxime', '2018.10.22')>,\n",
       " <Game at 0x7f0b124d9f28 ('Leutwyler, M' vs. 'Stefansson, Vignir Vatnar', '2018.10.22')>,\n",
       " <Game at 0x7f0b124fa3c8 ('Lund, Gunnar' vs. 'Vlachos, Anatole', '2018.10.22')>,\n",
       " <Game at 0x7f0b124dd630 ('Real, Thibault' vs. 'Haub, Thorsten Michael', '2018.10.21')>,\n",
       " <Game at 0x7f0b124c1780 ('Murtazin, Bulat' vs. 'Taalaibekov, Tagir', '2018.10.21')>,\n",
       " <Game at 0x7f0b124f24e0 ('Muha, Miljenko' vs. 'Beukema, Jasper', '2018.10.21')>,\n",
       " <Game at 0x7f0b1b5a2400 ('Goerg, Joachim' vs. 'Naumkin, Igor', '2018.10.21')>,\n",
       " <Game at 0x7f0b1b59bc18 ('Gavilan Diaz, Mario' vs. 'Jonsson, Gauti Pall', '2018.10.21')>,\n",
       " <Game at 0x7f0b1b5c0c18 ('Neckar, Lubomir' vs. 'Polasek, Jaroslav', '2018.10.21')>,\n",
       " <Game at 0x7f0b2b7a2780 ('Raahul, V S' vs. 'Neverov, Valeriy', '2018.10.20')>,\n",
       " <Game at 0x7f0b1b5960f0 ('Grant, Jonathan I M' vs. 'Vishnu, Prasanna V', '2018.10.20')>,\n",
       " <Game at 0x7f0b2b781978 ('Clemens, Adrian' vs. 'Pruijssers, Roeland', '2018.10.20')>,\n",
       " <Game at 0x7f0b2b77ceb8 ('Kryakvin, Dmitry' vs. 'Rubingh, Otto', '2018.10.20')>,\n",
       " <Game at 0x7f0b11e82160 ('Fridman, Daniel' vs. 'Bellin, Robert', '2018.10.20')>,\n",
       " <Game at 0x7f0b11e9f400 ('Kiss, Attila' vs. 'Manhardt, Thomas', '2018.10.20')>,\n",
       " <Game at 0x7f0b11ebfb70 ('Lin, Yi' vs. 'Wang, Yu A', '2018.10.19')>,\n",
       " <Game at 0x7f0b11e9a9e8 ('Kadic, Branislav' vs. 'Bukvic, Mihailo', '2018.10.19')>,\n",
       " <Game at 0x7f0b129c5668 ('Sulypa, Oleksandr' vs. 'Demuth, Adrien', '2018.10.18')>,\n",
       " <Game at 0x7f0b129d0630 ('Jorgensen, Jorgen' vs. 'Jepsen, T1', '2018.10.18')>,\n",
       " <Game at 0x7f0b129ee588 ('Warmerdam, Max' vs. 'Sagit, Rauan', '2018.10.18')>,\n",
       " <Game at 0x7f0b129d6be0 ('Noe, Christopher' vs. 'Aabling-Thomsen, Jakob', '2018.10.18')>,\n",
       " <Game at 0x7f0b129dee48 ('Lenaerts, Lennert' vs. 'Grubert, Christian', '2018.10.18')>,\n",
       " <Game at 0x7f0b10f80b00 ('Rendle, Thomas E' vs. 'Sandipan, Chanda', '2018.10.18')>,\n",
       " <Game at 0x7f0b10f753c8 ('Yuan, Ye' vs. 'Lou, Yiping', '2018.10.17')>,\n",
       " <Game at 0x7f0b10f5ff98 ('Ahlander, Bjorn' vs. 'Light, Bjarne', '2018.10.17')>,\n",
       " <Game at 0x7f0b10f58cc0 ('Miljkovic, Miroslav D' vs. 'Forster, Richard', '2018.10.17')>,\n",
       " <Game at 0x7f0b10f49390 ('Christiansen, Arne' vs. 'Jorgensen, Jorgen', '2018.10.17')>,\n",
       " <Game at 0x7f0b17d864a8 ('Kristensen, Bjarke Hautop' vs. 'Light, Bjarne', '2018.10.16')>,\n",
       " <Game at 0x7f0b17d4c390 ('Mastrovasilis, Athanasios' vs. 'Forster, Richard', '2018.10.16')>,\n",
       " <Game at 0x7f0b17d74470 ('Rajdeep, Sarkar' vs. 'Neverov, Valeriy', '2018.10.16')>,\n",
       " <Game at 0x7f0b17d646d8 ('Speelman, Jon S' vs. 'Dionisi, Thomas', '2018.10.16')>,\n",
       " <Game at 0x7f0b10dbff60 ('Tesic, Dragan' vs. \"In 't Veld, Daan\", '2018.10.15')>,\n",
       " <Game at 0x7f0b10d9bc50 ('Dishman, Stephen' vs. 'Thorfinnsson, Bragi', '2018.10.15')>,\n",
       " <Game at 0x7f0b10d99828 ('Richter, Christian' vs. 'Christenson, Flemming', '2018.10.15')>,\n",
       " <Game at 0x7f0b10d9bdd8 ('Ostergaard, Jens' vs. 'Gayson, Peter M', '2018.10.15')>,\n",
       " <Game at 0x7f0b10da1a58 ('Storme, Isak' vs. 'Van der Elburg, Freddie', '2018.10.15')>,\n",
       " <Game at 0x7f0b17d71470 ('Sergeev, Vladimir' vs. 'Moritz, Christian', '2018.10.14')>,\n",
       " <Game at 0x7f0b11d4d128 ('Greenfeld, Alon' vs. 'Grandell, Anders', '2018.10.14')>,\n",
       " <Game at 0x7f0b11d45e80 ('Andreikin, Dmitry' vs. 'Markgraf, Alexander', '2018.10.14')>,\n",
       " <Game at 0x7f0b11ba8fd0 ('Lalith, Babu M R' vs. 'Wang, Yu A', '2018.10.14')>,\n",
       " <Game at 0x7f0b11d45748 ('Peralta, Fernando' vs. 'Alonso Rosell, Alvar', '2018.10.14')>,\n",
       " <Game at 0x7f0b11024470 ('Dizdar, Goran' vs. 'Spornberger, Andre', '2018.10.14')>,\n",
       " <Game at 0x7f0b11d6f3c8 ('Jelen, Igor' vs. 'Mencinger, Vojko', '2018.10.14')>,\n",
       " <Game at 0x7f0b1102dc18 ('Postny, Evgeny' vs. 'Sagit, Rauan', '2018.10.14')>,\n",
       " <Game at 0x7f0b11006400 ('Krysa, Leandro' vs. 'Alonso Rosell, Alvar', '2018.10.14')>,\n",
       " <Game at 0x7f0b31129630 ('Georgiadis, Nico' vs. 'Milosevic, Milos', '2018.10.14')>,\n",
       " <Game at 0x7f0b11004828 ('Noe, Christopher' vs. 'Vedder, Henk', '2018.10.13')>,\n",
       " <Game at 0x7f0b31166940 ('Girya, Olga' vs. 'Osmak, Iulija', '2018.10.13')>,\n",
       " <Game at 0x7f0b3113de10 ('Vanstreels, Luc' vs. 'Christenson, Flemming', '2018.10.13')>,\n",
       " <Game at 0x7f0b12f76898 ('Bezgodov, Alexei' vs. 'Gleizerov, Evgeny', '2018.10.13')>,\n",
       " <Game at 0x7f0b12f6d780 ('Cramling, Dan' vs. 'Ootes, Lars', '2018.10.13')>,\n",
       " <Game at 0x7f0b12f7ee10 ('Rosenthal, Jonathan' vs. 'Gunnarsson, Arnar', '2018.10.13')>,\n",
       " <Game at 0x7f0b12f64860 ('Grandell, Anders' vs. 'De Groote, Ewoud', '2018.10.13')>,\n",
       " <Game at 0x7f0b13100d30 ('Farago, Ivan' vs. 'Lyell, M', '2018.10.13')>,\n",
       " <Game at 0x7f0b130ee9e8 ('Agrest, Evgenij' vs. 'Dionisi, Thomas', '2018.10.12')>,\n",
       " <Game at 0x7f0b12f4cb70 ('Bilchinski, Anton' vs. 'Spornberger, Andre', '2018.10.12')>,\n",
       " <Game at 0x7f0b130db828 ('Edouard, Romain' vs. 'Jakubiec, Artur', '2018.10.12')>,\n",
       " <Game at 0x7f0b127ec518 ('Wohlfahrt, Herbert' vs. 'Paltrinieri, Nicholas', '2018.10.12')>,\n",
       " <Game at 0x7f0b127c5860 ('Krysa, Leandro' vs. 'Alonso Rosell, Alvar', '2018.10.12')>,\n",
       " <Game at 0x7f0b127db8d0 ('Ivanisevic, Ivan' vs. 'Aabling-Thomsen, Jakob', '2018.10.12')>,\n",
       " <Game at 0x7f0b127f8e48 ('Gukesh, D' vs. 'Srijit, Paul', '2018.10.12')>,\n",
       " <Game at 0x7f0b10d296a0 ('Kolaric, Spela' vs. 'Mencinger, Vojko', '2018.10.12')>,\n",
       " <Game at 0x7f0b10d07128 ('Maletin, Pavel' vs. 'Kozak, A', '2018.10.10')>,\n",
       " <Game at 0x7f0b10d181d0 ('Chu, Ruotong' vs. 'Lyell, M', '2018.10.10')>,\n",
       " <Game at 0x7f0b112d1550 ('Jary, Sergey' vs. 'Kobalia, Mikhail', '2018.10.10')>,\n",
       " <Game at 0x7f0b112c9780 ('Maletina, Tatiana' vs. 'Ovod, Evgenija', '2018.10.10')>,\n",
       " <Game at 0x7f0b112e3c50 ('Jary, Sergey' vs. 'Bocharov, Dmitry', '2018.10.10')>,\n",
       " <Game at 0x7f0b10d62dd8 ('Pogonina, Natalija' vs. 'Charochkina, Daria', '2018.10.10')>,\n",
       " <Game at 0x7f0b10d5add8 ('Neverov, Valeriy' vs. 'Srijit, Paul', '2018.10.10')>,\n",
       " <Game at 0x7f0b10d4fdd8 ('Pogonina, Natalija' vs. 'Suslova, Alena', '2018.10.09')>,\n",
       " <Game at 0x7f0b11226208 ('Kryakvin, Dmitry' vs. 'Kozak, A', '2018.10.08')>,\n",
       " <Game at 0x7f0b11209080 ('Protopopova, Anastasiya' vs. 'Vasilevich, Irina', '2018.10.07')>,\n",
       " <Game at 0x7f0b11211ba8 ('Papenin, Nikolai' vs. 'Oparin, Grigoriy', '2018.10.07')>,\n",
       " <Game at 0x7f0b1122b2b0 ('Guseva, Marina' vs. 'Charochkina, Daria', '2018.10.07')>,\n",
       " <Game at 0x7f0b123466d8 ('Vinokur, Yuliya' vs. 'Charochkina, Daria', '2018.10.07')>,\n",
       " <Game at 0x7f0b123744a8 ('Sergeyev, A' vs. 'Kobalia, Mikhail', '2018.10.07')>,\n",
       " <Game at 0x7f0b12343a58 ('Jary, Sergey' vs. 'Kozak, A', '2018.10.07')>,\n",
       " <Game at 0x7f0b12342c18 ('Smirnova, Ekaterina' vs. 'Charochkina, Daria', '2018.10.07')>,\n",
       " <Game at 0x7f0b123664e0 ('Lagarde, Maxime' vs. 'Beukema, Stefan', '2018.10.07')>,\n",
       " <Game at 0x7f0b12355f98 ('Sukhareva, Evgeniya' vs. 'Charochkina, Daria', '2018.10.07')>,\n",
       " <Game at 0x7f0b118ed710 ('Goltseva, Ekaterina' vs. 'Vasilevich, Irina', '2018.10.07')>,\n",
       " <Game at 0x7f0b118dcfd0 ('Vasilevich, Tatjana' vs. 'Semenova, El1', '2018.10.07')>,\n",
       " <Game at 0x7f0b121863c8 ('Potapova, Margarita' vs. 'Charochkina, Daria', '2018.10.07')>,\n",
       " <Game at 0x7f0b12185320 ('Borisova, Ekaterina' vs. 'Maletina, Tatiana', '2018.10.06')>,\n",
       " <Game at 0x7f0b121b6978 ('Malinovsky, Petr' vs. 'Piankov, Evgenij', '2018.10.06')>,\n",
       " <Game at 0x7f0b136bf390 ('Feygin, Michael' vs. 'Dambacher, Martijn', '2018.10.06')>,\n",
       " <Game at 0x7f0b136aa438 ('Slavin, Alexey' vs. 'Gordievsky, Dmitry', '2018.10.06')>,\n",
       " <Game at 0x7f0b136997b8 ('Goltseva, Ekaterina' vs. 'Charochkina, Daria', '2018.10.06')>,\n",
       " <Game at 0x7f0b13686f98 ('Haug, Johannes' vs. 'Pakleza, Zbigniew', '2018.10.06')>,\n",
       " <Game at 0x7f0b136b8630 ('Baraeva, Irina' vs. 'Charochkina, Daria', '2018.10.06')>,\n",
       " <Game at 0x7f0b114baac8 ('Meng, Roger' vs. 'Ootes, Lars', '2018.10.06')>,\n",
       " <Game at 0x7f0b114bce48 ('Orosz, Andras' vs. 'Lyell, M', '2018.10.06')>,\n",
       " <Game at 0x7f0b1148bd68 ('Slavin, Alexey' vs. 'Potapov, Pavel', '2018.10.06')>,\n",
       " <Game at 0x7f0b1148dd30 ('Bosman, Michiel' vs. 'Klein, David', '2018.10.06')>,\n",
       " <Game at 0x7f0b1354b400 ('Blagojevic, Dragisa' vs. 'Hjartarson, Johann', '2018.10.05')>,\n",
       " <Game at 0x7f0b1186f668 ('Charochkina, Daria' vs. 'Ovod, Evgenija', '2018.10.05')>,\n",
       " <Game at 0x7f0b1357e588 ('Hoang, Thi Bao Tram' vs. 'Mammadova, Gulnar', '2018.10.05')>,\n",
       " <Game at 0x7f0b1354b978 ('Protopopova, Anastasiya' vs. 'Maletina, Tatiana', '2018.10.05')>,\n",
       " <Game at 0x7f0b11861198 ('Mehmeti, Dritan' vs. 'Neiksans, Arturs', '2018.10.05')>,\n",
       " <Game at 0x7f0b11855dd8 ('Chiku-Ratte, Olivier-Kenta' vs. 'Libersan, Thierry', '2018.10.05')>,\n",
       " <Game at 0x7f0b17c8f828 ('Mikhailovsky, Vladimir' vs. 'Potapov, Pavel', '2018.10.05')>,\n",
       " <Game at 0x7f0b17cba390 ('Kursova, Maria' vs. 'Mammadova, Gulnar', '2018.10.04')>,\n",
       " <Game at 0x7f0b10c5ee80 ('Dziuba, Marcin' vs. 'Movsziszian, Karen', '2018.10.04')>,\n",
       " <Game at 0x7f0b10c72a58 ('Peralta, Fernando' vs. 'Sanikidze, Tornike', '2018.10.04')>,\n",
       " <Game at 0x7f0b10c71c18 ('Vo, Thi Kim Phung' vs. 'Hoang, Thanh Trang', '2018.10.04')>,\n",
       " <Game at 0x7f0b10c4ea58 ('Kusenkova, Natallia' vs. 'Krivec, Jana', '2018.10.04')>,\n",
       " <Game at 0x7f0b10c73be0 ('Patino Garcia, Corals' vs. 'Nguyen, Thu Giang', '2018.10.04')>,\n",
       " <Game at 0x7f0b119c8828 ('Peng, Zhaoqin' vs. 'Goossens, Hanne', '2018.10.04')>,\n",
       " <Game at 0x7f0b119f7b38 ('Marjanovic, Dejan' vs. 'Alahakoon, Isuru', '2018.10.04')>,\n",
       " <Game at 0x7f0b119fbcf8 ('Lye, Lik Zang' vs. 'Noritsyn, Nikolay', '2018.10.03')>,\n",
       " <Game at 0x7f0b119ef5c0 ('Khotenashvili, Bela' vs. 'Batchimeg, Tuvshintugs', '2018.10.03')>,\n",
       " <Game at 0x7f0b12b346d8 ('Methu, Joseph Muragu' vs. 'Freyre Forest, Jorge', '2018.10.03')>,\n",
       " <Game at 0x7f0b12b28438 ('Bekker-Jensen, Simon' vs. 'Beukema, Stefan', '2018.10.03')>,\n",
       " <Game at 0x7f0b113f3588 ('Tello Chavez, Isaac Valent' vs. 'Ashiku, Franc', '2018.10.03')>,\n",
       " <Game at 0x7f0b113f7518 ('Gaealafshwe, Barileng' vs. 'Pace, C', '2018.10.03')>,\n",
       " <Game at 0x7f0b113fc470 ('Aleksandrov, A' vs. 'Cheparinov, Ivan', '2018.10.03')>,\n",
       " <Game at 0x7f0b113ef7f0 ('Andriamasoandro, Miora' vs. 'Tersinsev, Andrey', '2018.10.02')>,\n",
       " <Game at 0x7f0b13646860 ('Mendez Tovar, Yessica Yissel' vs. 'Cordero, Daniela', '2018.10.02')>,\n",
       " <Game at 0x7f0b1366d4a8 ('Chlpik, Martin' vs. 'Krnan, Tomas', '2018.10.02')>,\n",
       " <Game at 0x7f0b13641278 ('Ammar, Sedrani' vs. 'Gengler, Pierre', '2018.10.02')>,\n",
       " <Game at 0x7f0b13657898 ('Eynullaeva, Roza' vs. 'Krivec, Jana', '2018.10.02')>,\n",
       " <Game at 0x7f0b31988c18 ('Neckar, Lubomir' vs. 'Kaplan, Daniel', '2018.10.02')>,\n",
       " <Game at 0x7f0b3196eeb8 ('Al-Aqrabi, Saleh' vs. 'Iyti, Basher', '2018.10.02')>,\n",
       " <Game at 0x7f0b31981550 ('Georgiev, Vladimir' vs. 'Noritsyn, Nikolay', '2018.10.02')>,\n",
       " <Game at 0x7f0b3197e550 ('Garcia, Jan Emmanuel' vs. 'Ashiku, Franc', '2018.10.01')>,\n",
       " <Game at 0x7f0b3198c8d0 ('Rodgaard, John' vs. 'Khetho, Phemelo', '2018.10.01')>,\n",
       " <Game at 0x7f0b17d41978 ('Chlpik, Martin' vs. 'Ruckschloss, Karol', '2018.10.01')>,\n",
       " <Game at 0x7f0b17d087b8 ('Paciencia, Enrique' vs. 'Borisek, Jure', '2018.10.01')>,\n",
       " <Game at 0x7f0b17d11470 ('Koneru, Humpy' vs. 'Dzagnidze, Nana', '2018.10.01')>,\n",
       " <Game at 0x7f0b115a9c88 ('Zhemba, Jemusse' vs. 'Nadir, Samir', '2018.10.01')>,\n",
       " <Game at 0x7f0b11599828 ('Ryjanova, Julia' vs. 'Vega Gutierrez, Sabrina', '2018.10.01')>,\n",
       " <Game at 0x7f0b115a1cf8 ('Rodriguez Vila, Andres' vs. 'De la Riva Aguado, Oscar', '2018.10.01')>,\n",
       " <Game at 0x7f0b115bee10 ('Klaasen, Calvin Jong' vs. 'Dastan, Muhammed Batuhan', '2018.10.01')>,\n",
       " <Game at 0x7f0b11057908 ('Tran, Tuan Minh' vs. 'Noritsyn, Nikolay', '2018.10.01')>,\n",
       " <Game at 0x7f0b110794a8 ('Marjanovic, Dejan' vs. 'Nakamura, Hikaru', '2018.09.30')>,\n",
       " <Game at 0x7f0b11064828 ('Docx, Stefan' vs. 'Neiksans, Arturs', '2018.09.30')>,\n",
       " <Game at 0x7f0b110766a0 ('Cosman, A' vs. 'Batchimeg, Tuvshintugs', '2018.09.30')>,\n",
       " <Game at 0x7f0b110799b0 ('Zylka, Stanislaw' vs. 'Jablonicky, Frantisek', '2018.09.30')>,\n",
       " <Game at 0x7f0b11098b00 ('Fernandez, Maria Florencia' vs. 'Ciuksyte, Dagne', '2018.09.30')>,\n",
       " <Game at 0x7f0b110c0a58 ('Blagojevic, Dragisa' vs. 'Hamitevici, Vladimir', '2018.09.30')>,\n",
       " <Game at 0x7f0b1108fef0 ('Lacayo, Rene' vs. 'De la Riva Aguado, Oscar', '2018.09.30')>,\n",
       " <Game at 0x7f0b111ad860 ('Vereggen, Lars' vs. 'Dambacher, Martijn', '2018.09.30')>,\n",
       " <Game at 0x7f0b11192940 ('Lokander, Martin' vs. 'Janse, Love', '2018.09.29')>,\n",
       " <Game at 0x7f0b111c0208 ('Chibukhchyan, Erik' vs. 'Okun, Evgeny', '2018.09.29')>,\n",
       " <Game at 0x7f0b111a9630 ('Mustafic, Ismet' vs. 'Bukvic, Mihailo', '2018.09.29')>,\n",
       " <Game at 0x7f0b111a4ba8 ('Hebden, Mark L' vs. 'Goodger, Martyn', '2018.09.29')>,\n",
       " <Game at 0x7f0b11409828 ('Moayed, Obied' vs. 'Neiksans, Arturs', '2018.09.28')>,\n",
       " <Game at 0x7f0b11426f28 ('Potocnik, Primoz' vs. 'Rozic, Adrijan', '2018.09.28')>,\n",
       " <Game at 0x7f0b1142f5f8 ('Nadirjanova, Nodira' vs. 'Wafa, Shahenda', '2018.09.28')>,\n",
       " <Game at 0x7f0b114ee668 ('Sanchez Alvarez, Roberto Carlos' vs. 'Rodriguez Vila, Andres', '2018.09.28')>,\n",
       " <Game at 0x7f0b114d8b70 ('Grigorchuk, Sergey' vs. 'Martins, David Pires Tavares', '2018.09.28')>,\n",
       " <Game at 0x7f0b11426c50 ('Supi, Luis Paulo' vs. 'Cheparinov, Ivan', '2018.09.28')>,\n",
       " <Game at 0x7f0b114cff28 ('Jelen, Igor' vs. 'Piskur, Mitja', '2018.09.28')>,\n",
       " <Game at 0x7f0b114fa438 ('Valsecchi, Alessio' vs. 'Pert, Nicholas', '2018.09.28')>,\n",
       " <Game at 0x7f0b12037e80 ('Sowray, Peter J' vs. 'Goodger, Martyn', '2018.09.28')>,\n",
       " <Game at 0x7f0b12026da0 ('Anand Naik, B' vs. 'Popchev, Milko', '2018.09.28')>,\n",
       " <Game at 0x7f0b121167f0 ('Blijstra, Wim' vs. 'Matoewi, Roger', '2018.09.27')>,\n",
       " <Game at 0x7f0b1213eba8 ('Al Qudaimi, Basheer' vs. 'Efimov, Igor', '2018.09.27')>,\n",
       " <Game at 0x7f0b1211f4e0 ('Stocek, Jiri' vs. 'Tabatabaei, M Amin', '2018.09.27')>,\n",
       " <Game at 0x7f0b1202ac18 (\"O'Donnell, Conor\" vs. 'Poulsen, Martin', '2018.09.27')>,\n",
       " <Game at 0x7f0b1239c4e0 ('Tania, Sachdev' vs. 'Kulon, Klaudia', '2018.09.27')>,\n",
       " <Game at 0x7f0b123a69b0 ('Kaliadzich, Maryia' vs. 'Batchimeg, Tuvshintugs', '2018.09.26')>,\n",
       " <Game at 0x7f0b12138470 ('Dominguez, JM' vs. 'Eichab, Charles', '2018.09.26')>,\n",
       " <Game at 0x7f0b123b5ba8 ('Krush, Irina' vs. 'Steil-Antoni, Fiona', '2018.09.25')>,\n",
       " <Game at 0x7f0b12aae048 ('Garcia, Jan Emmanuel' vs. 'Gazik, Viktor', '2018.09.25')>,\n",
       " <Game at 0x7f0b123baba8 ('Berkes, Ferenc' vs. 'Ashiku, Franc', '2018.09.25')>,\n",
       " <Game at 0x7f0b123b5f28 ('Jones, Gawain C B' vs. 'Beukema, Stefan', '2018.09.25')>,\n",
       " <Game at 0x7f0b12abc320 ('Geldyeva, Mekhri' vs. 'Muzychuk, Anna', '2018.09.25')>,\n",
       " <Game at 0x7f0b12b4b748 ('Krumina, Linda' vs. 'Nguyen, Thu Giang', '2018.09.25')>,\n",
       " <Game at 0x7f0b12b46780 ('Lopez Azambuja, Nicolas' vs. 'Fressinet, Laurent', '2018.09.25')>,\n",
       " <Game at 0x7f0b12b4aac8 ('Bartos, Jan' vs. 'Heppell, Ian N', '2018.09.24')>,\n",
       " <Game at 0x7f0b130b9278 ('Tikkanen, Hans' vs. 'Saeheng, Boonsueb', '2018.09.24')>,\n",
       " <Game at 0x7f0b12b6bb70 ('Kozionov, Kirill' vs. 'Okun, Evgeny', '2018.09.23')>,\n",
       " <Game at 0x7f0b130a2438 ('Antunac, Goran' vs. 'Pap, Misa', '2018.09.23')>,\n",
       " <Game at 0x7f0b1309dbe0 ('Muthaiah, AL' vs. 'Deepan, Chakkravarthy J', '2018.09.22')>,\n",
       " <Game at 0x7f0b130a27b8 ('Thorfinnsson, Bjorn' vs. 'Stefansson, Vignir Vatnar', '2018.09.21')>,\n",
       " <Game at 0x7f0b1309f898 ('Ponfilenok, Vladimir' vs. 'Emelianov, Fedor', '2018.09.19')>,\n",
       " <Game at 0x7f0b1317cf28 ('Kelesiadis, Georgios' vs. 'Pavlidis, Anastasios', '2018.09.19')>,\n",
       " <Game at 0x7f0b13159ac8 ('Velten, Paul' vs. 'Chakravarthi Reddy, M', '2018.09.17')>,\n",
       " <Game at 0x7f0b131747f0 ('Draskovic, Luka' vs. 'Popchev, Milko', '2018.09.17')>,\n",
       " <Game at 0x7f0b13152400 ('Barlov, Dragan' vs. 'Pezelj, Novak', '2018.09.16')>,\n",
       " <Game at 0x7f0b1332c438 ('Kuljasevic, Davorin' vs. 'Bukal, Vladimir Jr', '2018.09.16')>,\n",
       " <Game at 0x7f0b13337898 ('Markelova, Lubov' vs. 'Sadykov, Ramil', '2018.09.16')>,\n",
       " <Game at 0x7f0b13152978 ('Salopaa, Tero' vs. 'Vihinen, Teemu', '2018.09.15')>,\n",
       " <Game at 0x7f0b13303ef0 ('Amartuvshin, Ganzorig' vs. 'Nikolovski, Nikola', '2018.09.15')>,\n",
       " <Game at 0x7f0b13312400 ('Bilobrk, Franjo' vs. 'Galyas, Miklos', '2018.09.15')>,\n",
       " <Game at 0x7f0b13338ef0 ('Janssen, Ruud' vs. 'Pruijssers, Roeland', '2018.09.15')>,\n",
       " <Game at 0x7f0b13337e80 ('Kolaric, Spela' vs. 'Wozniak, Mariola', '2018.09.15')>,\n",
       " <Game at 0x7f0b17e2beb8 ('Aczel, Gergely' vs. 'Baratosi, Daniel', '2018.09.14')>,\n",
       " <Game at 0x7f0b3274dcc0 ('Pang, Tao' vs. 'Yakubboev, Nodirbek', '2018.09.14')>,\n",
       " <Game at 0x7f0b17e34400 ('Tica, Sven' vs. 'Bukal, Vladimir Jr', '2018.09.14')>,\n",
       " <Game at 0x7f0b32767eb8 ('Lalic, Bogdan' vs. 'Muse, Drazen', '2018.09.14')>,\n",
       " <Game at 0x7f0b32733eb8 ('Ozen, Deniz' vs. 'Tuncer, Tuna', '2018.09.14')>,\n",
       " <Game at 0x7f0b273d0d68 ('Janik, Igor' vs. 'Van Foreest, Jorden', '2018.09.14')>,\n",
       " <Game at 0x7f0b273e24e0 ('Agibileg, Uurtsaikh' vs. 'Ozer, Omer Faruk', '2018.09.14')>,\n",
       " <Game at 0x7f0b273d2a20 ('Filip, Lucian' vs. 'Aczel, Gergely', '2018.09.14')>,\n",
       " <Game at 0x7f0b273dd2e8 ('De Block, Yordi' vs. 'Taalaibekov, Tagir', '2018.09.13')>,\n",
       " <Game at 0x7f0b273ae748 ('Lach, Aleksandra' vs. 'Wozniak, Mariola', '2018.09.13')>,\n",
       " <Game at 0x7f0affe138d0 ('Spiranec, Noemi' vs. 'Berke, Ana', '2018.09.13')>,\n",
       " <Game at 0x7f0affe0b978 ('Sunilduth Lyna, Narayanan' vs. 'Philippe, Guillaume', '2018.09.12')>,\n",
       " <Game at 0x7f0affe0e550 ('Beydullayeva, Govhar' vs. 'Nomin-Erdene, Davaademberel', '2018.09.12')>,\n",
       " <Game at 0x7f0affe13588 ('Kozul, Zdenko' vs. 'Bukal, Vladimir Jr', '2018.09.11')>,\n",
       " <Game at 0x7f0affe1aa20 ('Markus, Robert' vs. 'Muse, Drazen', '2018.09.11')>,\n",
       " <Game at 0x7f0afff21390 ('Cramling Bellon, Anna' vs. 'Wafa, Shahenda', '2018.09.11')>,\n",
       " <Game at 0x7f0afff3def0 ('Luong, Phuong Hanh' vs. 'Lyell, M', '2018.09.10')>,\n",
       " <Game at 0x7f0affe35898 ('Pigeat, Alexandre' vs. 'Petkov, Momchil', '2018.09.10')>,\n",
       " <Game at 0x7f0afff029b0 ('Bagaturov, Giorgi' vs. 'Zeynalli, Rashad Hamza', '2018.09.10')>,\n",
       " <Game at 0x7f0aff9446d8 ('Ivekovic, A CRO' vs. 'Krivec, Jana', '2018.09.10')>,\n",
       " <Game at 0x7f0aff967630 ('Bajerlein, Dawid' vs. 'Graczyk, Damian', '2018.09.09')>,\n",
       " <Game at 0x7f0afff33320 ('Bender, Ivan' vs. 'Bukal, Vladimir Jr', '2018.09.09')>,\n",
       " <Game at 0x7f0b045ea8d0 ('Medic, Mirjana' vs. 'Berke, Ana', '2018.09.09')>,\n",
       " <Game at 0x7f0b045fc2b0 ('Sowray, Peter J' vs. 'Wall, Gavin', '2018.09.09')>,\n",
       " <Game at 0x7f0b045e8940 ('Lysyj, Igor' vs. 'Ulibin, Mikhail', '2018.09.08')>,\n",
       " <Game at 0x7f0b0445a588 ('Gurvich, Vitaly' vs. 'Glek, Igor', '2018.09.08')>,\n",
       " <Game at 0x7f0b0446b908 ('Czerwonski, Aleksander' vs. 'Lyell, M', '2018.09.07')>,\n",
       " <Game at 0x7f0b04451f60 ('Kokoszczynski, Jan' vs. 'Dudzinski, Pawel', '2018.09.07')>,\n",
       " <Game at 0x7f0b045d2d68 ('Stachowiak, Kamil' vs. 'Kumala, Aleksander', '2018.09.07')>,\n",
       " <Game at 0x7f0b046f97b8 ('Haldorsen, Benjamin' vs. 'Milosevic, Milos', '2018.09.07')>,\n",
       " <Game at 0x7f0b046ccbe0 ('Wacior, Maciej' vs. 'Jedryczka, Krystian', '2018.09.07')>,\n",
       " <Game at 0x7f0b04674f60 ('Tang, Andrew' vs. 'Firouzja, Alireza', '2018.09.07')>,\n",
       " <Game at 0x7f0b04647160 ('Szymanski, Piotr POL' vs. 'Jaskolka, Tomasz', '2018.09.07')>,\n",
       " <Game at 0x7f0b0466cdd8 ('Song, Yuxin' vs. 'Nomin-Erdene, Davaademberel', '2018.09.07')>,\n",
       " <Game at 0x7f0b04668d68 ('Gbyl, Andrzej' vs. 'Tomaszewski, K', '2018.09.07')>,\n",
       " <Game at 0x7f0b0468e9e8 ('Lorenzo de la Riva, Lazaro' vs. 'Boixader Arbo, Xavier', '2018.09.06')>,\n",
       " <Game at 0x7f0b0469d9b0 ('Kosic, Dragan' vs. 'Pap, Misa', '2018.09.06')>,\n",
       " <Game at 0x7f0b046b4828 ('Wypych, Dominik' vs. 'Raczynski, Krzysztof', '2018.09.06')>,\n",
       " <Game at 0x7f0aff8bff60 ('Petrosyan, Manuel' vs. 'Tuncer, Tuna', '2018.09.06')>,\n",
       " <Game at 0x7f0b046b41d0 ('De Block, Yordi' vs. 'Sevgi, Volkan', '2018.09.06')>,\n",
       " <Game at 0x7f0aff888c18 ('Christiansen, Johan-Sebastian' vs. 'Milosevic, Milos', '2018.09.05')>,\n",
       " <Game at 0x7f0b04036cc0 ('Walaszczyk, Witold' vs. 'Czerw, D', '2018.09.05')>,\n",
       " <Game at 0x7f0b0468e668 ('Erdogan, Anil Berk' vs. 'Nikolovski, Nikola', '2018.09.05')>,\n",
       " <Game at 0x7f0b04042be0 ('Zhu, Yi' vs. 'Xu, Xiangyu', '2018.09.05')>,\n",
       " <Game at 0x7f0b0401f6a0 ('Dhulipalla, Bala Chandra Prasad' vs. 'Rahman, Ziaur', '2018.09.04')>,\n",
       " <Game at 0x7f0affe842e8 ('Sarana, Alexey' vs. 'Oparin, Grigoriy', '2018.09.04')>,\n",
       " <Game at 0x7f0affebc9e8 ('Prraneeth, Vuppala' vs. 'Lyell, M', '2018.09.04')>,\n",
       " <Game at 0x7f0affe8bfd0 ('Praszak, Michal' vs. 'Wolynski, Krzysztof', '2018.09.04')>,\n",
       " <Game at 0x7f0b042e1828 ('Diulger, Alexey' vs. 'Arjun, Vishnuvardhan', '2018.09.03')>,\n",
       " <Game at 0x7f0b042d3dd8 ('Lewtak, Damian' vs. 'Jakubiec, Artur', '2018.09.03')>,\n",
       " <Game at 0x7f0b042de860 ('Wheeler, Cameron' vs. 'Green, Austen Jay', '2018.09.01')>,\n",
       " <Game at 0x7f0b042e36d8 ('Baburin, Alexander' vs. 'Fischer, Sebastian', '2018.09.01')>,\n",
       " <Game at 0x7f0aff8d9438 ('Kahn, Evarth Dr' vs. 'To, Nhat Minh', '2018.09.01')>,\n",
       " <Game at 0x7f0b042fc1d0 ('Radovanovic, Mihajlo' vs. 'Sarenac, David', '2018.09.01')>,\n",
       " <Game at 0x7f0aff8e8c50 ('Ratkovic, Milovan' vs. 'Lyell, M', '2018.09.01')>,\n",
       " <Game at 0x7f0b042e5940 ('Gelfand, Boris' vs. 'Laznicka, Viktor', '2018.09.01')>,\n",
       " <Game at 0x7f0aff9f9be0 ('Lukasiewicz, Krzysztof' vs. 'Mickiewicz, Piotr', '2018.09.01')>,\n",
       " <Game at 0x7f0aff8c3b38 ('Benkovic, Petar' vs. 'Pap, Misa', '2018.09.01')>,\n",
       " <Game at 0x7f0aff9d5cf8 ('Zegarac, Vuk' vs. 'Ilic, DM', '2018.08.31')>,\n",
       " <Game at 0x7f0affdfaa58 ('Pavlidis, Anastasios' vs. 'Babaniya, Benyamin', '2018.08.31')>,\n",
       " <Game at 0x7f0affddb128 ('Dedebas, Emre Emin' vs. 'Guseynov, A', '2018.08.31')>,\n",
       " <Game at 0x7f0aff9e2dd8 ('Wang, Annie' vs. 'Diulger, Alexey', '2018.08.31')>,\n",
       " <Game at 0x7f0affdc4668 ('Degenhard, Simon' vs. 'Pali, Philipp', '2018.08.30')>,\n",
       " <Game at 0x7f0affde4c50 ('Rut, Vojtech' vs. 'Vanka, Miloslav', '2018.08.30')>,\n",
       " <Game at 0x7f0affdc6b70 ('Boyer, Mahel' vs. 'Gines Esteo, Pedro Antonio', '2018.08.29')>,\n",
       " <Game at 0x7f0affdd91d0 ('Reimann, Robert' vs. 'Fleischer, Frank', '2018.08.28')>,\n",
       " <Game at 0x7f0afff8f240 ('Dehlinger, Alexander' vs. 'Pali, Philipp', '2018.08.28')>,\n",
       " <Game at 0x7f0afff82160 ('Postnikov, Roman' vs. 'Martinovici, Ilie', '2018.08.26')>,\n",
       " <Game at 0x7f0b04081048 ('Plischki, Sebastian' vs. 'Kapusta, Petr', '2018.08.26')>,\n",
       " <Game at 0x7f0b04066240 ('Ushenina, Anna' vs. 'Wang, Yu A', '2018.08.25')>,\n",
       " <Game at 0x7f0b04052b38 ('Jandke, Manfred' vs. 'Pacher, Simon', '2018.08.24')>,\n",
       " <Game at 0x7f0afffb5eb8 ('Meskovs, Nikita' vs. 'Fleischer, Frank', '2018.08.24')>,\n",
       " <Game at 0x7f0b04334358 ('Sole Pijuan, Ferran' vs. 'Samuel Lares, Jairo', '2018.08.24')>,\n",
       " <Game at 0x7f0b0432d2b0 ('Schloffer, Jasmin-Denise' vs. 'Olde, Margareth', '2018.08.24')>,\n",
       " <Game at 0x7f0b04342748 ('Matnadze, Ana' vs. 'Garcia Garcia, A', '2018.08.24')>,\n",
       " <Game at 0x7f0b04315e48 ('Yeoh, Li Tian' vs. 'Idani, Pouya', '2018.08.23')>,\n",
       " <Game at 0x7f0b0431be48 ('Mojzis, Jaroslav' vs. 'Gnojek, Petr', '2018.08.23')>,\n",
       " <Game at 0x7f0b0432d630 ('Garza Marco, Sergio' vs. 'Tudela Corbalan, Carlos', '2018.08.23')>,\n",
       " <Game at 0x7f0aff6e81d0 ('Alvarez Fernandez, Enrique' vs. 'Jimenez de la Torre, Jose A', '2018.08.23')>,\n",
       " <Game at 0x7f0b04316390 ('Nie, Xin' vs. 'Zhu, Jiner', '2018.08.23')>,\n",
       " <Game at 0x7f0b09323710 ('Saldano Dayer, Horacio' vs. 'Molina, PaS', '2018.08.23')>,\n",
       " <Game at 0x7f0b09304b00 ('Castellanos Gomez, Alejandro' vs. 'Fernandez Montero, Francisco M', '2018.08.22')>,\n",
       " <Game at 0x7f0b09302c18 ('Polyik, Peter' vs. 'Lyell, M', '2018.08.22')>,\n",
       " <Game at 0x7f0b0930a198 ('Santos Latasa, Jaime' vs. 'Romero Romero, Sebastian', '2018.08.22')>,\n",
       " <Game at 0x7f0b109df9b0 ('Kapp, Martin' vs. 'Sabrowski, Uwe', '2018.08.22')>,\n",
       " <Game at 0x7f0b109fd278 ('Serarols Mabras, Bernat' vs. 'Santos Latasa, Jaime', '2018.08.21')>,\n",
       " <Game at 0x7f0b109cdba8 ('Grivas, Efstratios' vs. 'Nguyen, P', '2018.08.21')>,\n",
       " <Game at 0x7f0b109ebe80 ('Moreno Ruiz, Javier' vs. 'Tudela Corbalan, Carlos', '2018.08.21')>,\n",
       " <Game at 0x7f0af7328128 ('Docx, Stefan' vs. 'Van Herck, Marcel', '2018.08.21')>,\n",
       " <Game at 0x7f0af7307ba8 ('Dedebas, Emre Emin' vs. 'Valsecchi, Alessio', '2018.08.21')>,\n",
       " <Game at 0x7f0af7393a58 ('Montero Melendez, Rafael' vs. 'Garcia Garcia, A', '2018.08.21')>,\n",
       " <Game at 0x7f0af7331320 ('Santos Ruiz, Miguel' vs. 'Fernandez Montero, Francisco M', '2018.08.20')>,\n",
       " <Game at 0x7f0af73102b0 ('Gareev, Timur' vs. 'Aaron, Deepak', '2018.08.20')>,\n",
       " <Game at 0x7f0af7385b38 ('Vazquez, Guillermo' vs. 'Stukopin, Andrey', '2018.08.20')>,\n",
       " <Game at 0x7f0af73836d8 ('Ovchinnikov, Vsevolod' vs. 'Lugovoy, Dmitry', '2018.08.20')>,\n",
       " <Game at 0x7f0af741cd30 ('Estremera Panos, Sergio' vs. 'Centron Antuna, Daniel', '2018.08.19')>,\n",
       " <Game at 0x7f0af742f470 ('Roldan Marques, Daniel' vs. 'Sanchez Jimenez, JC', '2018.08.19')>,\n",
       " <Game at 0x7f0af73adef0 ('Fenil, Shah' vs. 'Paltrinieri, Nicholas', '2018.08.19')>,\n",
       " <Game at 0x7f0af741e550 ('Espinosa Aranda, Angel' vs. 'Centron Antuna, Daniel', '2018.08.19')>,\n",
       " <Game at 0x7f0af739def0 ('Orantes Taboada, Francisco' vs. 'Garcia Garcia, A', '2018.08.19')>,\n",
       " <Game at 0x7f0af73fdf60 ('Garcia Cuenca, Victor' vs. 'Riquelme Valero, Manuel Damian', '2018.08.19')>,\n",
       " <Game at 0x7f0af73d11d0 ('Fernandez De Bobadilla, Gabriel' vs. 'Roldan Marques, Daniel', '2018.08.19')>,\n",
       " <Game at 0x7f0af73c1ef0 ('Fernandez De Bobadilla, Gabriel' vs. 'Fernandez Diaz, Ignacio', '2018.08.19')>,\n",
       " <Game at 0x7f0af73d8908 ('Camacho Collados, Marcos' vs. 'Fernandez Diaz, Ignacio', '2018.08.19')>,\n",
       " <Game at 0x7f0af73c1518 ('Farago, Ivan' vs. 'Torma, Robert', '2018.08.18')>,\n",
       " <Game at 0x7f0af7465080 ('Kulkarni, Bhakti' vs. 'Grivas, Efstratios', '2018.08.18')>,\n",
       " <Game at 0x7f0af7443048 ('Kolaric, Spela' vs. 'Zelic, Mladen', '2018.08.18')>,\n",
       " <Game at 0x7f0af7479b38 ('Khusenkhojaev, Muhammad' vs. 'Tsydypov, Zhamsaran', '2018.08.18')>,\n",
       " <Game at 0x7f0af7465ba8 ('Kalodoukas, Odysseas' vs. 'Tsaknakis, Zisis', '2018.08.18')>,\n",
       " <Game at 0x7f0af745d208 ('Silva Rodriguez, Fernando' vs. 'Escudero Manzano, Sergio', '2018.08.18')>,\n",
       " <Game at 0x7f0af74421d0 ('Husarik, Branko' vs. 'Bronowicki, Mateusz', '2018.08.18')>,\n",
       " <Game at 0x7f0af74d1518 ('Arjun, Vishnuvardhan' vs. 'Green, Austen Jay', '2018.08.18')>,\n",
       " <Game at 0x7f0af7617400 ('Tikhonov, Viacheslav' vs. 'Lukovnikov, Alexander', '2018.08.17')>,\n",
       " <Game at 0x7f0af763c898 ('Sperling, Lennart' vs. 'Sturt, Raven M', '2018.08.17')>,\n",
       " <Game at 0x7f0af7606da0 ('Turov, Maxim' vs. 'Alvarado Diaz, Alejandro', '2018.08.17')>,\n",
       " <Game at 0x7f0af762f198 ('Lobo Rodriguez, Jesus Angel' vs. 'Escudero Manzano, Sergio', '2018.08.17')>,\n",
       " <Game at 0x7f0af7632080 ('Rozman, Levy' vs. 'Green, Austen Jay', '2018.08.17')>,\n",
       " <Game at 0x7f0af7682cf8 ('Kamnev, Alexander' vs. 'Maletina, Tatiana', '2018.08.17')>,\n",
       " <Game at 0x7f0af7615dd8 ('Guerra, Victor' vs. 'Dias, Paulo', '2018.08.17')>,\n",
       " <Game at 0x7f0af76ae5f8 ('Fidalgo, Andre Neves' vs. 'Martins, David Pires Tavares', '2018.08.16')>,\n",
       " <Game at 0x7f0af768e438 ('Guillo Longares, Cecilia' vs. 'Gallardo Alarcon, Aurelio', '2018.08.16')>,\n",
       " <Game at 0x7f0af765d978 ('Sibashvili, Giorgi' vs. 'Guseynov, A', '2018.08.15')>,\n",
       " <Game at 0x7f0af76495c0 ('Stupak, Kirill' vs. 'Lugovoy, Dmitry', '2018.08.15')>,\n",
       " <Game at 0x7f0af7645358 ('Silva Rodriguez, Fernando' vs. 'Fernandez Romero, Ernesto', '2018.08.15')>,\n",
       " <Game at 0x7f0af7649390 ('Doric, Darko' vs. 'Piskur, Mitja', '2018.08.15')>,\n",
       " <Game at 0x7f0af7677358 ('Basso, Pier Luigi' vs. 'Krishna, C R G', '2018.08.14')>,\n",
       " <Game at 0x7f0af77156a0 ('Goormachtigh, Johan' vs. 'Ringoir, Tanguy', '2018.08.13')>,\n",
       " <Game at 0x7f0af7677240 ('Lin, Yi' vs. 'Xu, Xiangyu', '2018.08.13')>,\n",
       " <Game at 0x7f0af77046a0 ('Alvarado Diaz, Alejandro' vs. 'Korneev, Svyatoslav', '2018.08.13')>,\n",
       " <Game at 0x7f0af7728e10 ('Saligo, Luc' vs. 'Becx, Cesar', '2018.08.13')>,\n",
       " <Game at 0x7f0af7640be0 ('Koustav, Chatterjee' vs. 'Ikeda, Junta', '2018.08.13')>,\n",
       " <Game at 0x7f0af7731438 ('Wagh, Suyog' vs. 'Harsha, Bharathakoti', '2018.08.13')>,\n",
       " <Game at 0x7f0af7760588 ('Rodriguez Ferraz, Borja' vs. 'Rychagov, Andrey', '2018.08.12')>,\n",
       " <Game at 0x7f0af774e128 ('Nayhebaver, Martin' vs. 'Praveen Kumar, C', '2018.08.12')>,\n",
       " <Game at 0x7f0af7745048 ('Townsend, M Paul' vs. 'Koziak, Vitali', '2018.08.12')>,\n",
       " <Game at 0x7f0af76efa58 ('Almagro Llamas, Pablo' vs. 'Rivas Garcia, Victor', '2018.08.12')>,\n",
       " <Game at 0x7f0af76d5630 ('Ruck, Robert' vs. 'Dionisi, Thomas', '2018.08.12')>,\n",
       " <Game at 0x7f0af76cd438 ('Plazuelo Pascual, Juan' vs. 'Alonso Moyano, Jonathan', '2018.08.12')>,\n",
       " <Game at 0x7f0af76eb828 ('Margarido, J' vs. 'Santos, Jose Alves', '2018.08.12')>,\n",
       " <Game at 0x7f0af787e550 ('Cagasik, Tomas' vs. 'Husarik, Branko', '2018.08.12')>,\n",
       " <Game at 0x7f0af76de208 ('Fidalgo, Andre Neves' vs. 'Dias, Paulo', '2018.08.12')>,\n",
       " <Game at 0x7f0af7865208 ('Iniyan, P' vs. 'Sjugirov, Sanan', '2018.08.11')>,\n",
       " <Game at 0x7f0af77a9d30 ('Gupta, Abhijeet' vs. 'Raes, Abdul Kader', '2018.08.11')>,\n",
       " <Game at 0x7f0af778fda0 ('Cosman, A' vs. 'Dobre, ClC', '2018.08.11')>,\n",
       " <Game at 0x7f0af779a828 ('Vera Gonzalez-Quevedo, Reynaldo' vs. 'Cruz Ramirez, Nauzet', '2018.08.11')>,\n",
       " <Game at 0x7f0af77b5320 ('Bhambure, Shantanu' vs. 'Eric, Jovana', '2018.08.11')>,\n",
       " <Game at 0x7f0af78bdf60 ('Daneshvar, Bardiya' vs. 'Ikeda, Junta', '2018.08.11')>,\n",
       " <Game at 0x7f0af78828d0 ('To, Nhat Minh' vs. 'Lyell, M', '2018.08.11')>,\n",
       " <Game at 0x7f0af78a8550 ('Vazquez Torres, Adrian' vs. 'Gutierrez Olivares, Daniel', '2018.08.11')>,\n",
       " <Game at 0x7f0af78a6470 ('Granero Roca, Antonio' vs. 'Rivas Garcia, Victor', '2018.08.10')>,\n",
       " <Game at 0x7f0af79dea90 ('Miron, Lucian-Costin' vs. 'Bogdan, Dan', '2018.08.10')>,\n",
       " <Game at 0x7f0af79ec8d0 (\"O'Donnell, Conor\" vs. 'Short, Philip M', '2018.08.09')>,\n",
       " <Game at 0x7f0af79edda0 ('Kumar, Nikhil' vs. 'Lyell, M', '2018.08.09')>,\n",
       " <Game at 0x7f0af79d5908 ('Repka, Christopher' vs. 'Pechac, Jergus', '2018.08.09')>,\n",
       " <Game at 0x7f0af79ecc50 ('Moskalenko, Viktor' vs. 'Moreno Tejera, Emilio', '2018.08.09')>,\n",
       " <Game at 0x7f0af79dcbe0 ('Kuybokarov, Temur' vs. 'Maghsoodloo, Parham', '2018.08.09')>,\n",
       " <Game at 0x7f0af7aad3c8 ('Afek, Yochanan' vs. 'Hoeneveld, Maarten', '2018.08.08')>,\n",
       " <Game at 0x7f0af7a81cc0 ('Panelo, M' vs. 'Sturt, Raven M', '2018.08.08')>,\n",
       " <Game at 0x7f0af7ab70f0 ('Rozum, Ivan' vs. 'Tsydypov, Zhamsaran', '2018.08.08')>,\n",
       " <Game at 0x7f0af7c0ee10 ('Iniyan, P' vs. 'Dubov, Daniil', '2018.08.08')>,\n",
       " <Game at 0x7f0af7c3e1d0 ('Grib, Roman' vs. 'Walkusz, Witoslaw', '2018.08.08')>,\n",
       " <Game at 0x7f0af79fd828 ('Nenezic, Marko' vs. 'Sedlak, Nikola', '2018.08.08')>,\n",
       " <Game at 0x7f0af7c07320 ('Knezevic, Miodrag' vs. 'Nikac, Predrag', '2018.08.08')>,\n",
       " <Game at 0x7f0af7c02748 ('Alonso Alvarez, Aitor' vs. 'Pap, Misa', '2018.08.08')>,\n",
       " <Game at 0x7f0af7c074a8 ('Sorin, Ariel' vs. 'Rodriguez Vila, Andres', '2018.08.08')>,\n",
       " <Game at 0x7f0af7d3d0b8 ('De Strycker, Nathan' vs. 'Ootes, Lars', '2018.08.08')>,\n",
       " <Game at 0x7f0af7d1e4e0 ('Aliyev, Ravan' vs. 'Cheparinov, Ivan', '2018.08.07')>,\n",
       " <Game at 0x7f0af7d246d8 ('Grischuk, Alexander' vs. 'Nepomniachtchi, Ian', '2018.08.07')>,\n",
       " <Game at 0x7f0af7cdc438 ('Georgescu, Tiberiu-Marian' vs. 'Patrascu, Catalin-Lucian', '2018.08.07')>,\n",
       " <Game at 0x7f0af7cc6198 ('Grischuk, Alexander' vs. 'Nepomniachtchi, Ian', '2018.08.07')>,\n",
       " <Game at 0x7f0af7ce9b38 ('Mehar, Chinna Reddy C H' vs. 'Pruijssers, Roeland', '2018.08.07')>,\n",
       " <Game at 0x7f0af7cdf8d0 ('Grischuk, Alexander' vs. 'Nepomniachtchi, Ian', '2018.08.07')>,\n",
       " <Game at 0x7f0af7cdca58 ('Kahn, Evarth Dr' vs. 'Lyell, M', '2018.08.07')>,\n",
       " <Game at 0x7f0af7cea470 ('Grischuk, Alexander' vs. 'Nepomniachtchi, Ian', '2018.08.07')>,\n",
       " <Game at 0x7f0af7e39e10 ('Cruz Lledo, Pablo' vs. 'Hjelmas, Lars', '2018.08.07')>,\n",
       " <Game at 0x7f0af7e2e9b0 ('Clark, GM' vs. 'Agdestein, Simen', '2018.08.07')>,\n",
       " <Game at 0x7f0af7e24a20 ('Del Rio de Angelis, Salvador G' vs. 'Moskalenko, Viktor', '2018.08.06')>,\n",
       " <Game at 0x7f0af7eb4f98 ('Colpe, Malte' vs. 'Plassmann, Dominik', '2018.08.06')>,\n",
       " <Game at 0x7f0af7e991d0 ('Sichinava, Zviad' vs. 'Bitkinin, Lenar', '2018.08.06')>,\n",
       " <Game at 0x7f0af7eaca90 ('Clark, GM' vs. 'Gayson, Peter M', '2018.08.06')>,\n",
       " <Game at 0x7f0af7e89978 ('Lucas Leon, Angel' vs. 'Torres Sanchez, Jose', '2018.08.06')>,\n",
       " <Game at 0x7f0af7e97940 ('Murray, David' vs. 'Wall, Gavin', '2018.08.06')>,\n",
       " <Game at 0x7f0af7ec3fd0 ('Deshpande, Ani' vs. 'Sturt, Raven M', '2018.08.06')>,\n",
       " <Game at 0x7f0af7ef5630 ('Grochal, Joey' vs. 'Gorny, Michael', '2018.08.06')>,\n",
       " <Game at 0x7f0af7ed2eb8 ('Prado Acebo, Ines' vs. 'Rodrigo Yanguas, Maria', '2018.08.06')>,\n",
       " <Game at 0x7f0af7fa3c18 ('Sorin, Ariel' vs. 'Santiago, Yago de Moura', '2018.08.06')>,\n",
       " <Game at 0x7f0af7ed21d0 ('Wagenvoorde, Guido' vs. 'Sandipan, Chanda', '2018.08.06')>,\n",
       " <Game at 0x7f0af7f9aef0 ('Stupak, Kirill' vs. 'Caspi, Israel', '2018.08.05')>,\n",
       " <Game at 0x7f0af7f95320 ('Mirzoev, Emil' vs. 'Swicarz, Maciej', '2018.08.05')>,\n",
       " <Game at 0x7f0af803f8d0 ('Gasanov, Eldar' vs. 'Plesek, Jiri', '2018.08.05')>,\n",
       " <Game at 0x7f0af802a0b8 ('Tsay, Vincent' vs. 'Lyell, M', '2018.08.05')>,\n",
       " <Game at 0x7f0af8020d30 ('Becker, Mat2' vs. 'Pick, Stepan', '2018.08.04')>,\n",
       " <Game at 0x7f0af8005898 ('Malakhatko, Vadim' vs. 'Ringoir, Tanguy', '2018.08.04')>,\n",
       " <Game at 0x7f0af802ab00 ('Filgueira, Hernan' vs. 'Cuberli, Emiliano', '2018.08.04')>,\n",
       " <Game at 0x7f0af816e1d0 ('Goluch, Piotr' vs. 'Zgadzaj, Rafal', '2018.08.04')>,\n",
       " <Game at 0x7f0af816d358 ('Mendez, Ernesto' vs. 'Molina, PaS', '2018.08.04')>,\n",
       " <Game at 0x7f0af8023c18 ('Wells, Peter K' vs. 'Wall, Tim P', '2018.08.04')>,\n",
       " <Game at 0x7f0af8168eb8 ('Ahlander, Bjorn' vs. 'Ivarsson, Torbjorn', '2018.08.04')>,\n",
       " <Game at 0x7f0af8023e10 ('Sycz, Dariusz' vs. 'Swicarz, Maciej', '2018.08.04')>,\n",
       " <Game at 0x7f0af8100898 ('Heinert, Eugen' vs. 'Fischer, Sebastian', '2018.08.04')>,\n",
       " <Game at 0x7f0af8125828 ('Ward, Chris G' vs. 'Pert, Nicholas', '2018.08.03')>,\n",
       " <Game at 0x7f0af8105240 ('Chiku-Ratte, Olivier-Kenta' vs. 'Rozman, Levy', '2018.08.03')>,\n",
       " <Game at 0x7f0af81e3748 ('Zgadzaj, Rafal' vs. 'Kumala, Aleksander', '2018.08.03')>,\n",
       " <Game at 0x7f0af8125a20 ('Stephan, Victor' vs. 'Soubirou, Oriane', '2018.08.03')>,\n",
       " <Game at 0x7f0af81e8780 ('Carneiro, Vitor Roberto Castro' vs. 'Martins, Ca1', '2018.08.03')>,\n",
       " <Game at 0x7f0af81d1cc0 ('Hamblok, Roel' vs. 'Maddens, Martijn', '2018.08.03')>,\n",
       " <Game at 0x7f0af82a6e80 ('Hoffmeister, F GER' vs. 'Naumkin, Igor', '2018.08.02')>,\n",
       " <Game at 0x7f0af828b0f0 ('Schroeder, Wilfried' vs. 'Godoj, Veit', '2018.08.02')>,\n",
       " <Game at 0x7f0af81d7898 ('Lai, Hing Ting' vs. 'Sandipan, Chanda', '2018.08.02')>,\n",
       " <Game at 0x7f0af8280198 ('Fernandes, Miguel A. Murtinho' vs. 'Vassallo Barroche, Mauricio', '2018.08.02')>,\n",
       " <Game at 0x7f0af829ee48 ('Fernandez Diaz, Cristian' vs. 'Narciso Dublan, Marc', '2018.08.02')>,\n",
       " <Game at 0x7f0af820e2e8 ('Van Meegen, Ruud' vs. 'Beukema, Stefan', '2018.08.02')>,\n",
       " <Game at 0x7f0af82ab390 ('Inkiov, Ventzislav' vs. 'Maddens, Martijn', '2018.08.02')>,\n",
       " <Game at 0x7f0af8225160 ('Goormachtigh, Johan' vs. 'Le Quang, Kim', '2018.08.02')>,\n",
       " <Game at 0x7f0af8203940 ('Budrewicz, Krzysztof' vs. 'Gleizerov, Evgeny', '2018.08.02')>,\n",
       " <Game at 0x7f0af8230c50 ('Ererdem, G' vs. 'Dastan, Muhammed Batuhan', '2018.08.02')>,\n",
       " <Game at 0x7f0af83737f0 ('Ringoir, Tanguy' vs. 'Bomans, Arno', '2018.08.01')>,\n",
       " <Game at 0x7f0af8361908 ('Dos Santos, Haroldo Cunha' vs. 'Rodriguez Vila, Andres', '2018.08.01')>,\n",
       " <Game at 0x7f0af837c048 ('Krause, Jonah' vs. 'Kaulich, Philipp Theodor', '2018.08.01')>,\n",
       " <Game at 0x7f0af836de48 ('Rahul, Srivatshav P' vs. 'Zgadzaj, Rafal', '2018.08.01')>,\n",
       " <Game at 0x7f0af83596d8 ('Kokoszczynski, Jan' vs. 'Caspi, Israel', '2018.08.01')>,\n",
       " <Game at 0x7f0af831e3c8 ('Siclari, Giovanni' vs. 'Nester, Ihor', '2018.08.01')>,\n",
       " <Game at 0x7f0af831b8d0 ('Wacior, Maciej' vs. 'Grebeniuk, Semen', '2018.08.01')>,\n",
       " <Game at 0x7f0af830f048 ('Grossmann, Ryszard' vs. 'Nowak, Mikolaj', '2018.08.01')>,\n",
       " <Game at 0x7f0af831b748 ('Pollack, Oscar' vs. 'Waddington, Mike P', '2018.07.31')>,\n",
       " <Game at 0x7f0af834cba8 ('Anand Naik, B' vs. 'Sandipan, Chanda', '2018.07.31')>,\n",
       " <Game at 0x7f0af841e240 ('Langreck, John' vs. 'Tarjan, James E', '2018.07.31')>,\n",
       " <Game at 0x7f0af8416470 ('Quiring, Nikolai' vs. 'Kaulich, Philipp Theodor', '2018.07.30')>,\n",
       " <Game at 0x7f0af8482e10 ('Spraggett, Kevin' vs. 'Forgas Moreno, Yaniela', '2018.07.30')>,\n",
       " <Game at 0x7f0af8485eb8 ('Flom, Gabriel' vs. 'Antipov, Mikhail Al', '2018.07.30')>,\n",
       " <Game at 0x7f0af8488358 ('Fontaine, Quentin' vs. 'Bomans, Arno', '2018.07.30')>,\n",
       " <Game at 0x7f0af849b908 ('Grochowalski, Pawel' vs. 'Ventura, Salvatore', '2018.07.30')>,\n",
       " <Game at 0x7f0af849a4e0 ('Mendez, Ernesto' vs. 'Saldano Dayer, Horacio', '2018.07.30')>,\n",
       " <Game at 0x7f0af84cccf8 ('Sadkowski, Daniel' vs. 'Bomans, Arno', '2018.07.29')>,\n",
       " <Game at 0x7f0af8490ef0 ('Thurlow, Kevin J' vs. 'McMichael, Richard J', '2018.07.29')>,\n",
       " <Game at 0x7f0af865a198 ('Mufic, Goran' vs. 'Ridolfo, Enrico', '2018.07.29')>,\n",
       " <Game at 0x7f0af84ffe80 ('Salem, A R Saleh' vs. 'Ikeda, Junta', '2018.07.29')>,\n",
       " <Game at 0x7f0af86540f0 ('Grochowalski, Pawel' vs. 'Nester, Ihor', '2018.07.29')>,\n",
       " <Game at 0x7f0af84ed0f0 ('Urkedal, Frode' vs. 'Nilsson, P1', '2018.07.29')>,\n",
       " <Game at 0x7f0af8791828 ('Antipov, Mikhail Al' vs. 'Krishna, C R G', '2018.07.29')>,\n",
       " <Game at 0x7f0af87a2080 ('Stojanovic, Mih' vs. 'Soham, Das1', '2018.07.29')>,\n",
       " <Game at 0x7f0af8674f98 ('Atzl, Florian' vs. 'Spiesberger, Gerhard', '2018.07.29')>,\n",
       " <Game at 0x7f0af87b6c88 ('Vanden Bussche, Steven' vs. 'Maddens, Martijn', '2018.07.29')>,\n",
       " <Game at 0x7f0af868d8d0 ('Chauvon, Guillaume' vs. 'Van Mechelen, Jan', '2018.07.28')>,\n",
       " <Game at 0x7f0af86b1400 ('Leenhouts, Koen' vs. 'Schoppen, Casper', '2018.07.28')>,\n",
       " <Game at 0x7f0af8698978 ('Neverov, Valeriy' vs. 'Potapov, Pavel', '2018.07.28')>,\n",
       " <Game at 0x7f0af8793358 ('Gonzalez, Francisco Silva' vs. 'Nilsson, P1', '2018.07.28')>,\n",
       " <Game at 0x7f0af8691898 ('Itgelt, Khuyagtsogt' vs. 'Pekar, Vaclav', '2018.07.28')>,\n",
       " <Game at 0x7f0af8778e48 ('Wallner, Joachim' vs. 'Balinov, Ilia', '2018.07.28')>,\n",
       " <Game at 0x7f0af8695390 ('Michalicka, Milan' vs. 'Baratosi, Daniel', '2018.07.28')>,\n",
       " <Game at 0x7f0af8770240 ('Zujev, Oleg' vs. 'Gleizerov, Evgeny', '2018.07.28')>,\n",
       " <Game at 0x7f0af8778128 ('Thirion, Marcel' vs. 'Gurevich, Mikhail', '2018.07.28')>,\n",
       " <Game at 0x7f0af8774f60 ('Granero Roca, Antonio' vs. 'Martinez Tormo, Jorge', '2018.07.28')>,\n",
       " <Game at 0x7f0af86f8048 ('Schroeder, Kevin' vs. 'Caspi, Israel', '2018.07.28')>,\n",
       " <Game at 0x7f0af86f43c8 ('Dishman, Stephen' vs. 'Ivarsson, Torbjorn', '2018.07.28')>,\n",
       " <Game at 0x7f0af877d3c8 ('Maloberti, David' vs. 'Manea, Alexandru', '2018.07.27')>,\n",
       " <Game at 0x7f0af86e1f28 ('Mirzoeva, Elmira' vs. 'Itgelt, Khuyagtsogt', '2018.07.27')>,\n",
       " <Game at 0x7f0af86e9d30 ('Nastase, Robert-Paul' vs. 'Stanciu, Traian', '2018.07.27')>,\n",
       " <Game at 0x7f0af881e0b8 ('Fisar, Josef' vs. 'Kula, Dominik', '2018.07.27')>,\n",
       " <Game at 0x7f0af880cb38 ('Hasangatin, Ramil' vs. 'Potapov, Alexander', '2018.07.27')>,\n",
       " <Game at 0x7f0af88fd1d0 ('Feit, Florian' vs. 'Brueck, Michael', '2018.07.27')>,\n",
       " <Game at 0x7f0af88ec198 ('Potapov, Alexander' vs. 'Caspi, Israel', '2018.07.26')>,\n",
       " <Game at 0x7f0af8811c18 ('Lammers, Markus' vs. 'Ivarsson, Torbjorn', '2018.07.26')>,\n",
       " <Game at 0x7f0af88c0eb8 ('Nechaeva, Marina' vs. 'Mamedjarova, Zeinab', '2018.07.26')>,\n",
       " <Game at 0x7f0af88dab70 ('Akochenok, Daniil' vs. 'Morin, Vladimir I.', '2018.07.26')>,\n",
       " <Game at 0x7f0af88c0fd0 ('Draskovic, Luka' vs. 'Nikac, Predrag', '2018.07.26')>,\n",
       " <Game at 0x7f0af8974438 ('Borhy, Marcell' vs. 'Polyik, Peter', '2018.07.26')>,\n",
       " <Game at 0x7f0af8971da0 ('Postny, Evgeny' vs. 'Narciso Dublan, Marc', '2018.07.26')>,\n",
       " <Game at 0x7f0af8972630 ('Tugstumur, Yesuntumur' vs. 'Milosevic, Milos', '2018.07.26')>,\n",
       " <Game at 0x7f0af8a2e908 ('Floor, Dirk' vs. 'Beukema, Stefan', '2018.07.26')>,\n",
       " <Game at 0x7f0af8a26358 ('Suba, Mihai' vs. 'Diaz Velandia, Jose Manuel', '2018.07.26')>,\n",
       " <Game at 0x7f0af8a386d8 ('Erigaisi, Arjun' vs. 'Soham, Das1', '2018.07.26')>,\n",
       " <Game at 0x7f0af8a21b00 ('Horacek, Michal' vs. 'Varitski, Igor', '2018.07.26')>,\n",
       " <Game at 0x7f0af8b277f0 ('Kuzubov, Yuriy' vs. 'Cheparinov, Ivan', '2018.07.25')>,\n",
       " <Game at 0x7f0af8b00358 ('Admiraal, Miguoel' vs. 'Lagarde, Maxime', '2018.07.25')>,\n",
       " <Game at 0x7f0af8a38a58 ('Picart, Laurent' vs. 'Morros Faura, Ricard', '2018.07.25')>,\n",
       " <Game at 0x7f0af8b320b8 ('Olson, Hamish' vs. 'Blodig, Constantin', '2018.07.25')>,\n",
       " <Game at 0x7f0af8a9e668 ('Stepan, Patrik' vs. 'Khaetsky, Roman', '2018.07.25')>,\n",
       " <Game at 0x7f0af8b1f198 ('Jarmula, Lukasz' vs. 'Potapov, Alexander', '2018.07.25')>,\n",
       " <Game at 0x7f0af8a95da0 ('Chekletsov, Ilya' vs. 'Gomes, Mary Ann', '2018.07.25')>,\n",
       " <Game at 0x7f0af8a89ef0 ('Toelly, Michael' vs. 'Gutmann, Alois', '2018.07.24')>,\n",
       " <Game at 0x7f0af8be6eb8 ('Polansky, Adam Lubos' vs. 'Boehning, Kilian', '2018.07.24')>,\n",
       " <Game at 0x7f0af8aade80 ('Kisic, Bozidar' vs. 'Nikac, Predrag', '2018.07.24')>,\n",
       " <Game at 0x7f0af8bc9550 ('Rahul, Srivatshav P' vs. 'Caspi, Israel', '2018.07.24')>,\n",
       " <Game at 0x7f0af8bf6860 ('Banovic, Ivan' vs. 'Nomin-Erdene, Davaademberel', '2018.07.24')>,\n",
       " <Game at 0x7f0af8b4b7b8 ('Bajarani, Ulvi' vs. 'Siagodnik, Anton', '2018.07.24')>,\n",
       " <Game at 0x7f0af8b5c940 ('De Boer, Bas' vs. 'Beukema, Stefan', '2018.07.24')>,\n",
       " <Game at 0x7f0af8bdcac8 ('Nielsen, Klaus' vs. 'Jorgensen, B1', '2018.07.24')>,\n",
       " <Game at 0x7f0af8b7c160 ('Laurusas, Tomas' vs. 'Gleizerov, Evgeny', '2018.07.24')>,\n",
       " <Game at 0x7f0af8cfe588 ('Galperin, Platon' vs. 'Potapov, Pavel', '2018.07.24')>,\n",
       " <Game at 0x7f0af8b5cd68 ('Sadovsky, Artem' vs. 'Lebedev, Oleg', '2018.07.24')>,\n",
       " <Game at 0x7f0af8cf42e8 ('Kovacevic, Sinisa' vs. 'Milosevic, Milos', '2018.07.23')>,\n",
       " <Game at 0x7f0af8cf82e8 ('Saada, Julien' vs. 'Narciso Dublan, Marc', '2018.07.23')>,\n",
       " <Game at 0x7f0af8cd5208 ('Bin-Suhayl, Ieysaa' vs. 'Fuochi, Tommaso', '2018.07.23')>,\n",
       " <Game at 0x7f0af8d70630 ('Schloffer, Jasmin-Denise' vs. 'Khalakhan, Jurij', '2018.07.23')>,\n",
       " <Game at 0x7f0af8d66f98 ('Teterev, Vitaly' vs. 'Werle, Jan', '2018.07.23')>,\n",
       " <Game at 0x7f0af8d6d898 ('Brazdzionis, Andrius' vs. 'Gleizerov, Evgeny', '2018.07.23')>,\n",
       " <Game at 0x7f0af8d69470 ('Radosavljevic, Slobodan S' vs. 'Nomin-Erdene, Davaademberel', '2018.07.22')>,\n",
       " <Game at 0x7f0af8d03c18 ('Green, Andrew D' vs. 'Kozusek, Daniel', '2018.07.22')>,\n",
       " <Game at 0x7f0af8d3b710 ('Bender, Ivan' vs. 'Zaja, Ivan', '2018.07.22')>,\n",
       " <Game at 0x7f0af8d66e10 ('Vogel, Roven' vs. 'Meleshko, Vladimir', '2018.07.22')>,\n",
       " <Game at 0x7f0af8d02748 ('Suleymanli, Aydin' vs. 'Nehyba, Martin', '2018.07.22')>,\n",
       " <Game at 0x7f0af8deaba8 ('Laustsen, Lars' vs. 'Jepson, Christian', '2018.07.22')>,\n",
       " <Game at 0x7f0af8df8978 ('Nihal, Sarin' vs. 'Sandipan, Chanda', '2018.07.22')>,\n",
       " <Game at 0x7f0af8ddfc18 ('Mladek, Richard' vs. 'Sinauridze, Simons', '2018.07.22')>,\n",
       " <Game at 0x7f0af8df8630 ('Mehandzic, Georgije' vs. 'Milosevic, Milos', '2018.07.22')>,\n",
       " <Game at 0x7f0af8e36cf8 ('Jobava, Baadur' vs. 'Dauth, Benjamin', '2018.07.22')>,\n",
       " <Game at 0x7f0af8e39630 ('Jorgensen, B1' vs. 'Andersson, Lars', '2018.07.22')>,\n",
       " <Game at 0x7f0af8e39c50 ('Blagojevic, Dragisa' vs. 'Nikac, Predrag', '2018.07.22')>,\n",
       " <Game at 0x7f0af8e10d30 ('Metin, Oguz' vs. 'Annaberdiyev, Babageldi', '2018.07.22')>,\n",
       " <Game at 0x7f0af8f76be0 ('Gaal, Zsoka' vs. 'Hoang, Thanh Trang', '2018.07.22')>,\n",
       " <Game at 0x7f0af8e330f0 ('Gledura, Benjamin' vs. 'Hoang, Thanh Trang', '2018.07.21')>,\n",
       " <Game at 0x7f0af8f60128 ('De Waele, Warre' vs. 'Roorda, Thijs', '2018.07.21')>,\n",
       " <Game at 0x7f0af8f53668 ('Barp, Alberto' vs. 'Harsha, Bharathakoti', '2018.07.21')>,\n",
       " <Game at 0x7f0af8f67fd0 ('Zaja, Ivan' vs. 'Urbanc, Peter', '2018.07.21')>,\n",
       " <Game at 0x7f0af8fa3f98 ('Di Benedetto, Edoardo' vs. 'Fuochi, Tommaso', '2018.07.21')>,\n",
       " <Game at 0x7f0af8f91908 ('Banusz, Tamas' vs. 'Erdos, Viktor', '2018.07.21')>,\n",
       " <Game at 0x7f0af8fa17f0 ('Yao, Stefano' vs. 'Dobboletta, Alex', '2018.07.21')>,\n",
       " <Game at 0x7f0af8fa7fd0 ('Bryzgalin, Kirill' vs. 'ter Stal, Rainer', '2018.07.21')>,\n",
       " <Game at 0x7f0af8fa3668 ('Tempone, Marcelo' vs. 'Celis, Gustavo', '2018.07.21')>,\n",
       " <Game at 0x7f0af90d0080 ('Kobo, Ori' vs. 'Varitski, Igor', '2018.07.20')>,\n",
       " <Game at 0x7f0af90dfa90 ('Song, Julien' vs. 'Le Quang, Kim', '2018.07.20')>,\n",
       " <Game at 0x7f0af90ec748 ('Danner, Georg' vs. 'Berkes, Ferenc', '2018.07.20')>,\n",
       " <Game at 0x7f0af9169128 ('Lorscheid, Gerhard' vs. 'Potapov, Pavel', '2018.07.20')>,\n",
       " <Game at 0x7f0af9166518 ('Dedebas, Emre Emin' vs. 'Yagiz, Yasin Emrah', '2018.07.19')>,\n",
       " <Game at 0x7f0af9143470 ('Gallego Alcaraz, Andres Felipe' vs. 'Krouzel, Jaroslav', '2018.07.19')>,\n",
       " <Game at 0x7f0af9148780 ('Chrz, Pavel' vs. 'Krouzel, Jaroslav', '2018.07.19')>,\n",
       " <Game at 0x7f0af91437f0 ('Krouzel, Jaroslav' vs. 'Nehyba, Martin', '2018.07.19')>,\n",
       " <Game at 0x7f0af91fcb00 ('Saravanan, Venkatachalam' vs. 'Pruijssers, Roeland', '2018.07.19')>,\n",
       " <Game at 0x7f0af91edef0 ('Chekletsov, Ilya' vs. 'Potapov, Alexander', '2018.07.19')>,\n",
       " <Game at 0x7f0af91c6278 ('Karagiannis, Athanasios' vs. 'Repplinger, Marc', '2018.07.19')>,\n",
       " <Game at 0x7f0af91a72e8 ('Maisuradze, Nino' vs. 'Rychagov, Andrey', '2018.07.19')>,\n",
       " <Game at 0x7f0af918d748 ('Golikov, Daniil' vs. 'Siagodnik, Anton', '2018.07.19')>,\n",
       " <Game at 0x7f0af91898d0 ('Gallego Alcaraz, Andres Felipe' vs. 'Potapov, Pavel', '2018.07.19')>,\n",
       " <Game at 0x7f0af91a2c18 ('Mammadova, Narmin' vs. 'Mammadova, Gulnar', '2018.07.19')>,\n",
       " <Game at 0x7f0af91a40f0 ('Sarkar, Justin' vs. 'Gasanov, Eldar', '2018.07.18')>,\n",
       " <Game at 0x7f0af92e2518 ('Zpevak, Pavel' vs. 'Potapov, Pavel', '2018.07.18')>,\n",
       " <Game at 0x7f0af92d3080 ('Natarov, Ilya' vs. 'Balint, Vilmos', '2018.07.18')>,\n",
       " <Game at 0x7f0af9291780 ('Ikonnikov, Vyacheslav' vs. 'Beerdsen, Thomas', '2018.07.18')>,\n",
       " <Game at 0x7f0af9280630 ('Gschwendtner, Stanislav' vs. 'Kutynec, Vladimir', '2018.07.18')>,\n",
       " <Game at 0x7f0af9281a90 ('Marchena Hurtado, Javier' vs. 'Espineira Gonzalez, Diego', '2018.07.17')>,\n",
       " <Game at 0x7f0af92b69e8 ('Gaehwiler, Gabriel' vs. 'Pelletier, Yannick', '2018.07.17')>,\n",
       " <Game at 0x7f0af94bdb70 ('Huhndorf, Arnold' vs. 'Boog, Ben', '2018.07.17')>,\n",
       " <Game at 0x7f0af94a26d8 ('Lacrosse, Marc' vs. 'Froeyman, Helmut', '2018.07.17')>,\n",
       " <Game at 0x7f0af94a8da0 ('Van Mechelen, Jan' vs. 'Becx, Cesar', '2018.07.17')>,\n",
       " <Game at 0x7f0af948e9b0 ('Pelletier, Yannick' vs. 'Gallagher, Joseph G', '2018.07.16')>,\n",
       " <Game at 0x7f0af9490828 ('Askerov, Marat' vs. 'Siagodnik, Anton', '2018.07.16')>,\n",
       " <Game at 0x7f0af97becc0 ('Moradiabadi, Elshan' vs. 'Froeyman, Helmut', '2018.07.16')>,\n",
       " <Game at 0x7f0af9785a58 ('Atalik, Suat' vs. 'Ikeda, Junta', '2018.07.16')>,\n",
       " <Game at 0x7f0af97af6a0 ('Fritz, Roland' vs. 'Schunk, Thomas', '2018.07.15')>,\n",
       " <Game at 0x7f0af9a9ae10 ('Fegan, Chris' vs. 'Polster, Wolfgang Dr', '2018.07.15')>,\n",
       " <Game at 0x7f0af9aa2fd0 ('Sundararajan, Kidambi' vs. 'Bandet, Raphael', '2018.07.15')>,\n",
       " <Game at 0x7f0af9a86470 ('Scharrer, Udo' vs. 'Hahn, Markus', '2018.07.15')>,\n",
       " <Game at 0x7f0af994f550 ('Kueppers, Timo' vs. 'Zatonskih, Vitaly', '2018.07.15')>,\n",
       " <Game at 0x7f0af9950cc0 ('Novotny, Michal1' vs. 'Potapov, Alexander', '2018.07.15')>,\n",
       " <Game at 0x7f0af99580b8 ('Vyprachticky, David' vs. 'Cernousek, Lukas', '2018.07.15')>,\n",
       " <Game at 0x7f0af99474a8 ('Lindam, Ingo' vs. 'Froeyman, Helmut', '2018.07.15')>,\n",
       " <Game at 0x7f0af9965ef0 ('Chojnacki, Krzysztof' vs. 'Kula, Robert', '2018.07.15')>,\n",
       " <Game at 0x7f0af99b7dd8 ('Huss, Andreas' vs. 'Rotstein, Jefim', '2018.07.15')>,\n",
       " <Game at 0x7f0af99af9b0 ('Cernousek, Lukas' vs. 'Potapov, Pavel', '2018.07.15')>,\n",
       " <Game at 0x7f0af99a0240 ('Tugstumur, Yesuntumur' vs. 'Milosevic, Milos', '2018.07.15')>,\n",
       " <Game at 0x7f0af998ccc0 ('Votava, Jan' vs. 'Potapov, Pavel', '2018.07.15')>,\n",
       " <Game at 0x7f0af9987860 ('Vakhania, Alexandra' vs. 'Golubov, Saveliy', '2018.07.14')>,\n",
       " <Game at 0x7f0af9aedf98 ('Maes, Valeer' vs. 'Nehmert, Ulrich', '2018.07.14')>,\n",
       " <Game at 0x7f0af9ae0b70 ('Studer, Noel' vs. 'Gallagher, Joseph G', '2018.07.14')>,\n",
       " <Game at 0x7f0af9ad4438 ('Wiegel, Joerg' vs. 'Euler, Gerd', '2018.07.14')>,\n",
       " <Game at 0x7f0af9ac26a0 ('Thakoerdien, Jerrel' vs. 'Sandipan, Chanda', '2018.07.14')>,\n",
       " <Game at 0x7f0af9ac07b8 ('Granaldi, Alessandro' vs. 'Ventura, Salvatore', '2018.07.14')>,\n",
       " <Game at 0x7f0af9b54e80 ('Natsidis, Christoph' vs. 'Potapov, Pavel', '2018.07.14')>,\n",
       " <Game at 0x7f0af9b6d518 ('Wegerle, Joerg' vs. 'Silva, Antonio Augusto', '2018.07.14')>,\n",
       " <Game at 0x7f0af9b6bcf8 ('Kukov, Velislav' vs. 'Van Halderen, Herman', '2018.07.14')>,\n",
       " <Game at 0x7f0af9b5c978 ('Kovalenko, Igor' vs. 'Samolins, Vitalijs', '2018.07.14')>,\n",
       " <Game at 0x7f0af9b5bc18 ('Kahn, Evarth Dr' vs. 'Lyell, M', '2018.07.13')>,\n",
       " <Game at 0x7f0af9b84eb8 ('Wenninger, Philipp' vs. 'Hehn, Hartmut', '2018.07.13')>,\n",
       " <Game at 0x7f0af9b5c780 ('Giroyan, Gary' vs. 'Christien, Vincent', '2018.07.13')>,\n",
       " <Game at 0x7f0af9bb4d68 ('Farago, Ivan' vs. 'Furedi, Erik', '2018.07.13')>,\n",
       " <Game at 0x7f0af9bcbb38 ('Ostenstad, Berge' vs. 'Christiansen, Johan-Sebastian', '2018.07.13')>,\n",
       " <Game at 0x7f0af9b94ac8 ('Kouvatsos, Filippos' vs. 'Azis, Azizis Ektoras', '2018.07.13')>,\n",
       " <Game at 0x7f0af9be0748 ('Marin, Mihail' vs. 'Alvarado Diaz, Alejandro', '2018.07.13')>,\n",
       " <Game at 0x7f0af9bc9160 ('Sonis, Francesco' vs. 'Morros Faura, Ricard', '2018.07.13')>,\n",
       " <Game at 0x7f0af9c72668 ('Kosek, Jiri' vs. 'Potapov, Pavel', '2018.07.13')>,\n",
       " <Game at 0x7f0af9c4c8d0 ('Schmidt, Bodo' vs. 'Romcovici, Victor', '2018.07.13')>,\n",
       " <Game at 0x7f0af9c436d8 ('Persson, Andreas' vs. 'Jones, Steven A', '2018.07.12')>,\n",
       " <Game at 0x7f0af9cafda0 ('Oliva Castaneda, Kevel' vs. 'Alonso Moyano, Jonathan', '2018.07.12')>,\n",
       " <Game at 0x7f0af9cbabe0 ('Vollak, Andreas' vs. 'Fegan, Chris', '2018.07.12')>,\n",
       " <Game at 0x7f0af9cb06a0 ('Mesman, Edwyn' vs. 'De Boer, Eelke', '2018.07.12')>,\n",
       " <Game at 0x7f0af9c9b240 ('Habel, Christof' vs. 'Barron, Michael', '2018.07.12')>,\n",
       " <Game at 0x7f0af9c873c8 ('Neelash, Saha' vs. 'Porta Tovar, Guillem', '2018.07.12')>,\n",
       " <Game at 0x7f0af9ca7d68 ('Stebbings, Anthony J' vs. 'Haakert, Juergen', '2018.07.12')>,\n",
       " <Game at 0x7f0af9dde470 ('Siekanski, Janusz' vs. 'Rakesh, Kumar Jena', '2018.07.12')>,\n",
       " <Game at 0x7f0af9deeda0 ('Strasil, Pavel' vs. 'Cernousek, Lukas', '2018.07.12')>,\n",
       " <Game at 0x7f0af9e7c5f8 ('Atalik, Suat' vs. 'Kadric, Denis', '2018.07.12')>,\n",
       " <Game at 0x7f0af9de4358 ('Heberla, Bartlomiej' vs. 'Wyczling, Bartosz', '2018.07.11')>,\n",
       " <Game at 0x7f0af9e759e8 ('Brink, Barry' vs. 'Bogaard, Milo', '2018.07.11')>,\n",
       " <Game at 0x7f0af9e7fe48 ('Bacrot, Etienne' vs. 'Yu, Kaifeng', '2018.07.11')>,\n",
       " <Game at 0x7f0af9e7d9b0 ('Ma, Qun' vs. 'Yu, Yangyi', '2018.07.11')>,\n",
       " <Game at 0x7f0af9e50240 ('Schunk, Thomas' vs. 'Leow, Leslie M', '2018.07.11')>,\n",
       " <Game at 0x7f0af9e8f7b8 ('Hnydiuk, Aleksander' vs. 'Paprocki, Jaroslaw', '2018.07.11')>,\n",
       " <Game at 0x7f0af9e9d860 ('Karthik, V4' vs. 'Neelash, Saha', '2018.07.10')>,\n",
       " <Game at 0x7f0af9e86470 ('Habel, Christof' vs. 'Fegan, Chris', '2018.07.10')>,\n",
       " <Game at 0x7f0af9e96d68 ('Lorparizangeneh, Shahin' vs. 'Ikeda, Junta', '2018.07.10')>,\n",
       " <Game at 0x7f0af9efb0f0 ('Trimitzios, Petros' vs. 'Grivas, Efstratios', '2018.07.10')>,\n",
       " <Game at 0x7f0af9e867f0 ('Donchenko, Anatoly' vs. 'Krauseneck, Peter Prof Dr', '2018.07.09')>,\n",
       " <Game at 0x7f0af9ee2978 ('Cholleti, Sahajasri' vs. 'Milosevic, Milos', '2018.07.09')>,\n",
       " <Game at 0x7f0af9ece8d0 ('Nestorovic, Dejan' vs. 'Ikeda, Junta', '2018.07.09')>,\n",
       " <Game at 0x7f0af9ee2fd0 ('Rosenberger, Berthold' vs. 'Weitzer, Steffen', '2018.07.09')>,\n",
       " <Game at 0x7f0af9f76da0 ('Dambrauskas, Virginijus' vs. 'Waddington, Mike P', '2018.07.09')>,\n",
       " <Game at 0x7f0afa1380f0 ('Sirosh, Ilja' vs. 'Kantans, Toms', '2018.07.09')>,\n",
       " <Game at 0x7f0afa10c198 ('Pleasants, Allan J' vs. 'Kett, Tim', '2018.07.09')>,\n",
       " <Game at 0x7f0af9f6fa90 ('Kretchetov, Alexandre' vs. 'Harriott, Tyrell', '2018.07.08')>,\n",
       " <Game at 0x7f0afa115f98 ('Arkell, Keith C' vs. 'Fegan, Chris', '2018.07.08')>,\n",
       " <Game at 0x7f0afa0316a0 ('Fus, Jakub' vs. 'Rakesh, Kumar Jena', '2018.07.08')>,\n",
       " <Game at 0x7f0afa0156a0 ('Nieto Farreny, Francesc' vs. 'Alonso Moyano, Jonathan', '2018.07.08')>,\n",
       " <Game at 0x7f0afa0336a0 ('Schmidt, Ger1' vs. 'Bellin, Robert', '2018.07.08')>,\n",
       " <Game at 0x7f0afa0c6908 ('Kovalyov, Anton' vs. 'Petrosian, Tigran L', '2018.07.08')>,\n",
       " <Game at 0x7f0afa0fcc50 ('Van Baar, Esper' vs. 'Bogaard, Milo', '2018.07.08')>,\n",
       " <Game at 0x7f0afa0e1f60 ('Mirzoev, Azer' vs. 'Ngo, Minh Duc', '2018.07.07')>,\n",
       " <Game at 0x7f0afa0d6400 ('Hamer, Martyn' vs. 'Shaw, Peter', '2018.07.07')>,\n",
       " <Game at 0x7f0afa1f7ba8 ('Huber, Martin Christian' vs. 'Pali, Philipp', '2018.07.07')>,\n",
       " <Game at 0x7f0afa1e4ac8 ('Grooten, Herman' vs. 'Bogaard, Milo', '2018.07.07')>,\n",
       " <Game at 0x7f0afa1c64a8 ('Pogorelov, Ruslan' vs. 'Narciso Dublan, Marc', '2018.07.07')>,\n",
       " <Game at 0x7f0afa1d26d8 ('Colovic, Dusan' vs. 'Ikeda, Junta', '2018.07.07')>,\n",
       " <Game at 0x7f0afa2441d0 ('Dekker, Andries' vs. 'Nijboer, Friso', '2018.07.07')>,\n",
       " <Game at 0x7f0afa261780 ('Kierzek, Mira' vs. 'Polster, Wolfgang Dr', '2018.07.07')>,\n",
       " <Game at 0x7f0afa2786d8 ('Djingarova, Emilia' vs. 'Vella Ramirez, Alfonso', '2018.07.06')>,\n",
       " <Game at 0x7f0afa273f98 ('Gelfand, Boris' vs. 'Muzychuk, Anna', '2018.07.06')>,\n",
       " <Game at 0x7f0afa4678d0 ('Jaeel, Atharva' vs. 'Perez Manas, Benjamin', '2018.07.06')>,\n",
       " <Game at 0x7f0afa44dac8 ('Mihajlov, Sebastian' vs. 'Arvola, Benjamin', '2018.07.06')>,\n",
       " <Game at 0x7f0afa455ac8 ('Mejzlik, Ondrej' vs. 'Molkanov, Oleg', '2018.07.05')>,\n",
       " <Game at 0x7f0afa461208 ('Pantzar, Milton' vs. 'Kucuksari, Kaan', '2018.07.05')>,\n",
       " <Game at 0x7f0afa555518 ('Manolache, Marius' vs. 'Rueda Marquez, David J', '2018.07.04')>,\n",
       " <Game at 0x7f0afa279a20 ('Goryachkina, Aleksandra' vs. 'Paravyan, David', '2018.07.04')>,\n",
       " <Game at 0x7f0afa574710 ('Dahale, Atul' vs. 'Herraiz Hidalgo, Herminio', '2018.07.04')>,\n",
       " ...]"
      ]
     },
     "execution_count": 78,
     "metadata": {},
     "output_type": "execute_result"
    }
   ],
   "source": [
    "games"
   ]
  },
  {
   "cell_type": "markdown",
   "metadata": {},
   "source": [
    "## Wins grouped by Team & Draws"
   ]
  },
  {
   "cell_type": "markdown",
   "metadata": {},
   "source": [
    "We will extract the Result string from the games list into the results list. We will then count the no of victories per each team and the no of draws"
   ]
  },
  {
   "cell_type": "code",
   "execution_count": 28,
   "metadata": {},
   "outputs": [
    {
     "data": {
      "image/png": "[encoded data removed]",
      "text/plain": [
       "<Figure size 432x288 with 1 Axes>"
      ]
     },
     "metadata": {
      "needs_background": "light"
     },
     "output_type": "display_data"
    }
   ],
   "source": [
    "def number_wins(games):\n",
    "    results = []\n",
    "    for game in games:\n",
    "        result = game.headers[\"Result\"]\n",
    "        results.append(result)\n",
    "    return results\n",
    "\n",
    "results = number_wins(games)\n",
    "white_wins = results.count('1-0')\n",
    "black_wins = results.count('0-1')\n",
    "draws = results.count('1/2-1/2')\n",
    "\n",
    "sns.barplot(['White', 'Black', 'Draw'], [white_wins, black_wins, draws])\n",
    "plt.title('Results')\n",
    "plt.show()"
   ]
  },
  {
   "cell_type": "markdown",
   "metadata": {},
   "source": [
    "## Distribution of number of moves"
   ]
  },
  {
   "cell_type": "markdown",
   "metadata": {},
   "source": [
    "In some cases, chess games may last to see over 200 moves.\n",
    "https://www.chess.com/article/view/the-4-longest-chess-games-in-history"
   ]
  },
  {
   "cell_type": "code",
   "execution_count": 29,
   "metadata": {},
   "outputs": [
    {
     "data": {
      "image/png": "[encoded data removed]",
      "text/plain": [
       "<Figure size 432x288 with 1 Axes>"
      ]
     },
     "metadata": {
      "needs_background": "light"
     },
     "output_type": "display_data"
    }
   ],
   "source": [
    "def number_moves(game):\n",
    "    i = 0\n",
    "    for move in game.mainline_moves():\n",
    "        i += 1\n",
    "    return i\n",
    "\n",
    "def number_moves_dist(games):\n",
    "    n_moves = []\n",
    "    for game in games:\n",
    "        n_moves.append(number_moves(game))\n",
    "    return n_moves\n",
    "\n",
    "sns.distplot(number_moves_dist(games))\n",
    "plt.title('Number of moves in a game')\n",
    "plt.show()"
   ]
  },
  {
   "cell_type": "markdown",
   "metadata": {},
   "source": [
    "It seems for the most part, an average chess game lasts between 50-100 moves"
   ]
  },
  {
   "cell_type": "markdown",
   "metadata": {},
   "source": [
    "## Top captures"
   ]
  },
  {
   "cell_type": "markdown",
   "metadata": {},
   "source": [
    "Number of captures by each piece type, making use of the 'is_capture' function as well as other functions from the library. There capturers are split as follows:\n",
    "\n",
    "P=pawn, N=knight, B=Bishop, R=Rook, Q=Queen, K=King"
   ]
  },
  {
   "cell_type": "code",
   "execution_count": 32,
   "metadata": {},
   "outputs": [
    {
     "data": {
      "image/png": "[encoded data removed]",
      "text/plain": [
       "<Figure size 432x288 with 1 Axes>"
      ]
     },
     "metadata": {
      "needs_background": "light"
     },
     "output_type": "display_data"
    }
   ],
   "source": [
    "def top_killers(game):\n",
    "    killers = {'P': 0, 'N': 0, 'B': 0, 'R': 0, 'Q': 0, 'K': 0}\n",
    "    board = game.board()\n",
    "    for move in game.mainline_moves():\n",
    "        if board.is_capture(move):\n",
    "            from1 = chess.SQUARES[move.from_square]\n",
    "            symb = board.piece_at(from1).symbol().upper()\n",
    "            killers[symb] += 1\n",
    "        board.push(move)\n",
    "    return killers\n",
    "\n",
    "def top_killers_total(games):\n",
    "    killers_total = {'P': 0, 'N': 0, 'B': 0, 'R': 0, 'Q': 0, 'K': 0}\n",
    "    for game in games:\n",
    "        killers_game = top_killers(game)\n",
    "        for piece in killers_total.keys():\n",
    "            killers_total[piece] += killers_game[piece]\n",
    "    return killers_total\n",
    "\n",
    "top_killers_dict = top_killers_total(games)\n",
    "sns.barplot(list(top_killers_dict.keys()), list(top_killers_dict.values()))\n",
    "plt.title('Top killers')\n",
    "plt.show()"
   ]
  },
  {
   "cell_type": "markdown",
   "metadata": {},
   "source": [
    "Pawn is a bad man"
   ]
  },
  {
   "cell_type": "markdown",
   "metadata": {},
   "source": [
    "## Top captures piece by piece"
   ]
  },
  {
   "cell_type": "markdown",
   "metadata": {},
   "source": [
    "Number of captures of a specific piece by a specific piece.\n"
   ]
  },
  {
   "cell_type": "code",
   "execution_count": 43,
   "metadata": {},
   "outputs": [
    {
     "data": {
      "image/png": "[encoded data removed]",
      "text/plain": [
       "<Figure size 432x288 with 2 Axes>"
      ]
     },
     "metadata": {
      "needs_background": "light"
     },
     "output_type": "display_data"
    }
   ],
   "source": [
    "def top_killers_pieces(game):\n",
    "    killers = {'P': {}, 'N': {}, 'B': {}, 'R': {}, 'Q': {}, 'K': {}} # for obtaining capturers symbol\n",
    "    killers_sub = {'P': 0, 'N': 0, 'B': 0, 'R': 0, 'Q': 0, 'K': 0} # for obtaining no of kills by specific capturer\n",
    "    for piece in killers.keys():\n",
    "        killers[piece] = dict(killers_sub)\n",
    "        # P: p=0 , n=0 , ....\n",
    "        # dictionary lists are pretty cool\n",
    "        \n",
    "    board = game.board() #init game board\n",
    "    for move in game.mainline_moves(): #iterate through moves\n",
    "        if board.is_capture(move): #checks if the move is a capture.\n",
    "            try:\n",
    "                from1= chess.SQUARES[move.from_square] #start position before capture\n",
    "                symb_from = board.piece_at(from1).symbol().upper() #taking symbol of capturer\n",
    "                to1 = chess.SQUARES[move.to_square] #move to capturee position\n",
    "                symb_to = board.piece_at(to1).symbol().upper()# take capturee symbol\n",
    "                killers[symb_from][symb_to] += 1 #find the count in dict according to keys and increment by 1\n",
    "                # in the dict of capturer, the no of captures of the capturee symbol\n",
    "                # example if a pawn took a pawn the dict will look like this\n",
    "                # 'P': {'P':1, 'N': 0, 'B': 0, 'R': 0, 'Q': 0, 'K': 0}\n",
    "                # spent a lot of time on this\n",
    "            except:\n",
    "                pass #do nothing\n",
    "        board.push(move)# move the piece to position and keep checking for next capturer\n",
    "    return killers\n",
    "\n",
    "def top_killers_pieces_total(games):\n",
    "    killers_total = {'P': {}, 'N': {}, 'B': {}, 'R': {}, 'Q': {}, 'K': {}}\n",
    "    killers_sub = {'P': 0, 'N': 0, 'B': 0, 'R': 0, 'Q': 0, 'K': 0}\n",
    "    for piece in killers_total.keys():\n",
    "        killers_total[piece] = dict(killers_sub) # creating dict lists for each capturer\n",
    "        \n",
    "    for game in games: #iterate through games\n",
    "        killers_game = top_killers_pieces(game) # this will find the capturer and the no of kills for each capturee\n",
    "        for piece in killers_total.keys():\n",
    "            for piece_2 in killers_total[piece].keys(): #capturee keys\n",
    "                killers_total[piece][piece_2] += killers_game[piece][piece_2]\n",
    "    return killers_total\n",
    "\n",
    "top_killers_pieces_total_dict = top_killers_pieces_total(games)\n",
    "data = []\n",
    "for piece in top_killers_pieces_total_dict.keys():\n",
    "    data.append(list(top_killers_pieces_total_dict[piece].values()))\n",
    "    \n",
    "sns.heatmap(data, xticklabels=top_killers_pieces_total_dict.keys(), yticklabels=top_killers_pieces_total_dict.keys())\n",
    "plt.title('Piece by piece')\n",
    "plt.xlabel('Captured')\n",
    "plt.ylabel('Capturer')\n",
    "plt.show()"
   ]
  },
  {
   "cell_type": "markdown",
   "metadata": {},
   "source": [
    "Pawns mostly capture pawns, knights rarely capture knights, etc"
   ]
  },
  {
   "cell_type": "markdown",
   "metadata": {},
   "source": [
    "## Number of Castling made by 2 parties "
   ]
  },
  {
   "cell_type": "code",
   "execution_count": 35,
   "metadata": {},
   "outputs": [
    {
     "data": {
      "image/png": "[encoded data removed]",
      "text/plain": [
       "<Figure size 432x288 with 1 Axes>"
      ]
     },
     "metadata": {
      "needs_background": "light"
     },
     "output_type": "display_data"
    }
   ],
   "source": [
    "def castling(game):\n",
    "    board = game.board()\n",
    "    castling_times = 0\n",
    "    for move in game.mainline_moves():\n",
    "        if board.is_castling(move):\n",
    "            castling_times += 1\n",
    "        if castling_times == 2:\n",
    "            break\n",
    "        board.push(move)\n",
    "    return True if castling_times == 2 else False\n",
    "\n",
    "def castling_total(games):\n",
    "    no_castling_total = 0\n",
    "    castling_total = 0\n",
    "    for game in games:\n",
    "        castling_game = castling(game)\n",
    "        if castling_game:\n",
    "            castling_total += 1\n",
    "        else:\n",
    "            no_castling_total += 1\n",
    "    return no_castling_total, castling_total\n",
    "\n",
    "no_castling_total, castling_total = castling_total(games)\n",
    "sns.barplot(['No castling', 'Castling done'], [no_castling_total, castling_total])\n",
    "plt.title('How many times has castling occured?')\n",
    "plt.show()"
   ]
  },
  {
   "cell_type": "markdown",
   "metadata": {},
   "source": [
    "It seems that castling is very common in chess"
   ]
  },
  {
   "cell_type": "markdown",
   "metadata": {},
   "source": [
    "## Most popular starting move"
   ]
  },
  {
   "cell_type": "markdown",
   "metadata": {},
   "source": [
    "The most popular starting move is d2 -> d4."
   ]
  },
  {
   "cell_type": "code",
   "execution_count": 24,
   "metadata": {},
   "outputs": [
    {
     "data": {
      "image/svg+xml": [
       "<svg height=\"400\" version=\"1.1\" viewBox=\"0 0 400 400\" width=\"400\" xmlns=\"http://www.w3.org/2000/svg\" xmlns:xlink=\"http://www.w3.org/1999/xlink\"><defs><g class=\"white pawn\" id=\"white-pawn\"><path d=\"M22 9c-2.21 0-4 1.79-4 4 0 .89.29 1.71.78 2.38-1.95 1.12-3.28 3.21-3.28 5.62 0 2.03.94 3.84 2.41 5.03-3 1.06-7.41 5.55-7.41 13.47h23c0-7.92-4.41-12.41-7.41-13.47 1.47-1.19 2.41-3 2.41-5.03 0-2.41-1.33-4.5-3.28-5.62.49-.67.78-1.49.78-2.38 0-2.21-1.79-4-4-4z\" fill=\"#fff\" stroke=\"#000\" stroke-linecap=\"round\" stroke-width=\"1.5\" /></g><g class=\"white knight\" fill=\"none\" fill-rule=\"evenodd\" id=\"white-knight\" stroke=\"#000\" stroke-linecap=\"round\" stroke-linejoin=\"round\" stroke-width=\"1.5\"><path d=\"M 22,10 C 32.5,11 38.5,18 38,39 L 15,39 C 15,30 25,32.5 23,18\" style=\"fill:#ffffff; stroke:#000000;\" /><path d=\"M 24,18 C 24.38,20.91 18.45,25.37 16,27 C 13,29 13.18,31.34 11,31 C 9.958,30.06 12.41,27.96 11,28 C 10,28 11.19,29.23 10,30 C 9,30 5.997,31 6,26 C 6,24 12,14 12,14 C 12,14 13.89,12.1 14,10.5 C 13.27,9.506 13.5,8.5 13.5,7.5 C 14.5,6.5 16.5,10 16.5,10 L 18.5,10 C 18.5,10 19.28,8.008 21,7 C 22,7 22,10 22,10\" style=\"fill:#ffffff; stroke:#000000;\" /><path d=\"M 9.5 25.5 A 0.5 0.5 0 1 1 8.5,25.5 A 0.5 0.5 0 1 1 9.5 25.5 z\" style=\"fill:#000000; stroke:#000000;\" /><path d=\"M 15 15.5 A 0.5 1.5 0 1 1 14,15.5 A 0.5 1.5 0 1 1 15 15.5 z\" style=\"fill:#000000; stroke:#000000;\" transform=\"matrix(0.866,0.5,-0.5,0.866,9.693,-5.173)\" /></g><g class=\"white bishop\" fill=\"none\" fill-rule=\"evenodd\" id=\"white-bishop\" stroke=\"#000\" stroke-linecap=\"round\" stroke-linejoin=\"round\" stroke-width=\"1.5\"><g fill=\"#fff\" stroke-linecap=\"butt\"><path d=\"M9 36c3.39-.97 10.11.43 13.5-2 3.39 2.43 10.11 1.03 13.5 2 0 0 1.65.54 3 2-.68.97-1.65.99-3 .5-3.39-.97-10.11.46-13.5-1-3.39 1.46-10.11.03-13.5 1-1.354.49-2.323.47-3-.5 1.354-1.94 3-2 3-2zM15 32c2.5 2.5 12.5 2.5 15 0 .5-1.5 0-2 0-2 0-2.5-2.5-4-2.5-4 5.5-1.5 6-11.5-5-15.5-11 4-10.5 14-5 15.5 0 0-2.5 1.5-2.5 4 0 0-.5.5 0 2zM25 8a2.5 2.5 0 1 1-5 0 2.5 2.5 0 1 1 5 0z\" /></g><path d=\"M17.5 26h10M15 30h15m-7.5-14.5v5M20 18h5\" stroke-linejoin=\"miter\" /></g><g class=\"white rook\" fill=\"#fff\" fill-rule=\"evenodd\" id=\"white-rook\" stroke=\"#000\" stroke-linecap=\"round\" stroke-linejoin=\"round\" stroke-width=\"1.5\"><path d=\"M9 39h27v-3H9v3zM12 36v-4h21v4H12zM11 14V9h4v2h5V9h5v2h5V9h4v5\" stroke-linecap=\"butt\" /><path d=\"M34 14l-3 3H14l-3-3\" /><path d=\"M31 17v12.5H14V17\" stroke-linecap=\"butt\" stroke-linejoin=\"miter\" /><path d=\"M31 29.5l1.5 2.5h-20l1.5-2.5\" /><path d=\"M11 14h23\" fill=\"none\" stroke-linejoin=\"miter\" /></g><g class=\"white queen\" fill=\"#fff\" fill-rule=\"evenodd\" id=\"white-queen\" stroke=\"#000\" stroke-linecap=\"round\" stroke-linejoin=\"round\" stroke-width=\"1.5\"><path d=\"M8 12a2 2 0 1 1-4 0 2 2 0 1 1 4 0zM24.5 7.5a2 2 0 1 1-4 0 2 2 0 1 1 4 0zM41 12a2 2 0 1 1-4 0 2 2 0 1 1 4 0zM16 8.5a2 2 0 1 1-4 0 2 2 0 1 1 4 0zM33 9a2 2 0 1 1-4 0 2 2 0 1 1 4 0z\" /><path d=\"M9 26c8.5-1.5 21-1.5 27 0l2-12-7 11V11l-5.5 13.5-3-15-3 15-5.5-14V25L7 14l2 12zM9 26c0 2 1.5 2 2.5 4 1 1.5 1 1 .5 3.5-1.5 1-1.5 2.5-1.5 2.5-1.5 1.5.5 2.5.5 2.5 6.5 1 16.5 1 23 0 0 0 1.5-1 0-2.5 0 0 .5-1.5-1-2.5-.5-2.5-.5-2 .5-3.5 1-2 2.5-2 2.5-4-8.5-1.5-18.5-1.5-27 0z\" stroke-linecap=\"butt\" /><path d=\"M11.5 30c3.5-1 18.5-1 22 0M12 33.5c6-1 15-1 21 0\" fill=\"none\" /></g><g class=\"white king\" fill=\"none\" fill-rule=\"evenodd\" id=\"white-king\" stroke=\"#000\" stroke-linecap=\"round\" stroke-linejoin=\"round\" stroke-width=\"1.5\"><path d=\"M22.5 11.63V6M20 8h5\" stroke-linejoin=\"miter\" /><path d=\"M22.5 25s4.5-7.5 3-10.5c0 0-1-2.5-3-2.5s-3 2.5-3 2.5c-1.5 3 3 10.5 3 10.5\" fill=\"#fff\" stroke-linecap=\"butt\" stroke-linejoin=\"miter\" /><path d=\"M11.5 37c5.5 3.5 15.5 3.5 21 0v-7s9-4.5 6-10.5c-4-6.5-13.5-3.5-16 4V27v-3.5c-3.5-7.5-13-10.5-16-4-3 6 5 10 5 10V37z\" fill=\"#fff\" /><path d=\"M11.5 30c5.5-3 15.5-3 21 0m-21 3.5c5.5-3 15.5-3 21 0m-21 3.5c5.5-3 15.5-3 21 0\" /></g><g class=\"black pawn\" id=\"black-pawn\"><path d=\"M22 9c-2.21 0-4 1.79-4 4 0 .89.29 1.71.78 2.38-1.95 1.12-3.28 3.21-3.28 5.62 0 2.03.94 3.84 2.41 5.03-3 1.06-7.41 5.55-7.41 13.47h23c0-7.92-4.41-12.41-7.41-13.47 1.47-1.19 2.41-3 2.41-5.03 0-2.41-1.33-4.5-3.28-5.62.49-.67.78-1.49.78-2.38 0-2.21-1.79-4-4-4z\" stroke=\"#000\" stroke-linecap=\"round\" stroke-width=\"1.5\" /></g><g class=\"black knight\" fill=\"none\" fill-rule=\"evenodd\" id=\"black-knight\" stroke=\"#000\" stroke-linecap=\"round\" stroke-linejoin=\"round\" stroke-width=\"1.5\"><path d=\"M 22,10 C 32.5,11 38.5,18 38,39 L 15,39 C 15,30 25,32.5 23,18\" style=\"fill:#000000; stroke:#000000;\" /><path d=\"M 24,18 C 24.38,20.91 18.45,25.37 16,27 C 13,29 13.18,31.34 11,31 C 9.958,30.06 12.41,27.96 11,28 C 10,28 11.19,29.23 10,30 C 9,30 5.997,31 6,26 C 6,24 12,14 12,14 C 12,14 13.89,12.1 14,10.5 C 13.27,9.506 13.5,8.5 13.5,7.5 C 14.5,6.5 16.5,10 16.5,10 L 18.5,10 C 18.5,10 19.28,8.008 21,7 C 22,7 22,10 22,10\" style=\"fill:#000000; stroke:#000000;\" /><path d=\"M 9.5 25.5 A 0.5 0.5 0 1 1 8.5,25.5 A 0.5 0.5 0 1 1 9.5 25.5 z\" style=\"fill:#ececec; stroke:#ececec;\" /><path d=\"M 15 15.5 A 0.5 1.5 0 1 1 14,15.5 A 0.5 1.5 0 1 1 15 15.5 z\" style=\"fill:#ececec; stroke:#ececec;\" transform=\"matrix(0.866,0.5,-0.5,0.866,9.693,-5.173)\" /><path d=\"M 24.55,10.4 L 24.1,11.85 L 24.6,12 C 27.75,13 30.25,14.49 32.5,18.75 C 34.75,23.01 35.75,29.06 35.25,39 L 35.2,39.5 L 37.45,39.5 L 37.5,39 C 38,28.94 36.62,22.15 34.25,17.66 C 31.88,13.17 28.46,11.02 25.06,10.5 L 24.55,10.4 z \" style=\"fill:#ececec; stroke:none;\" /></g><g class=\"black bishop\" fill=\"none\" fill-rule=\"evenodd\" id=\"black-bishop\" stroke=\"#000\" stroke-linecap=\"round\" stroke-linejoin=\"round\" stroke-width=\"1.5\"><path d=\"M9 36c3.39-.97 10.11.43 13.5-2 3.39 2.43 10.11 1.03 13.5 2 0 0 1.65.54 3 2-.68.97-1.65.99-3 .5-3.39-.97-10.11.46-13.5-1-3.39 1.46-10.11.03-13.5 1-1.354.49-2.323.47-3-.5 1.354-1.94 3-2 3-2zm6-4c2.5 2.5 12.5 2.5 15 0 .5-1.5 0-2 0-2 0-2.5-2.5-4-2.5-4 5.5-1.5 6-11.5-5-15.5-11 4-10.5 14-5 15.5 0 0-2.5 1.5-2.5 4 0 0-.5.5 0 2zM25 8a2.5 2.5 0 1 1-5 0 2.5 2.5 0 1 1 5 0z\" fill=\"#000\" stroke-linecap=\"butt\" /><path d=\"M17.5 26h10M15 30h15m-7.5-14.5v5M20 18h5\" stroke=\"#fff\" stroke-linejoin=\"miter\" /></g><g class=\"black rook\" fill=\"#000\" fill-rule=\"evenodd\" id=\"black-rook\" stroke=\"#000\" stroke-linecap=\"round\" stroke-linejoin=\"round\" stroke-width=\"1.5\"><path d=\"M9 39h27v-3H9v3zM12.5 32l1.5-2.5h17l1.5 2.5h-20zM12 36v-4h21v4H12z\" stroke-linecap=\"butt\" /><path d=\"M14 29.5v-13h17v13H14z\" stroke-linecap=\"butt\" stroke-linejoin=\"miter\" /><path d=\"M14 16.5L11 14h23l-3 2.5H14zM11 14V9h4v2h5V9h5v2h5V9h4v5H11z\" stroke-linecap=\"butt\" /><path d=\"M12 35.5h21M13 31.5h19M14 29.5h17M14 16.5h17M11 14h23\" fill=\"none\" stroke=\"#fff\" stroke-linejoin=\"miter\" stroke-width=\"1\" /></g><g class=\"black queen\" fill=\"#000\" fill-rule=\"evenodd\" id=\"black-queen\" stroke=\"#000\" stroke-linecap=\"round\" stroke-linejoin=\"round\" stroke-width=\"1.5\"><g fill=\"#000\" stroke=\"none\"><circle cx=\"6\" cy=\"12\" r=\"2.75\" /><circle cx=\"14\" cy=\"9\" r=\"2.75\" /><circle cx=\"22.5\" cy=\"8\" r=\"2.75\" /><circle cx=\"31\" cy=\"9\" r=\"2.75\" /><circle cx=\"39\" cy=\"12\" r=\"2.75\" /></g><path d=\"M9 26c8.5-1.5 21-1.5 27 0l2.5-12.5L31 25l-.3-14.1-5.2 13.6-3-14.5-3 14.5-5.2-13.6L14 25 6.5 13.5 9 26zM9 26c0 2 1.5 2 2.5 4 1 1.5 1 1 .5 3.5-1.5 1-1.5 2.5-1.5 2.5-1.5 1.5.5 2.5.5 2.5 6.5 1 16.5 1 23 0 0 0 1.5-1 0-2.5 0 0 .5-1.5-1-2.5-.5-2.5-.5-2 .5-3.5 1-2 2.5-2 2.5-4-8.5-1.5-18.5-1.5-27 0z\" stroke-linecap=\"butt\" /><path d=\"M11 38.5a35 35 1 0 0 23 0\" fill=\"none\" stroke-linecap=\"butt\" /><path d=\"M11 29a35 35 1 0 1 23 0M12.5 31.5h20M11.5 34.5a35 35 1 0 0 22 0M10.5 37.5a35 35 1 0 0 24 0\" fill=\"none\" stroke=\"#fff\" /></g><g class=\"black king\" fill=\"none\" fill-rule=\"evenodd\" id=\"black-king\" stroke=\"#000\" stroke-linecap=\"round\" stroke-linejoin=\"round\" stroke-width=\"1.5\"><path d=\"M22.5 11.63V6\" stroke-linejoin=\"miter\" /><path d=\"M22.5 25s4.5-7.5 3-10.5c0 0-1-2.5-3-2.5s-3 2.5-3 2.5c-1.5 3 3 10.5 3 10.5\" fill=\"#000\" stroke-linecap=\"butt\" stroke-linejoin=\"miter\" /><path d=\"M11.5 37c5.5 3.5 15.5 3.5 21 0v-7s9-4.5 6-10.5c-4-6.5-13.5-3.5-16 4V27v-3.5c-3.5-7.5-13-10.5-16-4-3 6 5 10 5 10V37z\" fill=\"#000\" /><path d=\"M20 8h5\" stroke-linejoin=\"miter\" /><path d=\"M32 29.5s8.5-4 6.03-9.65C34.15 14 25 18 22.5 24.5l.01 2.1-.01-2.1C20 18 9.906 14 6.997 19.85c-2.497 5.65 4.853 9 4.853 9M11.5 30c5.5-3 15.5-3 21 0m-21 3.5c5.5-3 15.5-3 21 0m-21 3.5c5.5-3 15.5-3 21 0\" stroke=\"#fff\" /></g></defs><rect class=\"square dark a1\" fill=\"#d18b47\" height=\"45\" stroke=\"none\" width=\"45\" x=\"20\" y=\"335\" /><use transform=\"translate(20, 335)\" xlink:href=\"#white-rook\" /><rect class=\"square light b1\" fill=\"#ffce9e\" height=\"45\" stroke=\"none\" width=\"45\" x=\"65\" y=\"335\" /><use transform=\"translate(65, 335)\" xlink:href=\"#white-knight\" /><rect class=\"square dark c1\" fill=\"#d18b47\" height=\"45\" stroke=\"none\" width=\"45\" x=\"110\" y=\"335\" /><use transform=\"translate(110, 335)\" xlink:href=\"#white-bishop\" /><rect class=\"square light d1\" fill=\"#ffce9e\" height=\"45\" stroke=\"none\" width=\"45\" x=\"155\" y=\"335\" /><use transform=\"translate(155, 335)\" xlink:href=\"#white-queen\" /><rect class=\"square dark e1\" fill=\"#d18b47\" height=\"45\" stroke=\"none\" width=\"45\" x=\"200\" y=\"335\" /><use transform=\"translate(200, 335)\" xlink:href=\"#white-king\" /><rect class=\"square light f1\" fill=\"#ffce9e\" height=\"45\" stroke=\"none\" width=\"45\" x=\"245\" y=\"335\" /><use transform=\"translate(245, 335)\" xlink:href=\"#white-bishop\" /><rect class=\"square dark g1\" fill=\"#d18b47\" height=\"45\" stroke=\"none\" width=\"45\" x=\"290\" y=\"335\" /><use transform=\"translate(290, 335)\" xlink:href=\"#white-knight\" /><rect class=\"square light h1\" fill=\"#ffce9e\" height=\"45\" stroke=\"none\" width=\"45\" x=\"335\" y=\"335\" /><use transform=\"translate(335, 335)\" xlink:href=\"#white-rook\" /><rect class=\"square light a2\" fill=\"#ffce9e\" height=\"45\" stroke=\"none\" width=\"45\" x=\"20\" y=\"290\" /><use transform=\"translate(20, 290)\" xlink:href=\"#white-pawn\" /><rect class=\"square dark b2\" fill=\"#d18b47\" height=\"45\" stroke=\"none\" width=\"45\" x=\"65\" y=\"290\" /><use transform=\"translate(65, 290)\" xlink:href=\"#white-pawn\" /><rect class=\"square light c2\" fill=\"#ffce9e\" height=\"45\" stroke=\"none\" width=\"45\" x=\"110\" y=\"290\" /><use transform=\"translate(110, 290)\" xlink:href=\"#white-pawn\" /><rect class=\"square dark lastmove d2\" fill=\"#aaa23b\" height=\"45\" stroke=\"none\" width=\"45\" x=\"155\" y=\"290\" /><rect class=\"square light e2\" fill=\"#ffce9e\" height=\"45\" stroke=\"none\" width=\"45\" x=\"200\" y=\"290\" /><use transform=\"translate(200, 290)\" xlink:href=\"#white-pawn\" /><rect class=\"square dark f2\" fill=\"#d18b47\" height=\"45\" stroke=\"none\" width=\"45\" x=\"245\" y=\"290\" /><use transform=\"translate(245, 290)\" xlink:href=\"#white-pawn\" /><rect class=\"square light g2\" fill=\"#ffce9e\" height=\"45\" stroke=\"none\" width=\"45\" x=\"290\" y=\"290\" /><use transform=\"translate(290, 290)\" xlink:href=\"#white-pawn\" /><rect class=\"square dark h2\" fill=\"#d18b47\" height=\"45\" stroke=\"none\" width=\"45\" x=\"335\" y=\"290\" /><use transform=\"translate(335, 290)\" xlink:href=\"#white-pawn\" /><rect class=\"square dark a3\" fill=\"#d18b47\" height=\"45\" stroke=\"none\" width=\"45\" x=\"20\" y=\"245\" /><rect class=\"square light b3\" fill=\"#ffce9e\" height=\"45\" stroke=\"none\" width=\"45\" x=\"65\" y=\"245\" /><rect class=\"square dark c3\" fill=\"#d18b47\" height=\"45\" stroke=\"none\" width=\"45\" x=\"110\" y=\"245\" /><rect class=\"square light d3\" fill=\"#ffce9e\" height=\"45\" stroke=\"none\" width=\"45\" x=\"155\" y=\"245\" /><rect class=\"square dark e3\" fill=\"#d18b47\" height=\"45\" stroke=\"none\" width=\"45\" x=\"200\" y=\"245\" /><rect class=\"square light f3\" fill=\"#ffce9e\" height=\"45\" stroke=\"none\" width=\"45\" x=\"245\" y=\"245\" /><rect class=\"square dark g3\" fill=\"#d18b47\" height=\"45\" stroke=\"none\" width=\"45\" x=\"290\" y=\"245\" /><rect class=\"square light h3\" fill=\"#ffce9e\" height=\"45\" stroke=\"none\" width=\"45\" x=\"335\" y=\"245\" /><rect class=\"square light a4\" fill=\"#ffce9e\" height=\"45\" stroke=\"none\" width=\"45\" x=\"20\" y=\"200\" /><rect class=\"square dark b4\" fill=\"#d18b47\" height=\"45\" stroke=\"none\" width=\"45\" x=\"65\" y=\"200\" /><rect class=\"square light c4\" fill=\"#ffce9e\" height=\"45\" stroke=\"none\" width=\"45\" x=\"110\" y=\"200\" /><rect class=\"square dark lastmove d4\" fill=\"#aaa23b\" height=\"45\" stroke=\"none\" width=\"45\" x=\"155\" y=\"200\" /><use transform=\"translate(155, 200)\" xlink:href=\"#white-pawn\" /><rect class=\"square light e4\" fill=\"#ffce9e\" height=\"45\" stroke=\"none\" width=\"45\" x=\"200\" y=\"200\" /><rect class=\"square dark f4\" fill=\"#d18b47\" height=\"45\" stroke=\"none\" width=\"45\" x=\"245\" y=\"200\" /><rect class=\"square light g4\" fill=\"#ffce9e\" height=\"45\" stroke=\"none\" width=\"45\" x=\"290\" y=\"200\" /><rect class=\"square dark h4\" fill=\"#d18b47\" height=\"45\" stroke=\"none\" width=\"45\" x=\"335\" y=\"200\" /><rect class=\"square dark a5\" fill=\"#d18b47\" height=\"45\" stroke=\"none\" width=\"45\" x=\"20\" y=\"155\" /><rect class=\"square light b5\" fill=\"#ffce9e\" height=\"45\" stroke=\"none\" width=\"45\" x=\"65\" y=\"155\" /><rect class=\"square dark c5\" fill=\"#d18b47\" height=\"45\" stroke=\"none\" width=\"45\" x=\"110\" y=\"155\" /><rect class=\"square light d5\" fill=\"#ffce9e\" height=\"45\" stroke=\"none\" width=\"45\" x=\"155\" y=\"155\" /><rect class=\"square dark e5\" fill=\"#d18b47\" height=\"45\" stroke=\"none\" width=\"45\" x=\"200\" y=\"155\" /><rect class=\"square light f5\" fill=\"#ffce9e\" height=\"45\" stroke=\"none\" width=\"45\" x=\"245\" y=\"155\" /><rect class=\"square dark g5\" fill=\"#d18b47\" height=\"45\" stroke=\"none\" width=\"45\" x=\"290\" y=\"155\" /><rect class=\"square light h5\" fill=\"#ffce9e\" height=\"45\" stroke=\"none\" width=\"45\" x=\"335\" y=\"155\" /><rect class=\"square light a6\" fill=\"#ffce9e\" height=\"45\" stroke=\"none\" width=\"45\" x=\"20\" y=\"110\" /><rect class=\"square dark b6\" fill=\"#d18b47\" height=\"45\" stroke=\"none\" width=\"45\" x=\"65\" y=\"110\" /><rect class=\"square light c6\" fill=\"#ffce9e\" height=\"45\" stroke=\"none\" width=\"45\" x=\"110\" y=\"110\" /><rect class=\"square dark d6\" fill=\"#d18b47\" height=\"45\" stroke=\"none\" width=\"45\" x=\"155\" y=\"110\" /><rect class=\"square light e6\" fill=\"#ffce9e\" height=\"45\" stroke=\"none\" width=\"45\" x=\"200\" y=\"110\" /><rect class=\"square dark f6\" fill=\"#d18b47\" height=\"45\" stroke=\"none\" width=\"45\" x=\"245\" y=\"110\" /><rect class=\"square light g6\" fill=\"#ffce9e\" height=\"45\" stroke=\"none\" width=\"45\" x=\"290\" y=\"110\" /><rect class=\"square dark h6\" fill=\"#d18b47\" height=\"45\" stroke=\"none\" width=\"45\" x=\"335\" y=\"110\" /><rect class=\"square dark a7\" fill=\"#d18b47\" height=\"45\" stroke=\"none\" width=\"45\" x=\"20\" y=\"65\" /><use transform=\"translate(20, 65)\" xlink:href=\"#black-pawn\" /><rect class=\"square light b7\" fill=\"#ffce9e\" height=\"45\" stroke=\"none\" width=\"45\" x=\"65\" y=\"65\" /><use transform=\"translate(65, 65)\" xlink:href=\"#black-pawn\" /><rect class=\"square dark c7\" fill=\"#d18b47\" height=\"45\" stroke=\"none\" width=\"45\" x=\"110\" y=\"65\" /><use transform=\"translate(110, 65)\" xlink:href=\"#black-pawn\" /><rect class=\"square light d7\" fill=\"#ffce9e\" height=\"45\" stroke=\"none\" width=\"45\" x=\"155\" y=\"65\" /><use transform=\"translate(155, 65)\" xlink:href=\"#black-pawn\" /><rect class=\"square dark e7\" fill=\"#d18b47\" height=\"45\" stroke=\"none\" width=\"45\" x=\"200\" y=\"65\" /><use transform=\"translate(200, 65)\" xlink:href=\"#black-pawn\" /><rect class=\"square light f7\" fill=\"#ffce9e\" height=\"45\" stroke=\"none\" width=\"45\" x=\"245\" y=\"65\" /><use transform=\"translate(245, 65)\" xlink:href=\"#black-pawn\" /><rect class=\"square dark g7\" fill=\"#d18b47\" height=\"45\" stroke=\"none\" width=\"45\" x=\"290\" y=\"65\" /><use transform=\"translate(290, 65)\" xlink:href=\"#black-pawn\" /><rect class=\"square light h7\" fill=\"#ffce9e\" height=\"45\" stroke=\"none\" width=\"45\" x=\"335\" y=\"65\" /><use transform=\"translate(335, 65)\" xlink:href=\"#black-pawn\" /><rect class=\"square light a8\" fill=\"#ffce9e\" height=\"45\" stroke=\"none\" width=\"45\" x=\"20\" y=\"20\" /><use transform=\"translate(20, 20)\" xlink:href=\"#black-rook\" /><rect class=\"square dark b8\" fill=\"#d18b47\" height=\"45\" stroke=\"none\" width=\"45\" x=\"65\" y=\"20\" /><use transform=\"translate(65, 20)\" xlink:href=\"#black-knight\" /><rect class=\"square light c8\" fill=\"#ffce9e\" height=\"45\" stroke=\"none\" width=\"45\" x=\"110\" y=\"20\" /><use transform=\"translate(110, 20)\" xlink:href=\"#black-bishop\" /><rect class=\"square dark d8\" fill=\"#d18b47\" height=\"45\" stroke=\"none\" width=\"45\" x=\"155\" y=\"20\" /><use transform=\"translate(155, 20)\" xlink:href=\"#black-queen\" /><rect class=\"square light e8\" fill=\"#ffce9e\" height=\"45\" stroke=\"none\" width=\"45\" x=\"200\" y=\"20\" /><use transform=\"translate(200, 20)\" xlink:href=\"#black-king\" /><rect class=\"square dark f8\" fill=\"#d18b47\" height=\"45\" stroke=\"none\" width=\"45\" x=\"245\" y=\"20\" /><use transform=\"translate(245, 20)\" xlink:href=\"#black-bishop\" /><rect class=\"square light g8\" fill=\"#ffce9e\" height=\"45\" stroke=\"none\" width=\"45\" x=\"290\" y=\"20\" /><use transform=\"translate(290, 20)\" xlink:href=\"#black-knight\" /><rect class=\"square dark h8\" fill=\"#d18b47\" height=\"45\" stroke=\"none\" width=\"45\" x=\"335\" y=\"20\" /><use transform=\"translate(335, 20)\" xlink:href=\"#black-rook\" /><text alignment-baseline=\"middle\" font-size=\"14\" text-anchor=\"middle\" x=\"42\" y=\"10\">a</text><text alignment-baseline=\"middle\" font-size=\"14\" text-anchor=\"middle\" x=\"42\" y=\"390\">a</text><text alignment-baseline=\"middle\" font-size=\"14\" text-anchor=\"middle\" x=\"87\" y=\"10\">b</text><text alignment-baseline=\"middle\" font-size=\"14\" text-anchor=\"middle\" x=\"87\" y=\"390\">b</text><text alignment-baseline=\"middle\" font-size=\"14\" text-anchor=\"middle\" x=\"132\" y=\"10\">c</text><text alignment-baseline=\"middle\" font-size=\"14\" text-anchor=\"middle\" x=\"132\" y=\"390\">c</text><text alignment-baseline=\"middle\" font-size=\"14\" text-anchor=\"middle\" x=\"177\" y=\"10\">d</text><text alignment-baseline=\"middle\" font-size=\"14\" text-anchor=\"middle\" x=\"177\" y=\"390\">d</text><text alignment-baseline=\"middle\" font-size=\"14\" text-anchor=\"middle\" x=\"222\" y=\"10\">e</text><text alignment-baseline=\"middle\" font-size=\"14\" text-anchor=\"middle\" x=\"222\" y=\"390\">e</text><text alignment-baseline=\"middle\" font-size=\"14\" text-anchor=\"middle\" x=\"267\" y=\"10\">f</text><text alignment-baseline=\"middle\" font-size=\"14\" text-anchor=\"middle\" x=\"267\" y=\"390\">f</text><text alignment-baseline=\"middle\" font-size=\"14\" text-anchor=\"middle\" x=\"312\" y=\"10\">g</text><text alignment-baseline=\"middle\" font-size=\"14\" text-anchor=\"middle\" x=\"312\" y=\"390\">g</text><text alignment-baseline=\"middle\" font-size=\"14\" text-anchor=\"middle\" x=\"357\" y=\"10\">h</text><text alignment-baseline=\"middle\" font-size=\"14\" text-anchor=\"middle\" x=\"357\" y=\"390\">h</text><text alignment-baseline=\"middle\" font-size=\"14\" text-anchor=\"middle\" x=\"10\" y=\"357\">1</text><text alignment-baseline=\"middle\" font-size=\"14\" text-anchor=\"middle\" x=\"390\" y=\"357\">1</text><text alignment-baseline=\"middle\" font-size=\"14\" text-anchor=\"middle\" x=\"10\" y=\"312\">2</text><text alignment-baseline=\"middle\" font-size=\"14\" text-anchor=\"middle\" x=\"390\" y=\"312\">2</text><text alignment-baseline=\"middle\" font-size=\"14\" text-anchor=\"middle\" x=\"10\" y=\"267\">3</text><text alignment-baseline=\"middle\" font-size=\"14\" text-anchor=\"middle\" x=\"390\" y=\"267\">3</text><text alignment-baseline=\"middle\" font-size=\"14\" text-anchor=\"middle\" x=\"10\" y=\"222\">4</text><text alignment-baseline=\"middle\" font-size=\"14\" text-anchor=\"middle\" x=\"390\" y=\"222\">4</text><text alignment-baseline=\"middle\" font-size=\"14\" text-anchor=\"middle\" x=\"10\" y=\"177\">5</text><text alignment-baseline=\"middle\" font-size=\"14\" text-anchor=\"middle\" x=\"390\" y=\"177\">5</text><text alignment-baseline=\"middle\" font-size=\"14\" text-anchor=\"middle\" x=\"10\" y=\"132\">6</text><text alignment-baseline=\"middle\" font-size=\"14\" text-anchor=\"middle\" x=\"390\" y=\"132\">6</text><text alignment-baseline=\"middle\" font-size=\"14\" text-anchor=\"middle\" x=\"10\" y=\"87\">7</text><text alignment-baseline=\"middle\" font-size=\"14\" text-anchor=\"middle\" x=\"390\" y=\"87\">7</text><text alignment-baseline=\"middle\" font-size=\"14\" text-anchor=\"middle\" x=\"10\" y=\"42\">8</text><text alignment-baseline=\"middle\" font-size=\"14\" text-anchor=\"middle\" x=\"390\" y=\"42\">8</text></svg>"
      ],
      "text/plain": [
       "Board('rnbqkbnr/pppppppp/8/8/3P4/8/PPP1PPPP/RNBQKBNR b KQkq - 0 1')"
      ]
     },
     "execution_count": 24,
     "metadata": {},
     "output_type": "execute_result"
    }
   ],
   "source": [
    "def first_move(game):\n",
    "    board = game.board()\n",
    "    for move in game.mainline_moves():\n",
    "        return move.uci()\n",
    "    \n",
    "def first_move_total(games):\n",
    "    all_moves = []\n",
    "    for game in games:\n",
    "        move = first_move(game)\n",
    "        all_moves.append(move)\n",
    "    return all_moves\n",
    "\n",
    "def most_common(lst):\n",
    "    return max(set(lst), key=lst.count)\n",
    "\n",
    "moves = first_move_total(games)\n",
    "board = chess.Board()\n",
    "move_uci = chess.Move.from_uci(most_common(moves))\n",
    "board.push(move_uci)\n",
    "board"
   ]
  },
  {
   "cell_type": "markdown",
   "metadata": {},
   "source": [
    "## Most active part of the board"
   ]
  },
  {
   "cell_type": "markdown",
   "metadata": {},
   "source": [
    "Number of moves made to a specific square. Which square saw the most action?"
   ]
  },
  {
   "cell_type": "code",
   "execution_count": 36,
   "metadata": {},
   "outputs": [],
   "source": [
    "pgn = open(\"KingBase2019-A80-A99.pgn\")\n",
    "games = [] \n",
    "i = 0\n",
    "while i < 4000: # had to notch it down to 4000 otherwise the heatmap would not show\n",
    "    game = chess.pgn.read_game(pgn)\n",
    "    games.append(game)\n",
    "    i += 1"
   ]
  },
  {
   "cell_type": "code",
   "execution_count": 37,
   "metadata": {},
   "outputs": [
    {
     "data": {
      "application/vnd.plotly.v1+json": {
       "config": {
        "plotlyServerURL": "https://plot.ly"
       },
       "data": [
        {
         "hoverinfo": "text",
         "text": [
          [
           "a1 - 1172",
           "b1 - 2326",
           "c1 - 3312",
           "d1 - 3930",
           "e1 - 3896",
           "f1 - 3037",
           "g1 - 1642",
           "h1 - 1371"
          ],
          [
           "a2 - 1367",
           "b2 - 3374",
           "c2 - 4298",
           "d2 - 6054",
           "e2 - 5084",
           "f2 - 3132",
           "g2 - 5502",
           "h2 - 1507"
          ],
          [
           "a3 - 3668",
           "b3 - 5168",
           "c3 - 8402",
           "d3 - 5521",
           "e3 - 6613",
           "f3 - 9643",
           "g3 - 6043",
           "h3 - 3635"
          ],
          [
           "a4 - 3858",
           "b4 - 5410",
           "c4 - 8023",
           "d4 - 10049",
           "e4 - 12113",
           "f4 - 8519",
           "g4 - 5530",
           "h4 - 3957"
          ],
          [
           "a5 - 4050",
           "b5 - 4893",
           "c5 - 7176",
           "d5 - 10351",
           "e5 - 10924",
           "f5 - 9115",
           "g5 - 6734",
           "h5 - 4095"
          ],
          [
           "a6 - 3942",
           "b6 - 4334",
           "c6 - 8051",
           "d6 - 8119",
           "e6 - 8698",
           "f6 - 10918",
           "g6 - 5464",
           "h6 - 3871"
          ],
          [
           "a7 - 1332",
           "b7 - 2847",
           "c7 - 3662",
           "d7 - 7034",
           "e7 - 6479",
           "f7 - 5352",
           "g7 - 5615",
           "h7 - 1719"
          ],
          [
           "a8 - 1086",
           "b8 - 2087",
           "c8 - 3166",
           "d8 - 3740",
           "e8 - 5255",
           "f8 - 3531",
           "g8 - 1973",
           "h8 - 2119"
          ]
         ],
         "type": "heatmap",
         "x": [
          "a",
          "b",
          "c",
          "d",
          "e",
          "f",
          "g",
          "h"
         ],
         "y": [
          1,
          2,
          3,
          4,
          5,
          6,
          7,
          8
         ],
         "z": [
          [
           1172,
           2326,
           3312,
           3930,
           3896,
           3037,
           1642,
           1371
          ],
          [
           1367,
           3374,
           4298,
           6054,
           5084,
           3132,
           5502,
           1507
          ],
          [
           3668,
           5168,
           8402,
           5521,
           6613,
           9643,
           6043,
           3635
          ],
          [
           3858,
           5410,
           8023,
           10049,
           12113,
           8519,
           5530,
           3957
          ],
          [
           4050,
           4893,
           7176,
           10351,
           10924,
           9115,
           6734,
           4095
          ],
          [
           3942,
           4334,
           8051,
           8119,
           8698,
           10918,
           5464,
           3871
          ],
          [
           1332,
           2847,
           3662,
           7034,
           6479,
           5352,
           5615,
           1719
          ],
          [
           1086,
           2087,
           3166,
           3740,
           5255,
           3531,
           1973,
           2119
          ]
         ]
        }
       ],
       "layout": {
        "template": {
         "data": {
          "bar": [
           {
            "error_x": {
             "color": "#2a3f5f"
            },
            "error_y": {
             "color": "#2a3f5f"
            },
            "marker": {
             "line": {
              "color": "#E5ECF6",
              "width": 0.5
             }
            },
            "type": "bar"
           }
          ],
          "barpolar": [
           {
            "marker": {
             "line": {
              "color": "#E5ECF6",
              "width": 0.5
             }
            },
            "type": "barpolar"
           }
          ],
          "carpet": [
           {
            "aaxis": {
             "endlinecolor": "#2a3f5f",
             "gridcolor": "white",
             "linecolor": "white",
             "minorgridcolor": "white",
             "startlinecolor": "#2a3f5f"
            },
            "baxis": {
             "endlinecolor": "#2a3f5f",
             "gridcolor": "white",
             "linecolor": "white",
             "minorgridcolor": "white",
             "startlinecolor": "#2a3f5f"
            },
            "type": "carpet"
           }
          ],
          "choropleth": [
           {
            "colorbar": {
             "outlinewidth": 0,
             "ticks": ""
            },
            "type": "choropleth"
           }
          ],
          "contour": [
           {
            "colorbar": {
             "outlinewidth": 0,
             "ticks": ""
            },
            "colorscale": [
             [
              0,
              "#0d0887"
             ],
             [
              0.1111111111111111,
              "#46039f"
             ],
             [
              0.2222222222222222,
              "#7201a8"
             ],
             [
              0.3333333333333333,
              "#9c179e"
             ],
             [
              0.4444444444444444,
              "#bd3786"
             ],
             [
              0.5555555555555556,
              "#d8576b"
             ],
             [
              0.6666666666666666,
              "#ed7953"
             ],
             [
              0.7777777777777778,
              "#fb9f3a"
             ],
             [
              0.8888888888888888,
              "#fdca26"
             ],
             [
              1,
              "#f0f921"
             ]
            ],
            "type": "contour"
           }
          ],
          "contourcarpet": [
           {
            "colorbar": {
             "outlinewidth": 0,
             "ticks": ""
            },
            "type": "contourcarpet"
           }
          ],
          "heatmap": [
           {
            "colorbar": {
             "outlinewidth": 0,
             "ticks": ""
            },
            "colorscale": [
             [
              0,
              "#0d0887"
             ],
             [
              0.1111111111111111,
              "#46039f"
             ],
             [
              0.2222222222222222,
              "#7201a8"
             ],
             [
              0.3333333333333333,
              "#9c179e"
             ],
             [
              0.4444444444444444,
              "#bd3786"
             ],
             [
              0.5555555555555556,
              "#d8576b"
             ],
             [
              0.6666666666666666,
              "#ed7953"
             ],
             [
              0.7777777777777778,
              "#fb9f3a"
             ],
             [
              0.8888888888888888,
              "#fdca26"
             ],
             [
              1,
              "#f0f921"
             ]
            ],
            "type": "heatmap"
           }
          ],
          "heatmapgl": [
           {
            "colorbar": {
             "outlinewidth": 0,
             "ticks": ""
            },
            "colorscale": [
             [
              0,
              "#0d0887"
             ],
             [
              0.1111111111111111,
              "#46039f"
             ],
             [
              0.2222222222222222,
              "#7201a8"
             ],
             [
              0.3333333333333333,
              "#9c179e"
             ],
             [
              0.4444444444444444,
              "#bd3786"
             ],
             [
              0.5555555555555556,
              "#d8576b"
             ],
             [
              0.6666666666666666,
              "#ed7953"
             ],
             [
              0.7777777777777778,
              "#fb9f3a"
             ],
             [
              0.8888888888888888,
              "#fdca26"
             ],
             [
              1,
              "#f0f921"
             ]
            ],
            "type": "heatmapgl"
           }
          ],
          "histogram": [
           {
            "marker": {
             "colorbar": {
              "outlinewidth": 0,
              "ticks": ""
             }
            },
            "type": "histogram"
           }
          ],
          "histogram2d": [
           {
            "colorbar": {
             "outlinewidth": 0,
             "ticks": ""
            },
            "colorscale": [
             [
              0,
              "#0d0887"
             ],
             [
              0.1111111111111111,
              "#46039f"
             ],
             [
              0.2222222222222222,
              "#7201a8"
             ],
             [
              0.3333333333333333,
              "#9c179e"
             ],
             [
              0.4444444444444444,
              "#bd3786"
             ],
             [
              0.5555555555555556,
              "#d8576b"
             ],
             [
              0.6666666666666666,
              "#ed7953"
             ],
             [
              0.7777777777777778,
              "#fb9f3a"
             ],
             [
              0.8888888888888888,
              "#fdca26"
             ],
             [
              1,
              "#f0f921"
             ]
            ],
            "type": "histogram2d"
           }
          ],
          "histogram2dcontour": [
           {
            "colorbar": {
             "outlinewidth": 0,
             "ticks": ""
            },
            "colorscale": [
             [
              0,
              "#0d0887"
             ],
             [
              0.1111111111111111,
              "#46039f"
             ],
             [
              0.2222222222222222,
              "#7201a8"
             ],
             [
              0.3333333333333333,
              "#9c179e"
             ],
             [
              0.4444444444444444,
              "#bd3786"
             ],
             [
              0.5555555555555556,
              "#d8576b"
             ],
             [
              0.6666666666666666,
              "#ed7953"
             ],
             [
              0.7777777777777778,
              "#fb9f3a"
             ],
             [
              0.8888888888888888,
              "#fdca26"
             ],
             [
              1,
              "#f0f921"
             ]
            ],
            "type": "histogram2dcontour"
           }
          ],
          "mesh3d": [
           {
            "colorbar": {
             "outlinewidth": 0,
             "ticks": ""
            },
            "type": "mesh3d"
           }
          ],
          "parcoords": [
           {
            "line": {
             "colorbar": {
              "outlinewidth": 0,
              "ticks": ""
             }
            },
            "type": "parcoords"
           }
          ],
          "pie": [
           {
            "automargin": true,
            "type": "pie"
           }
          ],
          "scatter": [
           {
            "marker": {
             "colorbar": {
              "outlinewidth": 0,
              "ticks": ""
             }
            },
            "type": "scatter"
           }
          ],
          "scatter3d": [
           {
            "line": {
             "colorbar": {
              "outlinewidth": 0,
              "ticks": ""
             }
            },
            "marker": {
             "colorbar": {
              "outlinewidth": 0,
              "ticks": ""
             }
            },
            "type": "scatter3d"
           }
          ],
          "scattercarpet": [
           {
            "marker": {
             "colorbar": {
              "outlinewidth": 0,
              "ticks": ""
             }
            },
            "type": "scattercarpet"
           }
          ],
          "scattergeo": [
           {
            "marker": {
             "colorbar": {
              "outlinewidth": 0,
              "ticks": ""
             }
            },
            "type": "scattergeo"
           }
          ],
          "scattergl": [
           {
            "marker": {
             "colorbar": {
              "outlinewidth": 0,
              "ticks": ""
             }
            },
            "type": "scattergl"
           }
          ],
          "scattermapbox": [
           {
            "marker": {
             "colorbar": {
              "outlinewidth": 0,
              "ticks": ""
             }
            },
            "type": "scattermapbox"
           }
          ],
          "scatterpolar": [
           {
            "marker": {
             "colorbar": {
              "outlinewidth": 0,
              "ticks": ""
             }
            },
            "type": "scatterpolar"
           }
          ],
          "scatterpolargl": [
           {
            "marker": {
             "colorbar": {
              "outlinewidth": 0,
              "ticks": ""
             }
            },
            "type": "scatterpolargl"
           }
          ],
          "scatterternary": [
           {
            "marker": {
             "colorbar": {
              "outlinewidth": 0,
              "ticks": ""
             }
            },
            "type": "scatterternary"
           }
          ],
          "surface": [
           {
            "colorbar": {
             "outlinewidth": 0,
             "ticks": ""
            },
            "colorscale": [
             [
              0,
              "#0d0887"
             ],
             [
              0.1111111111111111,
              "#46039f"
             ],
             [
              0.2222222222222222,
              "#7201a8"
             ],
             [
              0.3333333333333333,
              "#9c179e"
             ],
             [
              0.4444444444444444,
              "#bd3786"
             ],
             [
              0.5555555555555556,
              "#d8576b"
             ],
             [
              0.6666666666666666,
              "#ed7953"
             ],
             [
              0.7777777777777778,
              "#fb9f3a"
             ],
             [
              0.8888888888888888,
              "#fdca26"
             ],
             [
              1,
              "#f0f921"
             ]
            ],
            "type": "surface"
           }
          ],
          "table": [
           {
            "cells": {
             "fill": {
              "color": "#EBF0F8"
             },
             "line": {
              "color": "white"
             }
            },
            "header": {
             "fill": {
              "color": "#C8D4E3"
             },
             "line": {
              "color": "white"
             }
            },
            "type": "table"
           }
          ]
         },
         "layout": {
          "annotationdefaults": {
           "arrowcolor": "#2a3f5f",
           "arrowhead": 0,
           "arrowwidth": 1
          },
          "coloraxis": {
           "colorbar": {
            "outlinewidth": 0,
            "ticks": ""
           }
          },
          "colorscale": {
           "diverging": [
            [
             0,
             "#8e0152"
            ],
            [
             0.1,
             "#c51b7d"
            ],
            [
             0.2,
             "#de77ae"
            ],
            [
             0.3,
             "#f1b6da"
            ],
            [
             0.4,
             "#fde0ef"
            ],
            [
             0.5,
             "#f7f7f7"
            ],
            [
             0.6,
             "#e6f5d0"
            ],
            [
             0.7,
             "#b8e186"
            ],
            [
             0.8,
             "#7fbc41"
            ],
            [
             0.9,
             "#4d9221"
            ],
            [
             1,
             "#276419"
            ]
           ],
           "sequential": [
            [
             0,
             "#0d0887"
            ],
            [
             0.1111111111111111,
             "#46039f"
            ],
            [
             0.2222222222222222,
             "#7201a8"
            ],
            [
             0.3333333333333333,
             "#9c179e"
            ],
            [
             0.4444444444444444,
             "#bd3786"
            ],
            [
             0.5555555555555556,
             "#d8576b"
            ],
            [
             0.6666666666666666,
             "#ed7953"
            ],
            [
             0.7777777777777778,
             "#fb9f3a"
            ],
            [
             0.8888888888888888,
             "#fdca26"
            ],
            [
             1,
             "#f0f921"
            ]
           ],
           "sequentialminus": [
            [
             0,
             "#0d0887"
            ],
            [
             0.1111111111111111,
             "#46039f"
            ],
            [
             0.2222222222222222,
             "#7201a8"
            ],
            [
             0.3333333333333333,
             "#9c179e"
            ],
            [
             0.4444444444444444,
             "#bd3786"
            ],
            [
             0.5555555555555556,
             "#d8576b"
            ],
            [
             0.6666666666666666,
             "#ed7953"
            ],
            [
             0.7777777777777778,
             "#fb9f3a"
            ],
            [
             0.8888888888888888,
             "#fdca26"
            ],
            [
             1,
             "#f0f921"
            ]
           ]
          },
          "colorway": [
           "#636efa",
           "#EF553B",
           "#00cc96",
           "#ab63fa",
           "#FFA15A",
           "#19d3f3",
           "#FF6692",
           "#B6E880",
           "#FF97FF",
           "#FECB52"
          ],
          "font": {
           "color": "#2a3f5f"
          },
          "geo": {
           "bgcolor": "white",
           "lakecolor": "white",
           "landcolor": "#E5ECF6",
           "showlakes": true,
           "showland": true,
           "subunitcolor": "white"
          },
          "hoverlabel": {
           "align": "left"
          },
          "hovermode": "closest",
          "mapbox": {
           "style": "light"
          },
          "paper_bgcolor": "white",
          "plot_bgcolor": "#E5ECF6",
          "polar": {
           "angularaxis": {
            "gridcolor": "white",
            "linecolor": "white",
            "ticks": ""
           },
           "bgcolor": "#E5ECF6",
           "radialaxis": {
            "gridcolor": "white",
            "linecolor": "white",
            "ticks": ""
           }
          },
          "scene": {
           "xaxis": {
            "backgroundcolor": "#E5ECF6",
            "gridcolor": "white",
            "gridwidth": 2,
            "linecolor": "white",
            "showbackground": true,
            "ticks": "",
            "zerolinecolor": "white"
           },
           "yaxis": {
            "backgroundcolor": "#E5ECF6",
            "gridcolor": "white",
            "gridwidth": 2,
            "linecolor": "white",
            "showbackground": true,
            "ticks": "",
            "zerolinecolor": "white"
           },
           "zaxis": {
            "backgroundcolor": "#E5ECF6",
            "gridcolor": "white",
            "gridwidth": 2,
            "linecolor": "white",
            "showbackground": true,
            "ticks": "",
            "zerolinecolor": "white"
           }
          },
          "shapedefaults": {
           "line": {
            "color": "#2a3f5f"
           }
          },
          "ternary": {
           "aaxis": {
            "gridcolor": "white",
            "linecolor": "white",
            "ticks": ""
           },
           "baxis": {
            "gridcolor": "white",
            "linecolor": "white",
            "ticks": ""
           },
           "bgcolor": "#E5ECF6",
           "caxis": {
            "gridcolor": "white",
            "linecolor": "white",
            "ticks": ""
           }
          },
          "title": {
           "x": 0.05
          },
          "xaxis": {
           "automargin": true,
           "gridcolor": "white",
           "linecolor": "white",
           "ticks": "",
           "title": {
            "standoff": 15
           },
           "zerolinecolor": "white",
           "zerolinewidth": 2
          },
          "yaxis": {
           "automargin": true,
           "gridcolor": "white",
           "linecolor": "white",
           "ticks": "",
           "title": {
            "standoff": 15
           },
           "zerolinecolor": "white",
           "zerolinewidth": 2
          }
         }
        }
       }
      },
      "text/html": [
       "<div>\n",
       "        \n",
       "        \n",
       "            <div id=\"0ad74a5f-e210-4948-88cf-d1d058555462\" class=\"plotly-graph-div\" style=\"height:525px; width:100%;\"></div>\n",
       "            <script type=\"text/javascript\">\n",
       "                require([\"plotly\"], function(Plotly) {\n",
       "                    window.PLOTLYENV=window.PLOTLYENV || {};\n",
       "                    \n",
       "                if (document.getElementById(\"0ad74a5f-e210-4948-88cf-d1d058555462\")) {\n",
       "                    Plotly.newPlot(\n",
       "                        '0ad74a5f-e210-4948-88cf-d1d058555462',\n",
       "                        [{\"hoverinfo\": \"text\", \"text\": [[\"a1 - 1172\", \"b1 - 2326\", \"c1 - 3312\", \"d1 - 3930\", \"e1 - 3896\", \"f1 - 3037\", \"g1 - 1642\", \"h1 - 1371\"], [\"a2 - 1367\", \"b2 - 3374\", \"c2 - 4298\", \"d2 - 6054\", \"e2 - 5084\", \"f2 - 3132\", \"g2 - 5502\", \"h2 - 1507\"], [\"a3 - 3668\", \"b3 - 5168\", \"c3 - 8402\", \"d3 - 5521\", \"e3 - 6613\", \"f3 - 9643\", \"g3 - 6043\", \"h3 - 3635\"], [\"a4 - 3858\", \"b4 - 5410\", \"c4 - 8023\", \"d4 - 10049\", \"e4 - 12113\", \"f4 - 8519\", \"g4 - 5530\", \"h4 - 3957\"], [\"a5 - 4050\", \"b5 - 4893\", \"c5 - 7176\", \"d5 - 10351\", \"e5 - 10924\", \"f5 - 9115\", \"g5 - 6734\", \"h5 - 4095\"], [\"a6 - 3942\", \"b6 - 4334\", \"c6 - 8051\", \"d6 - 8119\", \"e6 - 8698\", \"f6 - 10918\", \"g6 - 5464\", \"h6 - 3871\"], [\"a7 - 1332\", \"b7 - 2847\", \"c7 - 3662\", \"d7 - 7034\", \"e7 - 6479\", \"f7 - 5352\", \"g7 - 5615\", \"h7 - 1719\"], [\"a8 - 1086\", \"b8 - 2087\", \"c8 - 3166\", \"d8 - 3740\", \"e8 - 5255\", \"f8 - 3531\", \"g8 - 1973\", \"h8 - 2119\"]], \"type\": \"heatmap\", \"x\": [\"a\", \"b\", \"c\", \"d\", \"e\", \"f\", \"g\", \"h\"], \"y\": [1, 2, 3, 4, 5, 6, 7, 8], \"z\": [[1172, 2326, 3312, 3930, 3896, 3037, 1642, 1371], [1367, 3374, 4298, 6054, 5084, 3132, 5502, 1507], [3668, 5168, 8402, 5521, 6613, 9643, 6043, 3635], [3858, 5410, 8023, 10049, 12113, 8519, 5530, 3957], [4050, 4893, 7176, 10351, 10924, 9115, 6734, 4095], [3942, 4334, 8051, 8119, 8698, 10918, 5464, 3871], [1332, 2847, 3662, 7034, 6479, 5352, 5615, 1719], [1086, 2087, 3166, 3740, 5255, 3531, 1973, 2119]]}],\n",
       "                        {\"template\": {\"data\": {\"bar\": [{\"error_x\": {\"color\": \"#2a3f5f\"}, \"error_y\": {\"color\": \"#2a3f5f\"}, \"marker\": {\"line\": {\"color\": \"#E5ECF6\", \"width\": 0.5}}, \"type\": \"bar\"}], \"barpolar\": [{\"marker\": {\"line\": {\"color\": \"#E5ECF6\", \"width\": 0.5}}, \"type\": \"barpolar\"}], \"carpet\": [{\"aaxis\": {\"endlinecolor\": \"#2a3f5f\", \"gridcolor\": \"white\", \"linecolor\": \"white\", \"minorgridcolor\": \"white\", \"startlinecolor\": \"#2a3f5f\"}, \"baxis\": {\"endlinecolor\": \"#2a3f5f\", \"gridcolor\": \"white\", \"linecolor\": \"white\", \"minorgridcolor\": \"white\", \"startlinecolor\": \"#2a3f5f\"}, \"type\": \"carpet\"}], \"choropleth\": [{\"colorbar\": {\"outlinewidth\": 0, \"ticks\": \"\"}, \"type\": \"choropleth\"}], \"contour\": [{\"colorbar\": {\"outlinewidth\": 0, \"ticks\": \"\"}, \"colorscale\": [[0.0, \"#0d0887\"], [0.1111111111111111, \"#46039f\"], [0.2222222222222222, \"#7201a8\"], [0.3333333333333333, \"#9c179e\"], [0.4444444444444444, \"#bd3786\"], [0.5555555555555556, \"#d8576b\"], [0.6666666666666666, \"#ed7953\"], [0.7777777777777778, \"#fb9f3a\"], [0.8888888888888888, \"#fdca26\"], [1.0, \"#f0f921\"]], \"type\": \"contour\"}], \"contourcarpet\": [{\"colorbar\": {\"outlinewidth\": 0, \"ticks\": \"\"}, \"type\": \"contourcarpet\"}], \"heatmap\": [{\"colorbar\": {\"outlinewidth\": 0, \"ticks\": \"\"}, \"colorscale\": [[0.0, \"#0d0887\"], [0.1111111111111111, \"#46039f\"], [0.2222222222222222, \"#7201a8\"], [0.3333333333333333, \"#9c179e\"], [0.4444444444444444, \"#bd3786\"], [0.5555555555555556, \"#d8576b\"], [0.6666666666666666, \"#ed7953\"], [0.7777777777777778, \"#fb9f3a\"], [0.8888888888888888, \"#fdca26\"], [1.0, \"#f0f921\"]], \"type\": \"heatmap\"}], \"heatmapgl\": [{\"colorbar\": {\"outlinewidth\": 0, \"ticks\": \"\"}, \"colorscale\": [[0.0, \"#0d0887\"], [0.1111111111111111, \"#46039f\"], [0.2222222222222222, \"#7201a8\"], [0.3333333333333333, \"#9c179e\"], [0.4444444444444444, \"#bd3786\"], [0.5555555555555556, \"#d8576b\"], [0.6666666666666666, \"#ed7953\"], [0.7777777777777778, \"#fb9f3a\"], [0.8888888888888888, \"#fdca26\"], [1.0, \"#f0f921\"]], \"type\": \"heatmapgl\"}], \"histogram\": [{\"marker\": {\"colorbar\": {\"outlinewidth\": 0, \"ticks\": \"\"}}, \"type\": \"histogram\"}], \"histogram2d\": [{\"colorbar\": {\"outlinewidth\": 0, \"ticks\": \"\"}, \"colorscale\": [[0.0, \"#0d0887\"], [0.1111111111111111, \"#46039f\"], [0.2222222222222222, \"#7201a8\"], [0.3333333333333333, \"#9c179e\"], [0.4444444444444444, \"#bd3786\"], [0.5555555555555556, \"#d8576b\"], [0.6666666666666666, \"#ed7953\"], [0.7777777777777778, \"#fb9f3a\"], [0.8888888888888888, \"#fdca26\"], [1.0, \"#f0f921\"]], \"type\": \"histogram2d\"}], \"histogram2dcontour\": [{\"colorbar\": {\"outlinewidth\": 0, \"ticks\": \"\"}, \"colorscale\": [[0.0, \"#0d0887\"], [0.1111111111111111, \"#46039f\"], [0.2222222222222222, \"#7201a8\"], [0.3333333333333333, \"#9c179e\"], [0.4444444444444444, \"#bd3786\"], [0.5555555555555556, \"#d8576b\"], [0.6666666666666666, \"#ed7953\"], [0.7777777777777778, \"#fb9f3a\"], [0.8888888888888888, \"#fdca26\"], [1.0, \"#f0f921\"]], \"type\": \"histogram2dcontour\"}], \"mesh3d\": [{\"colorbar\": {\"outlinewidth\": 0, \"ticks\": \"\"}, \"type\": \"mesh3d\"}], \"parcoords\": [{\"line\": {\"colorbar\": {\"outlinewidth\": 0, \"ticks\": \"\"}}, \"type\": \"parcoords\"}], \"pie\": [{\"automargin\": true, \"type\": \"pie\"}], \"scatter\": [{\"marker\": {\"colorbar\": {\"outlinewidth\": 0, \"ticks\": \"\"}}, \"type\": \"scatter\"}], \"scatter3d\": [{\"line\": {\"colorbar\": {\"outlinewidth\": 0, \"ticks\": \"\"}}, \"marker\": {\"colorbar\": {\"outlinewidth\": 0, \"ticks\": \"\"}}, \"type\": \"scatter3d\"}], \"scattercarpet\": [{\"marker\": {\"colorbar\": {\"outlinewidth\": 0, \"ticks\": \"\"}}, \"type\": \"scattercarpet\"}], \"scattergeo\": [{\"marker\": {\"colorbar\": {\"outlinewidth\": 0, \"ticks\": \"\"}}, \"type\": \"scattergeo\"}], \"scattergl\": [{\"marker\": {\"colorbar\": {\"outlinewidth\": 0, \"ticks\": \"\"}}, \"type\": \"scattergl\"}], \"scattermapbox\": [{\"marker\": {\"colorbar\": {\"outlinewidth\": 0, \"ticks\": \"\"}}, \"type\": \"scattermapbox\"}], \"scatterpolar\": [{\"marker\": {\"colorbar\": {\"outlinewidth\": 0, \"ticks\": \"\"}}, \"type\": \"scatterpolar\"}], \"scatterpolargl\": [{\"marker\": {\"colorbar\": {\"outlinewidth\": 0, \"ticks\": \"\"}}, \"type\": \"scatterpolargl\"}], \"scatterternary\": [{\"marker\": {\"colorbar\": {\"outlinewidth\": 0, \"ticks\": \"\"}}, \"type\": \"scatterternary\"}], \"surface\": [{\"colorbar\": {\"outlinewidth\": 0, \"ticks\": \"\"}, \"colorscale\": [[0.0, \"#0d0887\"], [0.1111111111111111, \"#46039f\"], [0.2222222222222222, \"#7201a8\"], [0.3333333333333333, \"#9c179e\"], [0.4444444444444444, \"#bd3786\"], [0.5555555555555556, \"#d8576b\"], [0.6666666666666666, \"#ed7953\"], [0.7777777777777778, \"#fb9f3a\"], [0.8888888888888888, \"#fdca26\"], [1.0, \"#f0f921\"]], \"type\": \"surface\"}], \"table\": [{\"cells\": {\"fill\": {\"color\": \"#EBF0F8\"}, \"line\": {\"color\": \"white\"}}, \"header\": {\"fill\": {\"color\": \"#C8D4E3\"}, \"line\": {\"color\": \"white\"}}, \"type\": \"table\"}]}, \"layout\": {\"annotationdefaults\": {\"arrowcolor\": \"#2a3f5f\", \"arrowhead\": 0, \"arrowwidth\": 1}, \"coloraxis\": {\"colorbar\": {\"outlinewidth\": 0, \"ticks\": \"\"}}, \"colorscale\": {\"diverging\": [[0, \"#8e0152\"], [0.1, \"#c51b7d\"], [0.2, \"#de77ae\"], [0.3, \"#f1b6da\"], [0.4, \"#fde0ef\"], [0.5, \"#f7f7f7\"], [0.6, \"#e6f5d0\"], [0.7, \"#b8e186\"], [0.8, \"#7fbc41\"], [0.9, \"#4d9221\"], [1, \"#276419\"]], \"sequential\": [[0.0, \"#0d0887\"], [0.1111111111111111, \"#46039f\"], [0.2222222222222222, \"#7201a8\"], [0.3333333333333333, \"#9c179e\"], [0.4444444444444444, \"#bd3786\"], [0.5555555555555556, \"#d8576b\"], [0.6666666666666666, \"#ed7953\"], [0.7777777777777778, \"#fb9f3a\"], [0.8888888888888888, \"#fdca26\"], [1.0, \"#f0f921\"]], \"sequentialminus\": [[0.0, \"#0d0887\"], [0.1111111111111111, \"#46039f\"], [0.2222222222222222, \"#7201a8\"], [0.3333333333333333, \"#9c179e\"], [0.4444444444444444, \"#bd3786\"], [0.5555555555555556, \"#d8576b\"], [0.6666666666666666, \"#ed7953\"], [0.7777777777777778, \"#fb9f3a\"], [0.8888888888888888, \"#fdca26\"], [1.0, \"#f0f921\"]]}, \"colorway\": [\"#636efa\", \"#EF553B\", \"#00cc96\", \"#ab63fa\", \"#FFA15A\", \"#19d3f3\", \"#FF6692\", \"#B6E880\", \"#FF97FF\", \"#FECB52\"], \"font\": {\"color\": \"#2a3f5f\"}, \"geo\": {\"bgcolor\": \"white\", \"lakecolor\": \"white\", \"landcolor\": \"#E5ECF6\", \"showlakes\": true, \"showland\": true, \"subunitcolor\": \"white\"}, \"hoverlabel\": {\"align\": \"left\"}, \"hovermode\": \"closest\", \"mapbox\": {\"style\": \"light\"}, \"paper_bgcolor\": \"white\", \"plot_bgcolor\": \"#E5ECF6\", \"polar\": {\"angularaxis\": {\"gridcolor\": \"white\", \"linecolor\": \"white\", \"ticks\": \"\"}, \"bgcolor\": \"#E5ECF6\", \"radialaxis\": {\"gridcolor\": \"white\", \"linecolor\": \"white\", \"ticks\": \"\"}}, \"scene\": {\"xaxis\": {\"backgroundcolor\": \"#E5ECF6\", \"gridcolor\": \"white\", \"gridwidth\": 2, \"linecolor\": \"white\", \"showbackground\": true, \"ticks\": \"\", \"zerolinecolor\": \"white\"}, \"yaxis\": {\"backgroundcolor\": \"#E5ECF6\", \"gridcolor\": \"white\", \"gridwidth\": 2, \"linecolor\": \"white\", \"showbackground\": true, \"ticks\": \"\", \"zerolinecolor\": \"white\"}, \"zaxis\": {\"backgroundcolor\": \"#E5ECF6\", \"gridcolor\": \"white\", \"gridwidth\": 2, \"linecolor\": \"white\", \"showbackground\": true, \"ticks\": \"\", \"zerolinecolor\": \"white\"}}, \"shapedefaults\": {\"line\": {\"color\": \"#2a3f5f\"}}, \"ternary\": {\"aaxis\": {\"gridcolor\": \"white\", \"linecolor\": \"white\", \"ticks\": \"\"}, \"baxis\": {\"gridcolor\": \"white\", \"linecolor\": \"white\", \"ticks\": \"\"}, \"bgcolor\": \"#E5ECF6\", \"caxis\": {\"gridcolor\": \"white\", \"linecolor\": \"white\", \"ticks\": \"\"}}, \"title\": {\"x\": 0.05}, \"xaxis\": {\"automargin\": true, \"gridcolor\": \"white\", \"linecolor\": \"white\", \"ticks\": \"\", \"title\": {\"standoff\": 15}, \"zerolinecolor\": \"white\", \"zerolinewidth\": 2}, \"yaxis\": {\"automargin\": true, \"gridcolor\": \"white\", \"linecolor\": \"white\", \"ticks\": \"\", \"title\": {\"standoff\": 15}, \"zerolinecolor\": \"white\", \"zerolinewidth\": 2}}}},\n",
       "                        {\"responsive\": true}\n",
       "                    ).then(function(){\n",
       "                            \n",
       "var gd = document.getElementById('0ad74a5f-e210-4948-88cf-d1d058555462');\n",
       "var x = new MutationObserver(function (mutations, observer) {{\n",
       "        var display = window.getComputedStyle(gd).display;\n",
       "        if (!display || display === 'none') {{\n",
       "            console.log([gd, 'removed!']);\n",
       "            Plotly.purge(gd);\n",
       "            observer.disconnect();\n",
       "        }}\n",
       "}});\n",
       "\n",
       "// Listen for the removal of the full notebook cells\n",
       "var notebookContainer = gd.closest('#notebook-container');\n",
       "if (notebookContainer) {{\n",
       "    x.observe(notebookContainer, {childList: true});\n",
       "}}\n",
       "\n",
       "// Listen for the clearing of the current output cell\n",
       "var outputEl = gd.closest('.output');\n",
       "if (outputEl) {{\n",
       "    x.observe(outputEl, {childList: true});\n",
       "}}\n",
       "\n",
       "                        })\n",
       "                };\n",
       "                });\n",
       "            </script>\n",
       "        </div>"
      ]
     },
     "metadata": {},
     "output_type": "display_data"
    }
   ],
   "source": [
    "def move_squares(game):\n",
    "    board = game.board()\n",
    "    results = {}\n",
    "    for letter in 'abcdefgh':\n",
    "        for number in range(1, 9):\n",
    "            results[letter + str(number)] = 0\n",
    "            \n",
    "    for move in game.mainline_moves():\n",
    "        if not board.is_castling(move):\n",
    "            to_ = move.uci()[2:4]\n",
    "            results[to_] += 1\n",
    "            \n",
    "    return results\n",
    "\n",
    "def move_squares_total(games):\n",
    "    results = {}\n",
    "    for letter in 'abcdefgh':\n",
    "        for number in range(1, 9):\n",
    "            results[letter + str(number)] = 0\n",
    "            \n",
    "    for game in games:\n",
    "        results_game = move_squares(game)\n",
    "        for square in results.keys():\n",
    "            results[square] += results_game[square]\n",
    "            \n",
    "    return results\n",
    "\n",
    "move_squares_dict = move_squares_total(games)\n",
    "data_ = []\n",
    "text_ = []\n",
    "for number in range(1, 9):\n",
    "    results = []\n",
    "    text_inter = []\n",
    "    for letter in 'abcdefgh':\n",
    "        results.append(move_squares_dict[letter + str(number)])\n",
    "        text_inter.append(letter + str(number) + f' - {move_squares_dict[letter + str(number)]}')\n",
    "    data_.append(results)\n",
    "    text_.append(text_inter)\n",
    "\n",
    "fig = go.Figure(data=go.Heatmap(\n",
    "                    hoverinfo='text',\n",
    "                    text=text_,\n",
    "                    z=data_,\n",
    "                    x='a b c d e f g h'.split(' '),\n",
    "                    y=[i for i in range(1, 9)]\n",
    "))\n",
    "fig.show()"
   ]
  },
  {
   "cell_type": "markdown",
   "metadata": {},
   "source": [
    "### e4 seems to be the most sociable"
   ]
  },
  {
   "cell_type": "code",
   "execution_count": 44,
   "metadata": {},
   "outputs": [],
   "source": [
    "pgn = open(\"KingBase2019-A80-A99.pgn\")\n",
    "games = [] \n",
    "i = 0\n",
    "while i < 7000:\n",
    "    game = chess.pgn.read_game(pgn)\n",
    "    games.append(game)\n",
    "    i += 1"
   ]
  },
  {
   "cell_type": "code",
   "execution_count": 45,
   "metadata": {},
   "outputs": [
    {
     "data": {
      "image/png": "[encoded data removed]",
      "text/plain": [
       "<Figure size 432x288 with 1 Axes>"
      ]
     },
     "metadata": {
      "needs_background": "light"
     },
     "output_type": "display_data"
    }
   ],
   "source": [
    "def number_wins(games):\n",
    "    results = []\n",
    "    for game in games:\n",
    "        result = game.headers[\"Result\"]\n",
    "        results.append(result)\n",
    "    return results\n",
    "\n",
    "results = number_wins(games)\n",
    "white_wins = results.count('1-0')\n",
    "black_wins = results.count('0-1')\n",
    "draws = results.count('1/2-1/2')\n",
    "\n",
    "sns.barplot(['White', 'Black', 'Draw'], [white_wins, black_wins, draws])\n",
    "plt.title('Results')\n",
    "plt.show()"
   ]
  },
  {
   "cell_type": "markdown",
   "metadata": {},
   "source": [
    "# Statistical Test"
   ]
  },
  {
   "cell_type": "markdown",
   "metadata": {},
   "source": [
    "I'm going to extract the number of moves everytime a white team won in a unique list, same for black team and for draws"
   ]
  },
  {
   "cell_type": "code",
   "execution_count": 186,
   "metadata": {},
   "outputs": [],
   "source": [
    "games_white_wins = []\n",
    "games_black_wins = []\n",
    "games_draws = []\n",
    "\n",
    "for game in games:\n",
    "     if game.headers[\"Result\"] == \"1-0\":\n",
    "            games_white_wins.append(game)\n",
    "for game2 in games:\n",
    "     if game2.headers[\"Result\"] == \"0-1\":\n",
    "            games_black_wins.append(game2)\n",
    "\n",
    "for game3 in games:\n",
    "     if game3.headers[\"Result\"] == \"1/2-1/2\":\n",
    "            games_draws.append(game3)\n",
    "            \n",
    "white_win_moves = []\n",
    "black_win_moves = []\n",
    "draws_moves = []\n",
    "\n",
    "for game in games_white_wins:\n",
    "    i = 0\n",
    "    for move in game.mainline_moves():\n",
    "        i += 1\n",
    "    white_win_moves.append(i)\n",
    "    \n",
    "for game2 in games_black_wins:\n",
    "    j = 0\n",
    "    for move2 in game2.mainline_moves():\n",
    "        j += 1\n",
    "    black_win_moves.append(j)\n",
    "    \n",
    "for game3 in games_draws:\n",
    "    k = 0\n",
    "    for move3 in game3.mainline_moves():\n",
    "        k += 1\n",
    "    draws_moves.append(k)"
   ]
  },
  {
   "cell_type": "code",
   "execution_count": 260,
   "metadata": {},
   "outputs": [
    {
     "name": "stdout",
     "output_type": "stream",
     "text": [
      "Mean moves for a white win: 83.4804469273743\n",
      "Mean moves for a black win: 86.97483307652799\n"
     ]
    }
   ],
   "source": [
    "sum = 0\n",
    "for i in white_win_moves:\n",
    "    sum += i\n",
    "    \n",
    "sum2 = 0\n",
    "for i in black_win_moves:\n",
    "    sum2 += i\n",
    "\n",
    "print(\"Mean moves for a white win:\",sum/len(white_win_moves))\n",
    "\n",
    "print(\"Mean moves for a black win:\",sum2/len(black_win_moves))"
   ]
  },
  {
   "cell_type": "markdown",
   "metadata": {},
   "source": [
    "It seems that the mean for a black win and a white win are very similar. Does the distribution exhibit normality?"
   ]
  },
  {
   "cell_type": "code",
   "execution_count": 262,
   "metadata": {
    "scrolled": true
   },
   "outputs": [
    {
     "data": {
      "text/html": [
       "<div>\n",
       "<style scoped>\n",
       "    .dataframe tbody tr th:only-of-type {\n",
       "        vertical-align: middle;\n",
       "    }\n",
       "\n",
       "    .dataframe tbody tr th {\n",
       "        vertical-align: top;\n",
       "    }\n",
       "\n",
       "    .dataframe thead th {\n",
       "        text-align: right;\n",
       "    }\n",
       "</style>\n",
       "<table border=\"1\" class=\"dataframe\">\n",
       "  <thead>\n",
       "    <tr style=\"text-align: right;\">\n",
       "      <th></th>\n",
       "      <th>Moves</th>\n",
       "    </tr>\n",
       "    <tr>\n",
       "      <th>Team</th>\n",
       "      <th></th>\n",
       "    </tr>\n",
       "  </thead>\n",
       "  <tbody>\n",
       "    <tr>\n",
       "      <th>Black</th>\n",
       "      <td>82</td>\n",
       "    </tr>\n",
       "    <tr>\n",
       "      <th>Black</th>\n",
       "      <td>108</td>\n",
       "    </tr>\n",
       "    <tr>\n",
       "      <th>Black</th>\n",
       "      <td>52</td>\n",
       "    </tr>\n",
       "    <tr>\n",
       "      <th>Black</th>\n",
       "      <td>92</td>\n",
       "    </tr>\n",
       "    <tr>\n",
       "      <th>Black</th>\n",
       "      <td>64</td>\n",
       "    </tr>\n",
       "    <tr>\n",
       "      <th>Black</th>\n",
       "      <td>66</td>\n",
       "    </tr>\n",
       "    <tr>\n",
       "      <th>Black</th>\n",
       "      <td>150</td>\n",
       "    </tr>\n",
       "    <tr>\n",
       "      <th>Black</th>\n",
       "      <td>74</td>\n",
       "    </tr>\n",
       "    <tr>\n",
       "      <th>Black</th>\n",
       "      <td>110</td>\n",
       "    </tr>\n",
       "    <tr>\n",
       "      <th>Black</th>\n",
       "      <td>82</td>\n",
       "    </tr>\n",
       "    <tr>\n",
       "      <th>Black</th>\n",
       "      <td>108</td>\n",
       "    </tr>\n",
       "    <tr>\n",
       "      <th>Black</th>\n",
       "      <td>68</td>\n",
       "    </tr>\n",
       "    <tr>\n",
       "      <th>Black</th>\n",
       "      <td>62</td>\n",
       "    </tr>\n",
       "    <tr>\n",
       "      <th>Black</th>\n",
       "      <td>76</td>\n",
       "    </tr>\n",
       "    <tr>\n",
       "      <th>Black</th>\n",
       "      <td>94</td>\n",
       "    </tr>\n",
       "    <tr>\n",
       "      <th>Black</th>\n",
       "      <td>104</td>\n",
       "    </tr>\n",
       "    <tr>\n",
       "      <th>Black</th>\n",
       "      <td>70</td>\n",
       "    </tr>\n",
       "    <tr>\n",
       "      <th>Black</th>\n",
       "      <td>58</td>\n",
       "    </tr>\n",
       "    <tr>\n",
       "      <th>Black</th>\n",
       "      <td>224</td>\n",
       "    </tr>\n",
       "    <tr>\n",
       "      <th>Black</th>\n",
       "      <td>106</td>\n",
       "    </tr>\n",
       "    <tr>\n",
       "      <th>Black</th>\n",
       "      <td>66</td>\n",
       "    </tr>\n",
       "    <tr>\n",
       "      <th>Black</th>\n",
       "      <td>110</td>\n",
       "    </tr>\n",
       "    <tr>\n",
       "      <th>Black</th>\n",
       "      <td>92</td>\n",
       "    </tr>\n",
       "    <tr>\n",
       "      <th>Black</th>\n",
       "      <td>66</td>\n",
       "    </tr>\n",
       "    <tr>\n",
       "      <th>Black</th>\n",
       "      <td>82</td>\n",
       "    </tr>\n",
       "    <tr>\n",
       "      <th>Black</th>\n",
       "      <td>62</td>\n",
       "    </tr>\n",
       "    <tr>\n",
       "      <th>Black</th>\n",
       "      <td>180</td>\n",
       "    </tr>\n",
       "    <tr>\n",
       "      <th>Black</th>\n",
       "      <td>90</td>\n",
       "    </tr>\n",
       "    <tr>\n",
       "      <th>Black</th>\n",
       "      <td>64</td>\n",
       "    </tr>\n",
       "    <tr>\n",
       "      <th>Black</th>\n",
       "      <td>70</td>\n",
       "    </tr>\n",
       "    <tr>\n",
       "      <th>...</th>\n",
       "      <td>...</td>\n",
       "    </tr>\n",
       "    <tr>\n",
       "      <th>White</th>\n",
       "      <td>59</td>\n",
       "    </tr>\n",
       "    <tr>\n",
       "      <th>White</th>\n",
       "      <td>91</td>\n",
       "    </tr>\n",
       "    <tr>\n",
       "      <th>White</th>\n",
       "      <td>145</td>\n",
       "    </tr>\n",
       "    <tr>\n",
       "      <th>White</th>\n",
       "      <td>75</td>\n",
       "    </tr>\n",
       "    <tr>\n",
       "      <th>White</th>\n",
       "      <td>91</td>\n",
       "    </tr>\n",
       "    <tr>\n",
       "      <th>White</th>\n",
       "      <td>73</td>\n",
       "    </tr>\n",
       "    <tr>\n",
       "      <th>White</th>\n",
       "      <td>47</td>\n",
       "    </tr>\n",
       "    <tr>\n",
       "      <th>White</th>\n",
       "      <td>57</td>\n",
       "    </tr>\n",
       "    <tr>\n",
       "      <th>White</th>\n",
       "      <td>114</td>\n",
       "    </tr>\n",
       "    <tr>\n",
       "      <th>White</th>\n",
       "      <td>57</td>\n",
       "    </tr>\n",
       "    <tr>\n",
       "      <th>White</th>\n",
       "      <td>143</td>\n",
       "    </tr>\n",
       "    <tr>\n",
       "      <th>White</th>\n",
       "      <td>95</td>\n",
       "    </tr>\n",
       "    <tr>\n",
       "      <th>White</th>\n",
       "      <td>59</td>\n",
       "    </tr>\n",
       "    <tr>\n",
       "      <th>White</th>\n",
       "      <td>59</td>\n",
       "    </tr>\n",
       "    <tr>\n",
       "      <th>White</th>\n",
       "      <td>71</td>\n",
       "    </tr>\n",
       "    <tr>\n",
       "      <th>White</th>\n",
       "      <td>119</td>\n",
       "    </tr>\n",
       "    <tr>\n",
       "      <th>White</th>\n",
       "      <td>87</td>\n",
       "    </tr>\n",
       "    <tr>\n",
       "      <th>White</th>\n",
       "      <td>109</td>\n",
       "    </tr>\n",
       "    <tr>\n",
       "      <th>White</th>\n",
       "      <td>79</td>\n",
       "    </tr>\n",
       "    <tr>\n",
       "      <th>White</th>\n",
       "      <td>59</td>\n",
       "    </tr>\n",
       "    <tr>\n",
       "      <th>White</th>\n",
       "      <td>45</td>\n",
       "    </tr>\n",
       "    <tr>\n",
       "      <th>White</th>\n",
       "      <td>39</td>\n",
       "    </tr>\n",
       "    <tr>\n",
       "      <th>White</th>\n",
       "      <td>61</td>\n",
       "    </tr>\n",
       "    <tr>\n",
       "      <th>White</th>\n",
       "      <td>131</td>\n",
       "    </tr>\n",
       "    <tr>\n",
       "      <th>White</th>\n",
       "      <td>91</td>\n",
       "    </tr>\n",
       "    <tr>\n",
       "      <th>White</th>\n",
       "      <td>122</td>\n",
       "    </tr>\n",
       "    <tr>\n",
       "      <th>White</th>\n",
       "      <td>97</td>\n",
       "    </tr>\n",
       "    <tr>\n",
       "      <th>White</th>\n",
       "      <td>101</td>\n",
       "    </tr>\n",
       "    <tr>\n",
       "      <th>White</th>\n",
       "      <td>43</td>\n",
       "    </tr>\n",
       "    <tr>\n",
       "      <th>White</th>\n",
       "      <td>109</td>\n",
       "    </tr>\n",
       "  </tbody>\n",
       "</table>\n",
       "<p>4811 rows × 1 columns</p>\n",
       "</div>"
      ],
      "text/plain": [
       "       Moves\n",
       "Team        \n",
       "Black     82\n",
       "Black    108\n",
       "Black     52\n",
       "Black     92\n",
       "Black     64\n",
       "Black     66\n",
       "Black    150\n",
       "Black     74\n",
       "Black    110\n",
       "Black     82\n",
       "Black    108\n",
       "Black     68\n",
       "Black     62\n",
       "Black     76\n",
       "Black     94\n",
       "Black    104\n",
       "Black     70\n",
       "Black     58\n",
       "Black    224\n",
       "Black    106\n",
       "Black     66\n",
       "Black    110\n",
       "Black     92\n",
       "Black     66\n",
       "Black     82\n",
       "Black     62\n",
       "Black    180\n",
       "Black     90\n",
       "Black     64\n",
       "Black     70\n",
       "...      ...\n",
       "White     59\n",
       "White     91\n",
       "White    145\n",
       "White     75\n",
       "White     91\n",
       "White     73\n",
       "White     47\n",
       "White     57\n",
       "White    114\n",
       "White     57\n",
       "White    143\n",
       "White     95\n",
       "White     59\n",
       "White     59\n",
       "White     71\n",
       "White    119\n",
       "White     87\n",
       "White    109\n",
       "White     79\n",
       "White     59\n",
       "White     45\n",
       "White     39\n",
       "White     61\n",
       "White    131\n",
       "White     91\n",
       "White    122\n",
       "White     97\n",
       "White    101\n",
       "White     43\n",
       "White    109\n",
       "\n",
       "[4811 rows x 1 columns]"
      ]
     },
     "execution_count": 262,
     "metadata": {},
     "output_type": "execute_result"
    }
   ],
   "source": [
    "import pandas as pd\n",
    "import numpy as np\n",
    "\n",
    "df1=pd.DataFrame(black_win_moves,columns=['Moves'])\n",
    "df1['Team'] = 'Black'\n",
    "\n",
    "\n",
    "df2=pd.DataFrame(white_win_moves,columns=['Moves'])\n",
    "df2['Team'] = 'White'\n",
    "\n",
    "df = pd.concat([df1, df2], ignore_index=True, sort =False)\n",
    "df.set_index('Team')"
   ]
  },
  {
   "cell_type": "code",
   "execution_count": 263,
   "metadata": {},
   "outputs": [
    {
     "data": {
      "text/plain": [
       "<matplotlib.axes._subplots.AxesSubplot at 0x7f0b09066400>"
      ]
     },
     "execution_count": 263,
     "metadata": {},
     "output_type": "execute_result"
    },
    {
     "data": {
      "image/png": "[encoded data removed]",
      "text/plain": [
       "<Figure size 432x288 with 1 Axes>"
      ]
     },
     "metadata": {
      "needs_background": "light"
     },
     "output_type": "display_data"
    }
   ],
   "source": [
    "sns.kdeplot(df1['Moves'], color=\"black\", label=\"Black Team Wins - Move Distributions\")\n",
    "sns.kdeplot(df2['Moves'], color=\"orange\", label=\"White Team Wins - Move Distributions\")"
   ]
  },
  {
   "cell_type": "markdown",
   "metadata": {},
   "source": [
    "Very similar distributions as seen by the kernel density plots"
   ]
  },
  {
   "cell_type": "code",
   "execution_count": 264,
   "metadata": {},
   "outputs": [
    {
     "name": "stdout",
     "output_type": "stream",
     "text": [
      "Statistics=486.251, p=0.000\n",
      "Data does not look Gaussian (reject H0)\n",
      "-----------------------------------\n",
      "Statistics=530.431, p=0.000\n",
      "Data does not look Gaussian (reject H0)\n"
     ]
    }
   ],
   "source": [
    "stat, p = stats.normaltest(df1.Moves)\n",
    "print('Statistics=%.3f, p=%.3f' % (stat, p))\n",
    "alpha = 0.05\n",
    "if p > alpha:\n",
    "    print('Data looks Gaussian (fail to reject H0)')\n",
    "else:\n",
    "    print('Data does not look Gaussian (reject H0)')\n",
    "\n",
    "print('-----------------------------------')\n",
    "stat, p = stats.normaltest(df2.Moves)\n",
    "print('Statistics=%.3f, p=%.3f' % (stat, p))\n",
    "alpha = 0.05\n",
    "if p > alpha:\n",
    "    print('Data looks Gaussian (fail to reject H0)')\n",
    "else:\n",
    "    print('Data does not look Gaussian (reject H0)')"
   ]
  },
  {
   "cell_type": "markdown",
   "metadata": {},
   "source": [
    "We will need to apply a non-parametric test, given the data does not exhibit normality"
   ]
  },
  {
   "cell_type": "code",
   "execution_count": 265,
   "metadata": {},
   "outputs": [],
   "source": [
    "df4 = np.random.permutation(df['Moves'].values) # \n",
    "df['Shuffle'] = df4\n",
    "df = df.drop(['Moves'],axis=1)"
   ]
  },
  {
   "cell_type": "code",
   "execution_count": 266,
   "metadata": {},
   "outputs": [
    {
     "data": {
      "text/html": [
       "<div>\n",
       "<style scoped>\n",
       "    .dataframe tbody tr th:only-of-type {\n",
       "        vertical-align: middle;\n",
       "    }\n",
       "\n",
       "    .dataframe tbody tr th {\n",
       "        vertical-align: top;\n",
       "    }\n",
       "\n",
       "    .dataframe thead th {\n",
       "        text-align: right;\n",
       "    }\n",
       "</style>\n",
       "<table border=\"1\" class=\"dataframe\">\n",
       "  <thead>\n",
       "    <tr style=\"text-align: right;\">\n",
       "      <th></th>\n",
       "      <th>Team</th>\n",
       "      <th>Shuffle</th>\n",
       "    </tr>\n",
       "  </thead>\n",
       "  <tbody>\n",
       "    <tr>\n",
       "      <th>0</th>\n",
       "      <td>Black</td>\n",
       "      <td>63</td>\n",
       "    </tr>\n",
       "    <tr>\n",
       "      <th>1</th>\n",
       "      <td>Black</td>\n",
       "      <td>49</td>\n",
       "    </tr>\n",
       "    <tr>\n",
       "      <th>2</th>\n",
       "      <td>Black</td>\n",
       "      <td>131</td>\n",
       "    </tr>\n",
       "    <tr>\n",
       "      <th>3</th>\n",
       "      <td>Black</td>\n",
       "      <td>72</td>\n",
       "    </tr>\n",
       "    <tr>\n",
       "      <th>4</th>\n",
       "      <td>Black</td>\n",
       "      <td>66</td>\n",
       "    </tr>\n",
       "    <tr>\n",
       "      <th>5</th>\n",
       "      <td>Black</td>\n",
       "      <td>95</td>\n",
       "    </tr>\n",
       "    <tr>\n",
       "      <th>6</th>\n",
       "      <td>Black</td>\n",
       "      <td>58</td>\n",
       "    </tr>\n",
       "    <tr>\n",
       "      <th>7</th>\n",
       "      <td>Black</td>\n",
       "      <td>79</td>\n",
       "    </tr>\n",
       "    <tr>\n",
       "      <th>8</th>\n",
       "      <td>Black</td>\n",
       "      <td>33</td>\n",
       "    </tr>\n",
       "    <tr>\n",
       "      <th>9</th>\n",
       "      <td>Black</td>\n",
       "      <td>112</td>\n",
       "    </tr>\n",
       "    <tr>\n",
       "      <th>10</th>\n",
       "      <td>Black</td>\n",
       "      <td>43</td>\n",
       "    </tr>\n",
       "    <tr>\n",
       "      <th>11</th>\n",
       "      <td>Black</td>\n",
       "      <td>65</td>\n",
       "    </tr>\n",
       "    <tr>\n",
       "      <th>12</th>\n",
       "      <td>Black</td>\n",
       "      <td>67</td>\n",
       "    </tr>\n",
       "    <tr>\n",
       "      <th>13</th>\n",
       "      <td>Black</td>\n",
       "      <td>86</td>\n",
       "    </tr>\n",
       "    <tr>\n",
       "      <th>14</th>\n",
       "      <td>Black</td>\n",
       "      <td>27</td>\n",
       "    </tr>\n",
       "    <tr>\n",
       "      <th>15</th>\n",
       "      <td>Black</td>\n",
       "      <td>122</td>\n",
       "    </tr>\n",
       "    <tr>\n",
       "      <th>16</th>\n",
       "      <td>Black</td>\n",
       "      <td>83</td>\n",
       "    </tr>\n",
       "    <tr>\n",
       "      <th>17</th>\n",
       "      <td>Black</td>\n",
       "      <td>66</td>\n",
       "    </tr>\n",
       "    <tr>\n",
       "      <th>18</th>\n",
       "      <td>Black</td>\n",
       "      <td>154</td>\n",
       "    </tr>\n",
       "    <tr>\n",
       "      <th>19</th>\n",
       "      <td>Black</td>\n",
       "      <td>162</td>\n",
       "    </tr>\n",
       "    <tr>\n",
       "      <th>20</th>\n",
       "      <td>Black</td>\n",
       "      <td>70</td>\n",
       "    </tr>\n",
       "    <tr>\n",
       "      <th>21</th>\n",
       "      <td>Black</td>\n",
       "      <td>102</td>\n",
       "    </tr>\n",
       "    <tr>\n",
       "      <th>22</th>\n",
       "      <td>Black</td>\n",
       "      <td>83</td>\n",
       "    </tr>\n",
       "    <tr>\n",
       "      <th>23</th>\n",
       "      <td>Black</td>\n",
       "      <td>61</td>\n",
       "    </tr>\n",
       "    <tr>\n",
       "      <th>24</th>\n",
       "      <td>Black</td>\n",
       "      <td>133</td>\n",
       "    </tr>\n",
       "    <tr>\n",
       "      <th>25</th>\n",
       "      <td>Black</td>\n",
       "      <td>53</td>\n",
       "    </tr>\n",
       "    <tr>\n",
       "      <th>26</th>\n",
       "      <td>Black</td>\n",
       "      <td>50</td>\n",
       "    </tr>\n",
       "    <tr>\n",
       "      <th>27</th>\n",
       "      <td>Black</td>\n",
       "      <td>75</td>\n",
       "    </tr>\n",
       "    <tr>\n",
       "      <th>28</th>\n",
       "      <td>Black</td>\n",
       "      <td>83</td>\n",
       "    </tr>\n",
       "    <tr>\n",
       "      <th>29</th>\n",
       "      <td>Black</td>\n",
       "      <td>67</td>\n",
       "    </tr>\n",
       "    <tr>\n",
       "      <th>...</th>\n",
       "      <td>...</td>\n",
       "      <td>...</td>\n",
       "    </tr>\n",
       "    <tr>\n",
       "      <th>4781</th>\n",
       "      <td>White</td>\n",
       "      <td>45</td>\n",
       "    </tr>\n",
       "    <tr>\n",
       "      <th>4782</th>\n",
       "      <td>White</td>\n",
       "      <td>79</td>\n",
       "    </tr>\n",
       "    <tr>\n",
       "      <th>4783</th>\n",
       "      <td>White</td>\n",
       "      <td>55</td>\n",
       "    </tr>\n",
       "    <tr>\n",
       "      <th>4784</th>\n",
       "      <td>White</td>\n",
       "      <td>157</td>\n",
       "    </tr>\n",
       "    <tr>\n",
       "      <th>4785</th>\n",
       "      <td>White</td>\n",
       "      <td>43</td>\n",
       "    </tr>\n",
       "    <tr>\n",
       "      <th>4786</th>\n",
       "      <td>White</td>\n",
       "      <td>94</td>\n",
       "    </tr>\n",
       "    <tr>\n",
       "      <th>4787</th>\n",
       "      <td>White</td>\n",
       "      <td>43</td>\n",
       "    </tr>\n",
       "    <tr>\n",
       "      <th>4788</th>\n",
       "      <td>White</td>\n",
       "      <td>86</td>\n",
       "    </tr>\n",
       "    <tr>\n",
       "      <th>4789</th>\n",
       "      <td>White</td>\n",
       "      <td>106</td>\n",
       "    </tr>\n",
       "    <tr>\n",
       "      <th>4790</th>\n",
       "      <td>White</td>\n",
       "      <td>86</td>\n",
       "    </tr>\n",
       "    <tr>\n",
       "      <th>4791</th>\n",
       "      <td>White</td>\n",
       "      <td>81</td>\n",
       "    </tr>\n",
       "    <tr>\n",
       "      <th>4792</th>\n",
       "      <td>White</td>\n",
       "      <td>75</td>\n",
       "    </tr>\n",
       "    <tr>\n",
       "      <th>4793</th>\n",
       "      <td>White</td>\n",
       "      <td>71</td>\n",
       "    </tr>\n",
       "    <tr>\n",
       "      <th>4794</th>\n",
       "      <td>White</td>\n",
       "      <td>117</td>\n",
       "    </tr>\n",
       "    <tr>\n",
       "      <th>4795</th>\n",
       "      <td>White</td>\n",
       "      <td>109</td>\n",
       "    </tr>\n",
       "    <tr>\n",
       "      <th>4796</th>\n",
       "      <td>White</td>\n",
       "      <td>90</td>\n",
       "    </tr>\n",
       "    <tr>\n",
       "      <th>4797</th>\n",
       "      <td>White</td>\n",
       "      <td>121</td>\n",
       "    </tr>\n",
       "    <tr>\n",
       "      <th>4798</th>\n",
       "      <td>White</td>\n",
       "      <td>83</td>\n",
       "    </tr>\n",
       "    <tr>\n",
       "      <th>4799</th>\n",
       "      <td>White</td>\n",
       "      <td>99</td>\n",
       "    </tr>\n",
       "    <tr>\n",
       "      <th>4800</th>\n",
       "      <td>White</td>\n",
       "      <td>145</td>\n",
       "    </tr>\n",
       "    <tr>\n",
       "      <th>4801</th>\n",
       "      <td>White</td>\n",
       "      <td>45</td>\n",
       "    </tr>\n",
       "    <tr>\n",
       "      <th>4802</th>\n",
       "      <td>White</td>\n",
       "      <td>90</td>\n",
       "    </tr>\n",
       "    <tr>\n",
       "      <th>4803</th>\n",
       "      <td>White</td>\n",
       "      <td>41</td>\n",
       "    </tr>\n",
       "    <tr>\n",
       "      <th>4804</th>\n",
       "      <td>White</td>\n",
       "      <td>81</td>\n",
       "    </tr>\n",
       "    <tr>\n",
       "      <th>4805</th>\n",
       "      <td>White</td>\n",
       "      <td>48</td>\n",
       "    </tr>\n",
       "    <tr>\n",
       "      <th>4806</th>\n",
       "      <td>White</td>\n",
       "      <td>159</td>\n",
       "    </tr>\n",
       "    <tr>\n",
       "      <th>4807</th>\n",
       "      <td>White</td>\n",
       "      <td>83</td>\n",
       "    </tr>\n",
       "    <tr>\n",
       "      <th>4808</th>\n",
       "      <td>White</td>\n",
       "      <td>92</td>\n",
       "    </tr>\n",
       "    <tr>\n",
       "      <th>4809</th>\n",
       "      <td>White</td>\n",
       "      <td>97</td>\n",
       "    </tr>\n",
       "    <tr>\n",
       "      <th>4810</th>\n",
       "      <td>White</td>\n",
       "      <td>65</td>\n",
       "    </tr>\n",
       "  </tbody>\n",
       "</table>\n",
       "<p>4811 rows × 2 columns</p>\n",
       "</div>"
      ],
      "text/plain": [
       "       Team  Shuffle\n",
       "0     Black       63\n",
       "1     Black       49\n",
       "2     Black      131\n",
       "3     Black       72\n",
       "4     Black       66\n",
       "5     Black       95\n",
       "6     Black       58\n",
       "7     Black       79\n",
       "8     Black       33\n",
       "9     Black      112\n",
       "10    Black       43\n",
       "11    Black       65\n",
       "12    Black       67\n",
       "13    Black       86\n",
       "14    Black       27\n",
       "15    Black      122\n",
       "16    Black       83\n",
       "17    Black       66\n",
       "18    Black      154\n",
       "19    Black      162\n",
       "20    Black       70\n",
       "21    Black      102\n",
       "22    Black       83\n",
       "23    Black       61\n",
       "24    Black      133\n",
       "25    Black       53\n",
       "26    Black       50\n",
       "27    Black       75\n",
       "28    Black       83\n",
       "29    Black       67\n",
       "...     ...      ...\n",
       "4781  White       45\n",
       "4782  White       79\n",
       "4783  White       55\n",
       "4784  White      157\n",
       "4785  White       43\n",
       "4786  White       94\n",
       "4787  White       43\n",
       "4788  White       86\n",
       "4789  White      106\n",
       "4790  White       86\n",
       "4791  White       81\n",
       "4792  White       75\n",
       "4793  White       71\n",
       "4794  White      117\n",
       "4795  White      109\n",
       "4796  White       90\n",
       "4797  White      121\n",
       "4798  White       83\n",
       "4799  White       99\n",
       "4800  White      145\n",
       "4801  White       45\n",
       "4802  White       90\n",
       "4803  White       41\n",
       "4804  White       81\n",
       "4805  White       48\n",
       "4806  White      159\n",
       "4807  White       83\n",
       "4808  White       92\n",
       "4809  White       97\n",
       "4810  White       65\n",
       "\n",
       "[4811 rows x 2 columns]"
      ]
     },
     "execution_count": 266,
     "metadata": {},
     "output_type": "execute_result"
    }
   ],
   "source": [
    "df"
   ]
  },
  {
   "cell_type": "markdown",
   "metadata": {},
   "source": [
    "Given our moves column is of a quantitative continuous type. We will apply Mann Whitney Test"
   ]
  },
  {
   "cell_type": "markdown",
   "metadata": {},
   "source": [
    "Assumptions of the Mann-Whitney test:\n",
    "\n",
    "- random samples from populations\n",
    "- independence within samples and mutual independence between samples\n",
    "- measurement scale is either ordinal or continuous"
   ]
  },
  {
   "cell_type": "markdown",
   "metadata": {},
   "source": [
    "Ho: There will be no statistically significant differences on [ordinal dependent variable name here] by [independent variable here].\n",
    "\n",
    "Ha: There will be statistically significant differences on [ordinal dependent variable name here] by [independent variable here]."
   ]
  },
  {
   "cell_type": "code",
   "execution_count": 257,
   "metadata": {},
   "outputs": [],
   "source": [
    "\n",
    "df_random = df.sample(n=1000)\n",
    "df_random = df.groupby('Team')\n",
    "\n",
    "df_black_shuffle = df_random.get_group('Black') \n",
    "df_white_shuffle = df_random.get_group('White')"
   ]
  },
  {
   "cell_type": "code",
   "execution_count": 259,
   "metadata": {},
   "outputs": [
    {
     "data": {
      "text/html": [
       "<div>\n",
       "<style scoped>\n",
       "    .dataframe tbody tr th:only-of-type {\n",
       "        vertical-align: middle;\n",
       "    }\n",
       "\n",
       "    .dataframe tbody tr th {\n",
       "        vertical-align: top;\n",
       "    }\n",
       "\n",
       "    .dataframe thead th {\n",
       "        text-align: right;\n",
       "    }\n",
       "</style>\n",
       "<table border=\"1\" class=\"dataframe\">\n",
       "  <thead>\n",
       "    <tr style=\"text-align: right;\">\n",
       "      <th></th>\n",
       "      <th>Team</th>\n",
       "      <th>Shuffle</th>\n",
       "    </tr>\n",
       "  </thead>\n",
       "  <tbody>\n",
       "    <tr>\n",
       "      <th>1947</th>\n",
       "      <td>White</td>\n",
       "      <td>71</td>\n",
       "    </tr>\n",
       "    <tr>\n",
       "      <th>1948</th>\n",
       "      <td>White</td>\n",
       "      <td>72</td>\n",
       "    </tr>\n",
       "    <tr>\n",
       "      <th>1949</th>\n",
       "      <td>White</td>\n",
       "      <td>82</td>\n",
       "    </tr>\n",
       "    <tr>\n",
       "      <th>1950</th>\n",
       "      <td>White</td>\n",
       "      <td>57</td>\n",
       "    </tr>\n",
       "    <tr>\n",
       "      <th>1951</th>\n",
       "      <td>White</td>\n",
       "      <td>70</td>\n",
       "    </tr>\n",
       "    <tr>\n",
       "      <th>1952</th>\n",
       "      <td>White</td>\n",
       "      <td>47</td>\n",
       "    </tr>\n",
       "    <tr>\n",
       "      <th>1953</th>\n",
       "      <td>White</td>\n",
       "      <td>79</td>\n",
       "    </tr>\n",
       "    <tr>\n",
       "      <th>1954</th>\n",
       "      <td>White</td>\n",
       "      <td>63</td>\n",
       "    </tr>\n",
       "    <tr>\n",
       "      <th>1955</th>\n",
       "      <td>White</td>\n",
       "      <td>140</td>\n",
       "    </tr>\n",
       "    <tr>\n",
       "      <th>1956</th>\n",
       "      <td>White</td>\n",
       "      <td>57</td>\n",
       "    </tr>\n",
       "    <tr>\n",
       "      <th>1957</th>\n",
       "      <td>White</td>\n",
       "      <td>106</td>\n",
       "    </tr>\n",
       "    <tr>\n",
       "      <th>1958</th>\n",
       "      <td>White</td>\n",
       "      <td>34</td>\n",
       "    </tr>\n",
       "    <tr>\n",
       "      <th>1959</th>\n",
       "      <td>White</td>\n",
       "      <td>100</td>\n",
       "    </tr>\n",
       "    <tr>\n",
       "      <th>1960</th>\n",
       "      <td>White</td>\n",
       "      <td>79</td>\n",
       "    </tr>\n",
       "    <tr>\n",
       "      <th>1961</th>\n",
       "      <td>White</td>\n",
       "      <td>149</td>\n",
       "    </tr>\n",
       "    <tr>\n",
       "      <th>1962</th>\n",
       "      <td>White</td>\n",
       "      <td>76</td>\n",
       "    </tr>\n",
       "    <tr>\n",
       "      <th>1963</th>\n",
       "      <td>White</td>\n",
       "      <td>78</td>\n",
       "    </tr>\n",
       "    <tr>\n",
       "      <th>1964</th>\n",
       "      <td>White</td>\n",
       "      <td>142</td>\n",
       "    </tr>\n",
       "    <tr>\n",
       "      <th>1965</th>\n",
       "      <td>White</td>\n",
       "      <td>77</td>\n",
       "    </tr>\n",
       "    <tr>\n",
       "      <th>1966</th>\n",
       "      <td>White</td>\n",
       "      <td>69</td>\n",
       "    </tr>\n",
       "    <tr>\n",
       "      <th>1967</th>\n",
       "      <td>White</td>\n",
       "      <td>135</td>\n",
       "    </tr>\n",
       "    <tr>\n",
       "      <th>1968</th>\n",
       "      <td>White</td>\n",
       "      <td>65</td>\n",
       "    </tr>\n",
       "    <tr>\n",
       "      <th>1969</th>\n",
       "      <td>White</td>\n",
       "      <td>61</td>\n",
       "    </tr>\n",
       "    <tr>\n",
       "      <th>1970</th>\n",
       "      <td>White</td>\n",
       "      <td>70</td>\n",
       "    </tr>\n",
       "    <tr>\n",
       "      <th>1971</th>\n",
       "      <td>White</td>\n",
       "      <td>85</td>\n",
       "    </tr>\n",
       "    <tr>\n",
       "      <th>1972</th>\n",
       "      <td>White</td>\n",
       "      <td>159</td>\n",
       "    </tr>\n",
       "    <tr>\n",
       "      <th>1973</th>\n",
       "      <td>White</td>\n",
       "      <td>79</td>\n",
       "    </tr>\n",
       "    <tr>\n",
       "      <th>1974</th>\n",
       "      <td>White</td>\n",
       "      <td>111</td>\n",
       "    </tr>\n",
       "    <tr>\n",
       "      <th>1975</th>\n",
       "      <td>White</td>\n",
       "      <td>89</td>\n",
       "    </tr>\n",
       "    <tr>\n",
       "      <th>1976</th>\n",
       "      <td>White</td>\n",
       "      <td>92</td>\n",
       "    </tr>\n",
       "    <tr>\n",
       "      <th>...</th>\n",
       "      <td>...</td>\n",
       "      <td>...</td>\n",
       "    </tr>\n",
       "    <tr>\n",
       "      <th>4781</th>\n",
       "      <td>White</td>\n",
       "      <td>74</td>\n",
       "    </tr>\n",
       "    <tr>\n",
       "      <th>4782</th>\n",
       "      <td>White</td>\n",
       "      <td>65</td>\n",
       "    </tr>\n",
       "    <tr>\n",
       "      <th>4783</th>\n",
       "      <td>White</td>\n",
       "      <td>101</td>\n",
       "    </tr>\n",
       "    <tr>\n",
       "      <th>4784</th>\n",
       "      <td>White</td>\n",
       "      <td>135</td>\n",
       "    </tr>\n",
       "    <tr>\n",
       "      <th>4785</th>\n",
       "      <td>White</td>\n",
       "      <td>124</td>\n",
       "    </tr>\n",
       "    <tr>\n",
       "      <th>4786</th>\n",
       "      <td>White</td>\n",
       "      <td>62</td>\n",
       "    </tr>\n",
       "    <tr>\n",
       "      <th>4787</th>\n",
       "      <td>White</td>\n",
       "      <td>55</td>\n",
       "    </tr>\n",
       "    <tr>\n",
       "      <th>4788</th>\n",
       "      <td>White</td>\n",
       "      <td>49</td>\n",
       "    </tr>\n",
       "    <tr>\n",
       "      <th>4789</th>\n",
       "      <td>White</td>\n",
       "      <td>93</td>\n",
       "    </tr>\n",
       "    <tr>\n",
       "      <th>4790</th>\n",
       "      <td>White</td>\n",
       "      <td>46</td>\n",
       "    </tr>\n",
       "    <tr>\n",
       "      <th>4791</th>\n",
       "      <td>White</td>\n",
       "      <td>92</td>\n",
       "    </tr>\n",
       "    <tr>\n",
       "      <th>4792</th>\n",
       "      <td>White</td>\n",
       "      <td>59</td>\n",
       "    </tr>\n",
       "    <tr>\n",
       "      <th>4793</th>\n",
       "      <td>White</td>\n",
       "      <td>90</td>\n",
       "    </tr>\n",
       "    <tr>\n",
       "      <th>4794</th>\n",
       "      <td>White</td>\n",
       "      <td>29</td>\n",
       "    </tr>\n",
       "    <tr>\n",
       "      <th>4795</th>\n",
       "      <td>White</td>\n",
       "      <td>115</td>\n",
       "    </tr>\n",
       "    <tr>\n",
       "      <th>4796</th>\n",
       "      <td>White</td>\n",
       "      <td>80</td>\n",
       "    </tr>\n",
       "    <tr>\n",
       "      <th>4797</th>\n",
       "      <td>White</td>\n",
       "      <td>75</td>\n",
       "    </tr>\n",
       "    <tr>\n",
       "      <th>4798</th>\n",
       "      <td>White</td>\n",
       "      <td>104</td>\n",
       "    </tr>\n",
       "    <tr>\n",
       "      <th>4799</th>\n",
       "      <td>White</td>\n",
       "      <td>100</td>\n",
       "    </tr>\n",
       "    <tr>\n",
       "      <th>4800</th>\n",
       "      <td>White</td>\n",
       "      <td>92</td>\n",
       "    </tr>\n",
       "    <tr>\n",
       "      <th>4801</th>\n",
       "      <td>White</td>\n",
       "      <td>135</td>\n",
       "    </tr>\n",
       "    <tr>\n",
       "      <th>4802</th>\n",
       "      <td>White</td>\n",
       "      <td>45</td>\n",
       "    </tr>\n",
       "    <tr>\n",
       "      <th>4803</th>\n",
       "      <td>White</td>\n",
       "      <td>71</td>\n",
       "    </tr>\n",
       "    <tr>\n",
       "      <th>4804</th>\n",
       "      <td>White</td>\n",
       "      <td>63</td>\n",
       "    </tr>\n",
       "    <tr>\n",
       "      <th>4805</th>\n",
       "      <td>White</td>\n",
       "      <td>132</td>\n",
       "    </tr>\n",
       "    <tr>\n",
       "      <th>4806</th>\n",
       "      <td>White</td>\n",
       "      <td>62</td>\n",
       "    </tr>\n",
       "    <tr>\n",
       "      <th>4807</th>\n",
       "      <td>White</td>\n",
       "      <td>56</td>\n",
       "    </tr>\n",
       "    <tr>\n",
       "      <th>4808</th>\n",
       "      <td>White</td>\n",
       "      <td>93</td>\n",
       "    </tr>\n",
       "    <tr>\n",
       "      <th>4809</th>\n",
       "      <td>White</td>\n",
       "      <td>83</td>\n",
       "    </tr>\n",
       "    <tr>\n",
       "      <th>4810</th>\n",
       "      <td>White</td>\n",
       "      <td>47</td>\n",
       "    </tr>\n",
       "  </tbody>\n",
       "</table>\n",
       "<p>2864 rows × 2 columns</p>\n",
       "</div>"
      ],
      "text/plain": [
       "       Team  Shuffle\n",
       "1947  White       71\n",
       "1948  White       72\n",
       "1949  White       82\n",
       "1950  White       57\n",
       "1951  White       70\n",
       "1952  White       47\n",
       "1953  White       79\n",
       "1954  White       63\n",
       "1955  White      140\n",
       "1956  White       57\n",
       "1957  White      106\n",
       "1958  White       34\n",
       "1959  White      100\n",
       "1960  White       79\n",
       "1961  White      149\n",
       "1962  White       76\n",
       "1963  White       78\n",
       "1964  White      142\n",
       "1965  White       77\n",
       "1966  White       69\n",
       "1967  White      135\n",
       "1968  White       65\n",
       "1969  White       61\n",
       "1970  White       70\n",
       "1971  White       85\n",
       "1972  White      159\n",
       "1973  White       79\n",
       "1974  White      111\n",
       "1975  White       89\n",
       "1976  White       92\n",
       "...     ...      ...\n",
       "4781  White       74\n",
       "4782  White       65\n",
       "4783  White      101\n",
       "4784  White      135\n",
       "4785  White      124\n",
       "4786  White       62\n",
       "4787  White       55\n",
       "4788  White       49\n",
       "4789  White       93\n",
       "4790  White       46\n",
       "4791  White       92\n",
       "4792  White       59\n",
       "4793  White       90\n",
       "4794  White       29\n",
       "4795  White      115\n",
       "4796  White       80\n",
       "4797  White       75\n",
       "4798  White      104\n",
       "4799  White      100\n",
       "4800  White       92\n",
       "4801  White      135\n",
       "4802  White       45\n",
       "4803  White       71\n",
       "4804  White       63\n",
       "4805  White      132\n",
       "4806  White       62\n",
       "4807  White       56\n",
       "4808  White       93\n",
       "4809  White       83\n",
       "4810  White       47\n",
       "\n",
       "[2864 rows x 2 columns]"
      ]
     },
     "execution_count": 259,
     "metadata": {},
     "output_type": "execute_result"
    }
   ],
   "source": [
    "df_white_shuffle"
   ]
  },
  {
   "cell_type": "code",
   "execution_count": 269,
   "metadata": {},
   "outputs": [
    {
     "name": "stdout",
     "output_type": "stream",
     "text": [
      "-----------------------------\n",
      "Same distribution (fail to reject H0) = 0\n",
      "Different distribution (reject H0) =  1000\n"
     ]
    }
   ],
   "source": [
    "fail_rej = 0\n",
    "reject = 0\n",
    "\n",
    "for i in range(1000):  # simulate 1000 times\n",
    "    df_random = np.random.permutation(df['Shuffle'].values) # shuffle price values\n",
    "    df.drop(['Shuffle'], axis=1) # \n",
    "    df['Shuffle'] = df4\n",
    "    df_shuffle = df.sample(n=1000) #taking a 1000 random samples for the shuffle list\n",
    "    df_shuffle = df.groupby('Team')\n",
    "    df_white_shuffle = df_shuffle.get_group('White') \n",
    "    df_black_shuffle = df_shuffle.get_group('Black')\n",
    "    a = df_white_shuffle['Shuffle']\n",
    "    b = df_black_shuffle['Shuffle']\n",
    "\n",
    "    stat, p = stats.mannwhitneyu(a, b)\n",
    "    alpha = 0.05\n",
    "    if p > alpha:\n",
    "        fail_rej += 1\n",
    "    else:\n",
    "        reject += 1\n",
    "print('-----------------------------')\n",
    "print(\"Same distribution (fail to reject H0) = %d\" % fail_rej)\n",
    "print(\"Different distribution (reject H0) =  %d\" % reject)\n",
    "\n",
    "\n",
    "\n",
    "\n"
   ]
  }
 ],
 "metadata": {
  "kernelspec": {
   "display_name": "Python 3",
   "language": "python",
   "name": "python3"
  },
  "language_info": {
   "codemirror_mode": {
    "name": "ipython",
    "version": 3
   },
   "file_extension": ".py",
   "mimetype": "text/x-python",
   "name": "python",
   "nbconvert_exporter": "python",
   "pygments_lexer": "ipython3",
   "version": "3.7.3"
  }
 },
 "nbformat": 4,
 "nbformat_minor": 4
}
